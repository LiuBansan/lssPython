{
 "cells": [
  {
   "cell_type": "markdown",
   "metadata": {},
   "source": [
    "# Pandas\n",
    "- Pandas是Python的一个数据分析包，它最初是被作为金融数据分析工具而开发出来的，所以，它对时间序列提供了非常好的支持。Padas做为强大的数据处理模块，它可以帮助数据分析师轻松地解决数据的预处理问题，如数据类型的转换、缺失值处理、描述性统计分析、数据汇总等。\n",
    "- pandas 的数据结构是Series、DataFrame、Panel.\n",
    "- 序列可以理解为数据集中的一个字段，数据框是指含有至少两个字段。"
   ]
  },
  {
   "cell_type": "code",
   "execution_count": null,
   "metadata": {},
   "outputs": [],
   "source": [
    "'''\n",
    "from pandas import DataFrame\n",
    "from pandas import Series\n",
    "df = DataFrame({'rge':Seriees([26,85,64]),\n",
    "                'name':Series(['Ben','Joh','Jef'])\n",
    "    })\n",
    "print(df)\n",
    "\n",
    "'''"
   ]
  },
  {
   "cell_type": "markdown",
   "metadata": {},
   "source": [
    "### series\n",
    "- 一维数组系列，也可称序列，与Numpy中的一维数组类似，二者也与Python中基本的数据结构list相近。用于存储一行或一列的数据，以及与之相关的索引的集合。"
   ]
  },
  {
   "cell_type": "code",
   "execution_count": 15,
   "metadata": {},
   "outputs": [
    {
     "name": "stdout",
     "output_type": "stream",
     "text": [
      "11\n",
      "q    11\n",
      "e    13\n",
      "r    14\n",
      "dtype: int64\n",
      "13.5\n"
     ]
    }
   ],
   "source": [
    "\n",
    "import numpy as np\n",
    "import pandas as pd\n",
    "myseries1 = pd.Series([11, 12, 13, 14, 15, 16])\n",
    "myseries2 = pd.Series([11, 12, 13, 14, 15, 16], index = [1, 2, 3, 4, 5, 6])\n",
    "myseries3 = pd.Series([11, 12, 13, 14, 15, 16], index = [\"q\", \"w\", \"e\", \"r\",\"t\",\"y\"])\n",
    "\n",
    "print(myseries3[\"q\"])\n",
    "print(myseries3[[\"q\", \"e\", \"r\"]])\n",
    "\n",
    "print(np.mean(myseries1))"
   ]
  },
  {
   "cell_type": "code",
   "execution_count": 33,
   "metadata": {},
   "outputs": [
    {
     "name": "stdout",
     "output_type": "stream",
     "text": [
      "a    一\n",
      "b    二\n",
      "c    三\n",
      "d    四\n",
      "e    五\n",
      "f    六\n",
      "dtype: object\n",
      "****************\n",
      "a    一\n",
      "b    二\n",
      "c    三\n",
      "e    五\n",
      "f    六\n",
      "dtype: object\n"
     ]
    }
   ],
   "source": [
    "series4 = pd.Series([\"一\", \"二\", \"三\", \"四\", \"五\", \"六\"],index = [\"a\", \"b\", \"c\", \"d\", \"e\", \"f\"])\n",
    "series5 = pd.Series([\"七\"])\n",
    "#series6 = pd.Series.append(series4)\n",
    "print(series4)\n",
    "\n",
    "series7 = series4.drop(\"d\")\n",
    "print(\"*\" * 16)\n",
    "print(series7)"
   ]
  },
  {
   "cell_type": "code",
   "execution_count": 35,
   "metadata": {},
   "outputs": [
    {
     "name": "stdout",
     "output_type": "stream",
     "text": [
      "a    一\n",
      "b    二\n",
      "c    3\n",
      "d    四\n",
      "e    五\n",
      "f    六\n",
      "dtype: object\n"
     ]
    }
   ],
   "source": [
    "# 赋值\n",
    "series4[2] = 3\n",
    "print(series4)"
   ]
  },
  {
   "cell_type": "markdown",
   "metadata": {},
   "source": [
    "### DataFrame 数据框\n",
    "- 数据框实际上是一个数据集，他的行代表一条观测，数据集的列代表各个变量，在一个数据框中可以存放不同的数据类型，而数组和序列没有这样的优势，他们只能存放同质的数据。\n",
    "- 二维在表格型数据结构，用于存储多行多列的数据集合，可以将DataFrame理解为Series的容器。类似于execl的二维表格。"
   ]
  },
  {
   "cell_type": "code",
   "execution_count": 40,
   "metadata": {},
   "outputs": [
    {
     "name": "stdout",
     "output_type": "stream",
     "text": [
      "套嵌列表构造：\n",
      "     0   1  2\n",
      "0  张三  23  男\n",
      "1  李四  21  女\n",
      "2  王二  26  女\n",
      "字典构造：\n",
      "    姓名  年龄 性别\n",
      "0  张三  23  男\n",
      "1  李四  21  女\n",
      "2  王二  26  女\n",
      "二维数组构造：\n",
      "     0   1  2\n",
      "0  张三  23  男\n",
      "1  李四  21  女\n",
      "2  王二  26  女\n"
     ]
    }
   ],
   "source": [
    "# 构造一个数据框：\n",
    "import numpy as np\n",
    "import pandas as pd\n",
    "\n",
    "# 通过套嵌列表或元组构造\n",
    "mydata1 = pd.DataFrame([['张三',23,'男'],['李四',21,'女'],['王二',26,'女']])\n",
    "\n",
    "# 通过字典构造\n",
    "mydata2 = pd.DataFrame({'姓名':['张三','李四','王二'],\n",
    "                        '年龄':[23,21,26],\n",
    "                        '性别':['男','女','女']})\n",
    "\n",
    "# 通过二维数组构造\n",
    "mydata3 = pd.DataFrame(np.array([['张三',23,'男'],['李四',21,'女'],['王二',26,'女']]))\n",
    "\n",
    "print('套嵌列表构造：\\n',mydata1)\n",
    "print('字典构造：\\n',mydata2)\n",
    "print('二维数组构造：\\n',mydata3)\n"
   ]
  },
  {
   "cell_type": "markdown",
   "metadata": {},
   "source": [
    "### 数据框的访问方式：\n",
    "- 访问列：变量名[列名]\n",
    "- 访问行：变量名[n: m]\n",
    "- 访问块：变量名.iloc[n1: n2,m1: m2]\n",
    "- 指定位置：变量名.at[行名，列名]"
   ]
  },
  {
   "cell_type": "code",
   "execution_count": 43,
   "metadata": {},
   "outputs": [
    {
     "name": "stdout",
     "output_type": "stream",
     "text": [
      "套嵌列表构造：\n",
      "     0   1  2\n",
      "0  张三  23  男\n",
      "1  李四  21  女\n",
      "2  王二  26  女\n",
      "访问行： \n",
      "     0   1  2\n",
      "0  张三  23  男\n",
      "1  李四  21  女\n"
     ]
    }
   ],
   "source": [
    "import numpy as np\n",
    "import pandas as pd\n",
    "\n",
    "mydata1 = pd.DataFrame([['张三',23,'男'],['李四',21,'女'],['王二',26,'女']])\n",
    "print('套嵌列表构造：\\n',mydata1)\n",
    "\n",
    "# 访问一两行\n",
    "print(\"访问行： \\n\",mydata1[0:2])"
   ]
  },
  {
   "cell_type": "markdown",
   "metadata": {},
   "source": [
    "#### 增加列\n",
    "- 如果被赋值的列不存在，则会生成一个新的列"
   ]
  },
  {
   "cell_type": "code",
   "execution_count": 48,
   "metadata": {},
   "outputs": [
    {
     "name": "stdout",
     "output_type": "stream",
     "text": [
      "    0   1  2        phone\n",
      "0  张三  23  男  136****1220\n",
      "1  李四  21  女  180****1351\n",
      "2  王二  26  女  135****1556\n"
     ]
    }
   ],
   "source": [
    "mydata1[\"phone\"] = [\"136****1220\", \"180****1351\",\"135****1556\"]\n",
    "print(mydata1)"
   ]
  },
  {
   "cell_type": "markdown",
   "metadata": {},
   "source": [
    "#### 增加行\n",
    "\n",
    "####  append\n",
    "- "
   ]
  },
  {
   "cell_type": "markdown",
   "metadata": {},
   "source": [
    "\n"
   ]
  },
  {
   "cell_type": "markdown",
   "metadata": {},
   "source": [
    "#### 删除\n",
    "- 可以用 dorp 方法根据数据删除值，如果删除多个，可以吧标签放在一个列表中。\n",
    "- 也可以用 del 删除\n",
    "\n",
    "\n",
    "#### 显示数据\n",
    "- 注意，head 和 tail 返回的是一个新的DataFrame，与原来的无关\n",
    "        \n",
    "            # 获取mydata中的前n行的数值，默认值为5\n",
    "            mydata.head(n) \n",
    "            \n",
    "            #\n",
    "            mydata.tail(n)\n",
    "            "
   ]
  },
  {
   "cell_type": "markdown",
   "metadata": {},
   "source": [
    "###  Panel\n",
    "- 三维数组，可以理解为DataFrame的容器。"
   ]
  },
  {
   "cell_type": "markdown",
   "metadata": {},
   "source": [
    "### 重建索引\n",
    "\n",
    "#### series\n",
    "- 可以使用index方法重新排序，如果调用reindex重排数据，使得它符合新的索引，如果索引值不存在，就会yinru缺失数据值\n",
    "\n",
    "#### DataFrame\n",
    "- reindex可以改变列索引、行索引，也可以同时改变二者，当仅传入一个序列时，结果中的行会重建索引。\n"
   ]
  },
  {
   "cell_type": "code",
   "execution_count": null,
   "metadata": {},
   "outputs": [],
   "source": [
    "import numpy as np\n",
    "import pandas as pd\n",
    "\n",
    "data1 = pd.DataFrame([['张三',23,'男'],['李四',21,'女'],['王二',26,'女']])\n",
    "mydata1 = pd.DataFrame(data, index = [\"a\",\"b\",\"c\"],columes = [\"name\",\"age\",\"sex\"])\n",
    "\n",
    "print(mydata1)\n",
    "print(mydata1[\"age\",\"name\"])"
   ]
  },
  {
   "cell_type": "code",
   "execution_count": null,
   "metadata": {},
   "outputs": [],
   "source": []
  }
 ],
 "metadata": {
  "kernelspec": {
   "display_name": "Python 3",
   "language": "python",
   "name": "python3"
  },
  "language_info": {
   "codemirror_mode": {
    "name": "ipython",
    "version": 3
   },
   "file_extension": ".py",
   "mimetype": "text/x-python",
   "name": "python",
   "nbconvert_exporter": "python",
   "pygments_lexer": "ipython3",
   "version": "3.7.0"
  }
 },
 "nbformat": 4,
 "nbformat_minor": 2
}
