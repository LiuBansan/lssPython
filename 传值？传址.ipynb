{
 "cells": [
  {
   "cell_type": "code",
   "execution_count": 1,
   "metadata": {},
   "outputs": [
    {
     "name": "stdout",
     "output_type": "stream",
     "text": [
      "3 [1, 2, 3, 4, 5, 6]\n",
      "1 [1, 2, 200, 4, 5, 6]\n",
      "4 [1, 2, 200, 4, 5, 6]\n",
      "5 9\n",
      "2 109\n",
      "6 9\n"
     ]
    }
   ],
   "source": [
    "##   \n",
    "# 传值与传址的区别\n",
    "# 对于简单的数值没采用传值操作，即在函数内对参数的操作不影响外面的变量\n",
    "# 对于复杂变量，采用传址操作，此对函数内的参数和外部变量是同一份内容\n",
    "# 任何地方对于此内容的更改都影响另外的变量或参数的使用\n",
    "\n",
    "\n",
    "def a(n):\n",
    "    n[2] = 200\n",
    "    print(\"1\",n)\n",
    "\n",
    "\n",
    "def b(n):\n",
    "    n += 100\n",
    "    print(\"2\",n)\n",
    "\n",
    "\n",
    "an = [1,2,3,4,5,6]\n",
    "bn = 9\n",
    "\n",
    "print(\"3\",an)\n",
    "a(an)\n",
    "print(\"4\",an)\n",
    "\n",
    "print(\"5\",bn)\n",
    "b(bn)\n",
    "print(\"6\",bn)"
   ]
  }
 ],
 "metadata": {
  "kernelspec": {
   "display_name": "Python 3",
   "language": "python",
   "name": "python3"
  },
  "language_info": {
   "codemirror_mode": {
    "name": "ipython",
    "version": 3
   },
   "file_extension": ".py",
   "mimetype": "text/x-python",
   "name": "python",
   "nbconvert_exporter": "python",
   "pygments_lexer": "ipython3",
   "version": "3.7.0"
  }
 },
 "nbformat": 4,
 "nbformat_minor": 2
}
