{
 "cells": [
  {
   "cell_type": "markdown",
   "metadata": {},
   "source": [
    "### 基本函数结构\n",
    "\n",
    "        def 函数名(参数):\n",
    "            函数体\n",
    "            return返回值\n"
   ]
  },
  {
   "cell_type": "code",
   "execution_count": 1,
   "metadata": {},
   "outputs": [
    {
     "name": "stdout",
     "output_type": "stream",
     "text": [
      "13\n"
     ]
    }
   ],
   "source": [
    "def f(x,y):\n",
    "    z=x**2+y**2\n",
    "    return z\n",
    "\n",
    "res = f(2,3)\n",
    "print (res)"
   ]
  },
  {
   "cell_type": "markdown",
   "metadata": {},
   "source": [
    "#默认参数传递\n",
    "\n",
    "        def func():\n",
    "            print(\"\")\n"
   ]
  },
  {
   "cell_type": "code",
   "execution_count": 3,
   "metadata": {},
   "outputs": [
    {
     "name": "stdout",
     "output_type": "stream",
     "text": [
      "0 34 world\n"
     ]
    }
   ],
   "source": [
    "def func(x,y=100,z='hello'):\n",
    "    print(x,y,z)\n",
    "\n",
    "func(0,34,\"world\")\n"
   ]
  },
  {
   "cell_type": "code",
   "execution_count": 4,
   "metadata": {},
   "outputs": [
    {
     "name": "stdout",
     "output_type": "stream",
     "text": [
      "刘半三有以下称呼：\n",
      "半三\n"
     ]
    }
   ],
   "source": [
    "#未知参数个数传递\n",
    "#*args,不定义变量,即未知参数个数的传递机制，只需要再参数前面加个*就可以了。\n",
    "def func (name,*args):\n",
    "    print(name+'有以下称呼：')\n",
    "    for i in args:\n",
    "        print(i)\n",
    "        \n",
    "func('刘半三','半三')"
   ]
  },
  {
   "cell_type": "code",
   "execution_count": 5,
   "metadata": {},
   "outputs": [
    {
     "name": "stdout",
     "output_type": "stream",
     "text": [
      "<class 'dict'>\n",
      "aa 1\n",
      "bb 2\n",
      "cc 3\n",
      "------------------\n",
      "<class 'dict'>\n",
      "x 1\n",
      "y 2\n",
      "z hello\n"
     ]
    }
   ],
   "source": [
    "#带键参数传递\n",
    "def func(**kwargs):\n",
    "    print(type(kwargs))\n",
    "    for i in kwargs:\n",
    "        print(i,kwargs[i])\n",
    "\n",
    "func(aa=1,bb=2,cc=3)\n",
    "print('------------------')\n",
    "func(x=1,y=2,z='hello')"
   ]
  },
  {
   "cell_type": "code",
   "execution_count": 7,
   "metadata": {},
   "outputs": [
    {
     "name": "stdout",
     "output_type": "stream",
     "text": [
      "f1函数是： 1\n",
      "f2函数是： hello, world\n"
     ]
    }
   ],
   "source": [
    "#回调函数\n",
    "def func (fun,args):\n",
    "    fun(args)\n",
    "\n",
    "def f1(x):\n",
    "    print('f1函数是：',x)\n",
    "\n",
    "def f2(x):\n",
    "    print('f2函数是：',x)\n",
    "\n",
    "func(f1,1)\n",
    "func(f2,'hello, world')"
   ]
  },
  {
   "cell_type": "code",
   "execution_count": 13,
   "metadata": {},
   "outputs": [
    {
     "name": "stdout",
     "output_type": "stream",
     "text": [
      "输入A：3\n",
      "输入B：2\n",
      "输入C：3\n",
      "该方程无解！\n"
     ]
    }
   ],
   "source": [
    "#函数的嵌套\n",
    "\n",
    "def args_input():\n",
    "    #定义输入函数\n",
    "    try :\n",
    "        A=float(input('输入A：'))\n",
    "        B=float(input('输入B：'))\n",
    "        C=float(input('输入C：'))\n",
    "        return A,B,C\n",
    "    except:     #输入出错则重新输入\n",
    "        print('请输入正确的数值类型！')\n",
    "        return args_input()     #为了出错时能够重新输入\n",
    "\n",
    "def get_delta(A,B,C):\n",
    "    #计算delta\n",
    "    return B**2-4*A*C\n",
    "def solve():\n",
    "    A,B,C = args_input()\n",
    "    delta = get_delta(A,B,C)\n",
    "    if delta <0:\n",
    "        print('该方程无解！')\n",
    "    elif delta == 0:\n",
    "        X=B/(-2*A)\n",
    "        print('x=',X)\n",
    "    else:\n",
    "        #计算x1,x2\n",
    "        x1=(B+delta**0.5)/(-2*A)\n",
    "        x2=(B-delta**0.5)/(-2*A)\n",
    "        print('x1=',x1)\n",
    "        print('x2=',x2)\n",
    "#在当前程序下直接执行本程序\n",
    "def main():\n",
    "    solve()\n",
    "if __name__=='__main__':\n",
    "        main()"
   ]
  },
  {
   "cell_type": "code",
   "execution_count": 14,
   "metadata": {},
   "outputs": [
    {
     "name": "stdout",
     "output_type": "stream",
     "text": [
      "你好 小明\n",
      "再见 小明\n"
     ]
    }
   ],
   "source": [
    "#闭包\n",
    "def say(word):\n",
    "    def name (name):\n",
    "        print(word,name)\n",
    "    return name\n",
    "\n",
    "hi = say('你好')\n",
    "hi('小明')\n",
    "\n",
    "bye = say('再见')\n",
    "bye('小明')"
   ]
  },
  {
   "cell_type": "code",
   "execution_count": 15,
   "metadata": {},
   "outputs": [
    {
     "name": "stdout",
     "output_type": "stream",
     "text": [
      "当前res值： [1, 2]\n",
      "当前res值： [1, 2, 3, 4]\n"
     ]
    }
   ],
   "source": [
    "#例子2\n",
    "def func():\n",
    "    res = []\n",
    "    def put(x):\n",
    "        res.append(x)\n",
    "    def get():\n",
    "        return res\n",
    "    return put,get\n",
    "p,g =func()\n",
    "p(1)\n",
    "p(2)\n",
    "print('当前res值：',g())\n",
    "p(3)\n",
    "p(4)\n",
    "print('当前res值：',g())\n"
   ]
  },
  {
   "cell_type": "code",
   "execution_count": 16,
   "metadata": {},
   "outputs": [
    {
     "name": "stdout",
     "output_type": "stream",
     "text": [
      "5\n",
      "25\n"
     ]
    }
   ],
   "source": [
    "#匿名函数 lambda\n",
    "#求两数之和，定义函数f(x,y)=x+y\n",
    "f = lambda x,y:x+y\n",
    "print(f(2,3))\n",
    "\n",
    "#或者这样求两数的平方和\n",
    "print((lambda x, y:x**2 + y**2)(3,4))"
   ]
  },
  {
   "cell_type": "code",
   "execution_count": 18,
   "metadata": {},
   "outputs": [
    {
     "name": "stdout",
     "output_type": "stream",
     "text": [
      "0\n",
      "1\n",
      "2\n",
      "3\n",
      "4\n",
      "5\n",
      "6\n",
      "7\n",
      "8\n",
      "9\n"
     ]
    }
   ],
   "source": [
    "#关键字yield\n",
    "def func(n):\n",
    "    i = 0\n",
    "    while i<n:\n",
    "        yield i     #为什么不是print(i)\n",
    "        i+=1\n",
    "for i in func(10):\n",
    "    print(i)"
   ]
  }
 ],
 "metadata": {
  "kernelspec": {
   "display_name": "Python 3",
   "language": "python",
   "name": "python3"
  },
  "language_info": {
   "codemirror_mode": {
    "name": "ipython",
    "version": 3
   },
   "file_extension": ".py",
   "mimetype": "text/x-python",
   "name": "python",
   "nbconvert_exporter": "python",
   "pygments_lexer": "ipython3",
   "version": "3.7.0"
  }
 },
 "nbformat": 4,
 "nbformat_minor": 2
}
