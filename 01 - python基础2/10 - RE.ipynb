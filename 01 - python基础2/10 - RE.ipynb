{
 "cells": [
  {
   "cell_type": "markdown",
   "metadata": {},
   "source": [
    "# RE 使用大致步骤\n",
    "1. 使用compilc将表示正则的式俯冲编译为一个pattern对象\n",
    "2.  通过pattern对象提供一系列方法对文本进行查找匹配，获得匹配结果，一个Match对象\n",
    "- 最后使用Match对象提供的属性和方法获得信息，根据需要进行操作\n",
    "\n",
    "## RE常用函数\n",
    "- group()：获得一个或者多个分组匹配的字符串，当要获得整个匹配的字符串时，直接使用group或者goup(0)\n",
    "- strat：获取分组的子串在整个字符串中的起始位置，参数默认为0\n",
    "- end：获取分组匹配的字串在整个字符串中的结束位子，默认值为0\n",
    "- span：返回的结构技术（start(group), end(group))"
   ]
  },
  {
   "cell_type": "code",
   "execution_count": 15,
   "metadata": {},
   "outputs": [
    {
     "name": "stdout",
     "output_type": "stream",
     "text": [
      "<re.Match object; span=(0, 3), match='one'>\n"
     ]
    }
   ],
   "source": [
    "# 导入相关包\n",
    "import  re\n",
    "\n",
    "# 查找数字\n",
    "# r表示字符串不转义\n",
    "p = re.compile(r'\\D+')\n",
    "# 在字符串\"one12towthree3345four678eight\"中进行查找，\n",
    "# 按照规则p指定的正则进行查找\n",
    "# 返回结果时None表示没有找到，否则会返回match对象\n",
    "m = p.match(\"one12towthree3345four678eight\")\n",
    "\n",
    "print(m)"
   ]
  },
  {
   "cell_type": "code",
   "execution_count": 23,
   "metadata": {},
   "outputs": [
    {
     "name": "stdout",
     "output_type": "stream",
     "text": [
      "<re.Match object; span=(3, 5), match='12'>\n"
     ]
    }
   ],
   "source": [
    "\n",
    "import  re\n",
    "p = re.compile(r'\\d+')\n",
    "\n",
    "# 参数3，6表示在字符串中查找的范围\n",
    "m = p.match(\"one12towthree3345four678eight\", 3, 26)\n",
    "\n",
    "print(m)\n",
    "\n",
    "# 上述大妈说明的问题\n",
    "# 1. match可以数额u参数表示起始位置\n",
    "# 2. 查找到的结果只包含一个，表示第一次进行匹配成功的内容"
   ]
  },
  {
   "cell_type": "code",
   "execution_count": 26,
   "metadata": {},
   "outputs": [
    {
     "name": "stdout",
     "output_type": "stream",
     "text": [
      "12\n",
      "3\n",
      "5\n"
     ]
    }
   ],
   "source": [
    "print(m[0])\n",
    "print(m.start(0))\n",
    "print(m.end(0))"
   ]
  },
  {
   "cell_type": "code",
   "execution_count": 29,
   "metadata": {},
   "outputs": [
    {
     "name": "stdout",
     "output_type": "stream",
     "text": [
      "<re.Match object; span=(0, 4), match='I am'>\n"
     ]
    }
   ],
   "source": [
    "import re \n",
    "# I表示忽略大小写\n",
    "p =re.compile(r'([a-z]+) ([a-z]+)', re.I)\n",
    "\n",
    "m =p.match(\"I am really love qx\")\n",
    "print(m)"
   ]
  },
  {
   "cell_type": "code",
   "execution_count": 40,
   "metadata": {},
   "outputs": [
    {
     "name": "stdout",
     "output_type": "stream",
     "text": [
      "I am\n",
      "0\n",
      "4\n"
     ]
    }
   ],
   "source": [
    "print(m.group(0))\n",
    "print(m.start(0))\n",
    "print(m.end(0))"
   ]
  },
  {
   "cell_type": "code",
   "execution_count": 41,
   "metadata": {},
   "outputs": [
    {
     "name": "stdout",
     "output_type": "stream",
     "text": [
      "I\n",
      "0\n",
      "1\n"
     ]
    }
   ],
   "source": [
    "print(m.group(1))\n",
    "print(m.start(1))\n",
    "print(m.end(1))"
   ]
  },
  {
   "cell_type": "code",
   "execution_count": 42,
   "metadata": {},
   "outputs": [
    {
     "name": "stdout",
     "output_type": "stream",
     "text": [
      "('I', 'am')\n"
     ]
    }
   ],
   "source": [
    "print(m.groups())"
   ]
  },
  {
   "cell_type": "markdown",
   "metadata": {},
   "source": [
    "## 查找\n",
    "- search(str, [, pos[, endpos]])：在字符串在查找匹配，pos和endpos表示其实位置\n",
    "- findall：查找所有\n",
    "- finditer：查找，返回一个iter结果\n"
   ]
  },
  {
   "cell_type": "code",
   "execution_count": 55,
   "metadata": {},
   "outputs": [
    {
     "name": "stdout",
     "output_type": "stream",
     "text": [
      "12\n"
     ]
    }
   ],
   "source": [
    "import re\n",
    "\n",
    "p = re.compile(r\"\\d+\")\n",
    "\n",
    "m = p.search(\"one12two34three567for\") \n",
    "\n",
    "print(m.group())"
   ]
  },
  {
   "cell_type": "code",
   "execution_count": 56,
   "metadata": {},
   "outputs": [
    {
     "name": "stdout",
     "output_type": "stream",
     "text": [
      "<class 'list'>\n",
      "['12', '34', '567']\n"
     ]
    }
   ],
   "source": [
    "rst = p.findall(\"one12two34three567for\") \n",
    "print(type(rst))\n",
    "print(rst)"
   ]
  },
  {
   "cell_type": "markdown",
   "metadata": {},
   "source": [
    "## sub 替换\n",
    "- sub(repl, str[,count])"
   ]
  },
  {
   "cell_type": "code",
   "execution_count": 59,
   "metadata": {},
   "outputs": [
    {
     "name": "stdout",
     "output_type": "stream",
     "text": [
      "hello world hello world hong, hello world you \n"
     ]
    }
   ],
   "source": [
    "# sub替换案例\n",
    "import re\n",
    "p =re.compile(r\"(\\w+) (\\w+)\")\n",
    "\n",
    "s = \"hello 123 xiao 456 hong, i love you \"\n",
    "\n",
    "rst = p.sub(r\"hello world\", s)\n",
    "print(rst)"
   ]
  },
  {
   "cell_type": "markdown",
   "metadata": {},
   "source": [
    "## 匹配中文\n",
    "- 大部分中文内容表示范围时[u4e00-u9fa5]，不包括全角标点"
   ]
  },
  {
   "cell_type": "code",
   "execution_count": 66,
   "metadata": {},
   "outputs": [
    {
     "name": "stdout",
     "output_type": "stream",
     "text": [
      "['世界', '你好']\n"
     ]
    }
   ],
   "source": [
    "import re\n",
    "\n",
    "litle = u'世界 你好， hello moto'\n",
    "\n",
    "p = re.compile(r'[\\u4e00-\\u9fa5]+')\n",
    "rat = p.findall(litle)\n",
    "print(rat)"
   ]
  },
  {
   "cell_type": "markdown",
   "metadata": {},
   "source": [
    "## 贪婪和非贪婪\n",
    "- 贪婪：尽可能多的匹配，(*)表示贪婪匹配\n",
    "- 非贪婪：找到符合条件的最小内容即可，(?)表示非贪婪\n",
    "- 正则默认使用贪婪匹配"
   ]
  },
  {
   "cell_type": "code",
   "execution_count": 69,
   "metadata": {},
   "outputs": [
    {
     "name": "stdout",
     "output_type": "stream",
     "text": [
      "<div>name</div> <div>age</div>\n",
      "<div>name</div>\n"
     ]
    }
   ],
   "source": [
    "import re \n",
    "title = u'<div>name</div> <div>age</div>'\n",
    "\n",
    "\n",
    "p1 = re.compile(r\"<div>.*</div>\")\n",
    "p2 = re.compile(r\"<div>.*?</div>\")\n",
    "\n",
    "m1 = p1.search(title)\n",
    "print(m1.group())\n",
    "\n",
    "m2 = p2.search(title)\n",
    "print(m2.group())"
   ]
  },
  {
   "cell_type": "code",
   "execution_count": null,
   "metadata": {},
   "outputs": [],
   "source": []
  },
  {
   "cell_type": "code",
   "execution_count": null,
   "metadata": {},
   "outputs": [],
   "source": []
  },
  {
   "cell_type": "code",
   "execution_count": null,
   "metadata": {},
   "outputs": [],
   "source": []
  },
  {
   "cell_type": "code",
   "execution_count": null,
   "metadata": {},
   "outputs": [],
   "source": []
  },
  {
   "cell_type": "code",
   "execution_count": null,
   "metadata": {},
   "outputs": [],
   "source": []
  },
  {
   "cell_type": "code",
   "execution_count": null,
   "metadata": {},
   "outputs": [],
   "source": []
  },
  {
   "cell_type": "code",
   "execution_count": null,
   "metadata": {},
   "outputs": [],
   "source": []
  }
 ],
 "metadata": {
  "kernelspec": {
   "display_name": "Python 3",
   "language": "python",
   "name": "python3"
  },
  "language_info": {
   "codemirror_mode": {
    "name": "ipython",
    "version": 3
   },
   "file_extension": ".py",
   "mimetype": "text/x-python",
   "name": "python",
   "nbconvert_exporter": "python",
   "pygments_lexer": "ipython3",
   "version": "3.7.1"
  }
 },
 "nbformat": 4,
 "nbformat_minor": 2
}
