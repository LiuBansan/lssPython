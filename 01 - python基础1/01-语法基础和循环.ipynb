{
 "cells": [
  {
   "cell_type": "markdown",
   "metadata": {},
   "source": [
    "## 字符串\n",
    " - 转义字符\n",
    " - 格式化\n",
    " - 内建函数\n",
    " \n",
    "## 转义字符\n",
    " - 用一个特殊的方法表示出一系列不方便的内容，比如回车键，换行键，退格键\n",
    " - 借助反斜杠字符，一旦字符串中出现反斜杠，\n",
    " \n"
   ]
  },
  {
   "cell_type": "code",
   "execution_count": 1,
   "metadata": {},
   "outputs": [
    {
     "name": "stdout",
     "output_type": "stream",
     "text": [
      "i love you\n"
     ]
    }
   ],
   "source": [
    "s = 'i love you'\n",
    "print(s)"
   ]
  },
  {
   "cell_type": "code",
   "execution_count": 6,
   "metadata": {},
   "outputs": [
    {
     "name": "stdout",
     "output_type": "stream",
     "text": [
      "let's go\n",
      "let's go\n"
     ]
    }
   ],
   "source": [
    "# 1.可以使用嵌套引号，即外层使用双引号。\n",
    "# 2.转义字符\n",
    "s = \"let's go\"\n",
    "print(s)\n",
    "\n",
    "s = 'let\\'s go'\n",
    "print(s)"
   ]
  },
  {
   "cell_type": "code",
   "execution_count": 4,
   "metadata": {
    "scrolled": true
   },
   "outputs": [
    {
     "name": "stdout",
     "output_type": "stream",
     "text": [
      " I love \n",
      " you\n"
     ]
    }
   ],
   "source": [
    "#  \\n 换行符\n",
    "s = \" I love \\n you\"\n",
    "print(s)"
   ]
  },
  {
   "cell_type": "markdown",
   "metadata": {},
   "source": [
    "## 字符串的格式化\n",
    " - 把字符串按照一定的格式打印或者填充\n",
    " - 格式化有两种方法\n",
    "   - 利用百分号\n",
    "   - 利用format函数"
   ]
  },
  {
   "cell_type": "code",
   "execution_count": 7,
   "metadata": {},
   "outputs": [],
   "source": [
    "s = 'xxx, 你好！'"
   ]
  },
  {
   "cell_type": "markdown",
   "metadata": {},
   "source": [
    "## 利用百分号格式化\n",
    " - 利用 % 表示一个特殊的含义，表示对字符进行格式化\n",
    " - %d 此处应该放入一个整数\n",
    " - %s 表示此处应该放入一个字符串"
   ]
  },
  {
   "cell_type": "code",
   "execution_count": 12,
   "metadata": {},
   "outputs": [
    {
     "name": "stdout",
     "output_type": "stream",
     "text": [
      "I love %s\n"
     ]
    }
   ],
   "source": [
    "s = \"I love %s\"\n",
    "# %s 当成一个字符串打印出来了\n",
    "print(s)"
   ]
  },
  {
   "cell_type": "code",
   "execution_count": 15,
   "metadata": {},
   "outputs": [
    {
     "name": "stdout",
     "output_type": "stream",
     "text": [
      "I love wangxiaojing\n"
     ]
    }
   ],
   "source": [
    "print('I love %s'%'wangxiaojing')"
   ]
  },
  {
   "cell_type": "code",
   "execution_count": 17,
   "metadata": {},
   "outputs": [
    {
     "name": "stdout",
     "output_type": "stream",
     "text": [
      "I love wangxiaojing\n"
     ]
    }
   ],
   "source": [
    "print(s%'wangxiaojing')"
   ]
  },
  {
   "cell_type": "code",
   "execution_count": 23,
   "metadata": {},
   "outputs": [
    {
     "name": "stdout",
     "output_type": "stream",
     "text": [
      "I am %d years old\n",
      "I am 20 years old\n"
     ]
    }
   ],
   "source": [
    "s = 'I am %d years old'\n",
    "# 留意区别\n",
    "print(s)\n",
    "print(s%20)"
   ]
  },
  {
   "cell_type": "code",
   "execution_count": 28,
   "metadata": {},
   "outputs": [
    {
     "name": "stdout",
     "output_type": "stream",
     "text": [
      "I am %s, i am %d years old\n",
      "I am liushasha, i am 20 years old\n"
     ]
    }
   ],
   "source": [
    "s = 'I am %s, i am %d years old'\n",
    "print(s)\n",
    "# 注意以下表达出错的原因\n",
    "# 如果字符串 占位符，则有几个占位符必须要有几个实际内容代替，或者一个也不要\n",
    "# 多个占位符，用括号将内容括起来\n",
    "print(s%(\"liushasha\",20))"
   ]
  },
  {
   "cell_type": "markdown",
   "metadata": {},
   "source": [
    "## format 函数格式化字符串\n",
    " - 直接用format函数进行格式化\n",
    " - 以{} 和 ： 代替%号，后面用format带参数完成"
   ]
  },
  {
   "cell_type": "code",
   "execution_count": 42,
   "metadata": {},
   "outputs": [
    {
     "name": "stdout",
     "output_type": "stream",
     "text": [
      "I love you\n",
      "Yes, i am 18 years old, I love You and I am 18 years old\n"
     ]
    }
   ],
   "source": [
    "s = \"I love {}\".format(\"you\")\n",
    "print(s)\n",
    "# 注意是 .format\n",
    "s = \"Yes, i am {1} years old, I love {0} and I am {1} years old\".format(\"You\",18)\n",
    "print(s)"
   ]
  },
  {
   "cell_type": "markdown",
   "metadata": {},
   "source": [
    "## None\n",
    " - 表示什么都没有\n",
    " - 如果函数没有返回值，可以返回None\n",
    " - 用来占位置\n",
    " - 用来接触变量绑定"
   ]
  },
  {
   "cell_type": "markdown",
   "metadata": {},
   "source": [
    "##  表达式\n",
    " - 有一个或者几个数字或者变量运算符组合的一个代码\n",
    " - 通常会返回一个结果\n",
    "## 运算符\n",
    " - 有一个以上的之通过变换得到新值的过程叫运算\n",
    " - 用于运算的符号叫运算符\n",
    " - 运算符分类：\n",
    "   - 算数运算符\n",
    "   - 比较或者关系运算符\n",
    "   - 数值运算符\n",
    "   - 逻辑运算符\n",
    "   - 位运算\n",
    "   - 成员运算符\n",
    "   - 身份运算符"
   ]
  },
  {
   "cell_type": "markdown",
   "metadata": {},
   "source": [
    "## 算数运算符\n",
    " - 进行算数运算的符号\n",
    " - python没有自增自减运算符"
   ]
  },
  {
   "cell_type": "code",
   "execution_count": 56,
   "metadata": {},
   "outputs": [
    {
     "name": "stdout",
     "output_type": "stream",
     "text": [
      "9.428571428571429\n",
      "1\n",
      "2\n",
      "6561\n",
      "27\n"
     ]
    }
   ],
   "source": [
    "\n",
    "# + - 和平常一样\n",
    "a = 9+3-18/7\n",
    "print(a)\n",
    "# 在python2.x he python3.x 中，除号（/）结果是不一样，此处以3系列为准。\n",
    "\n",
    "# % 取余运算\n",
    "# 两数相除应该有些余数\n",
    "# % 只会得到余数\n",
    "a = 9 % 2\n",
    "print (a)\n",
    "\n",
    "# // 表示取商运算，也叫地板除\n",
    "a = 9 // 4\n",
    "print(a)\n",
    "\n",
    "# ** 表示幂运算\n",
    "a = 9 ** 4\n",
    "print(a)\n",
    "a = 3 ** 3\n",
    "print(a)"
   ]
  },
  {
   "cell_type": "markdown",
   "metadata": {},
   "source": [
    "## 比较运算符\n",
    " - 对两个变量或者数值进行比较的运算符\n",
    " - 比较的结果是布尔值，即True/False"
   ]
  },
  {
   "cell_type": "code",
   "execution_count": 59,
   "metadata": {},
   "outputs": [
    {
     "name": "stdout",
     "output_type": "stream",
     "text": [
      "False\n",
      "True\n"
     ]
    }
   ],
   "source": [
    "# ==，等于号\n",
    "a = 3 ** 4\n",
    "# 1. 计算 a == 80\n",
    "# 2. 把结果放入b中\n",
    "b = a == 80\n",
    "print(b)\n",
    "\n",
    "\n",
    "#!=  不等于\n",
    "print( 9 != 8 )"
   ]
  },
  {
   "cell_type": "markdown",
   "metadata": {},
   "source": [
    "## 赋值运算符"
   ]
  },
  {
   "cell_type": "code",
   "execution_count": 62,
   "metadata": {},
   "outputs": [
    {
     "name": "stdout",
     "output_type": "stream",
     "text": [
      "7\n"
     ]
    }
   ],
   "source": [
    "# = ，赋值\n",
    "a = 0 \n",
    "c = a = 8 \n",
    "# +=  是一种缩写\n",
    "a = 0 \n",
    "a += 7  #缩写 a = a + 7\n",
    "print(a)\n",
    "\n",
    "\n",
    "#所有数学运算符都有缩写形式\n",
    "#+=， *=， /=，//=，%=，等等"
   ]
  },
  {
   "cell_type": "markdown",
   "metadata": {},
   "source": [
    "## 逻辑运算符\n",
    " - 对布尔值进行计算的符号\n",
    " - or 或\n",
    " - not 非\n",
    " - python中逻辑运算在没有异或运算\n",
    " - 运算规则：\n",
    "   - and 看作乘法，or 看作加法\n",
    "   - True看作1，False看作0\n",
    "   - 逻辑运算就能转换成数字运算\n",
    "   - 最后结果如果是0即为False，否则为True\n",
    "  - 逻辑运算的短路问题\n",
    "    - 逻辑运算式，按照运算顺序，一旦能够确定整个式子未来的值，即不再进行计算，直接返回\n",
    " "
   ]
  },
  {
   "cell_type": "code",
   "execution_count": 71,
   "metadata": {},
   "outputs": [
    {
     "name": "stdout",
     "output_type": "stream",
     "text": [
      "True\n",
      "True\n"
     ]
    }
   ],
   "source": [
    "a = True\n",
    "b = False\n",
    "c = True\n",
    "\n",
    "# d = 1 * 0 + 1\n",
    "d = a and b or c\n",
    "print(d)\n",
    "\n",
    "d = a or b and a\n",
    "print(d)"
   ]
  },
  {
   "cell_type": "code",
   "execution_count": 73,
   "metadata": {},
   "outputs": [
    {
     "ename": "SyntaxError",
     "evalue": "invalid syntax (<ipython-input-73-b60fd412245e>, line 9)",
     "output_type": "error",
     "traceback": [
      "\u001b[1;36m  File \u001b[1;32m\"<ipython-input-73-b60fd412245e>\"\u001b[1;36m, line \u001b[1;32m9\u001b[0m\n\u001b[1;33m    a = a or (b=9) and 6\u001b[0m\n\u001b[1;37m               ^\u001b[0m\n\u001b[1;31mSyntaxError\u001b[0m\u001b[1;31m:\u001b[0m invalid syntax\n"
     ]
    }
   ],
   "source": [
    "# 逻辑短路\n",
    "#\n",
    "#下面的逻辑表达式，a的值一定是True，则运行到or的时候，整个表达式不再向下计算\n",
    "a = True or xxxxxxxx\n",
    "\n",
    "#如果xxx中包含赋值表达式，到结果很难预期\n",
    "#代码示例（伪代码）\n",
    "b = 0\n",
    "a = a or (b=9) and 6\n",
    "#假定上面的表达式如果没有语法错误\n",
    "# 则b最终的值应该是0而不是9\n"
   ]
  },
  {
   "cell_type": "markdown",
   "metadata": {},
   "source": [
    "## 成员运算符号\n",
    " - 用来检测某个变量是否是另一个变量的成员\n",
    " - in\n",
    " - not in"
   ]
  },
  {
   "cell_type": "code",
   "execution_count": 76,
   "metadata": {},
   "outputs": [
    {
     "name": "stdout",
     "output_type": "stream",
     "text": [
      "True\n",
      "False\n"
     ]
    }
   ],
   "source": [
    "q = [1,2,3,4]\n",
    "a = 7\n",
    "\n",
    "b = a in q\n",
    "c = a not in q\n",
    "print(c)\n",
    "print(b)"
   ]
  },
  {
   "cell_type": "markdown",
   "metadata": {},
   "source": [
    "## 身份运算\n",
    " - is：用来检测两个变量是否是同一个变量\n",
    "   - 语法就是 var1 is var2\n",
    " - is not：两个变量不是同一个变量"
   ]
  },
  {
   "cell_type": "code",
   "execution_count": 79,
   "metadata": {},
   "outputs": [
    {
     "name": "stdout",
     "output_type": "stream",
     "text": [
      "True\n",
      "False\n"
     ]
    }
   ],
   "source": [
    "a = 9\n",
    "b = 9\n",
    "print(a is b)\n",
    "\n",
    "a = 'I love You'\n",
    "b = 'I love You'\n",
    "print(a is b)"
   ]
  },
  {
   "cell_type": "markdown",
   "metadata": {},
   "source": [
    "## 运算符的优先级问题\n",
    " - 永远记住，括号具有最高优先级\n",
    " - 优先级表格 \n",
    "     \n",
    "         **  指数 (最高优先级)\n",
    "         ~ + -   按位翻转, 一元加号和减号 (最后两个的方法名为 +@ 和 -@)\n",
    "         * / % //    乘，除，取模和取整除\n",
    "         + - 加法减法\n",
    "         >> <<   右移，左移运算符\n",
    "         &   位 'AND'\n",
    "         ^ | 位运算符\n",
    "         <= < > >=   比较运算符\n",
    "         == !=    等于运算符\n",
    "         = %= /= //= -= += *= **=    赋值运算符\n",
    "         is is not   身份运算符\n",
    "         in not in   成员运算符\n",
    "         not or and  逻辑运算符"
   ]
  },
  {
   "cell_type": "markdown",
   "metadata": {},
   "source": [
    "## 程序结构\n",
    " - 顺序\n",
    " - 分支\n",
    " - 循环 "
   ]
  },
  {
   "cell_type": "markdown",
   "metadata": {},
   "source": [
    "## 分支\n",
    " - 分支的基本语法\n",
    "         \n",
    "         if 条件表达式:\n",
    "             语句1\n",
    "             语句2\n",
    "             语句3\n",
    "             ……\n",
    " - 条件表达式就是计算结果必须为布尔值的表达式\n",
    " - 表达式后面的冒号不能少\n",
    " - 注意if后面出现的语句，如果属于if语句块，则必须同一个缩进级别\n",
    " - 条件表达式结果为True执行if后面的缩进语句块\n",
    " "
   ]
  },
  {
   "cell_type": "code",
   "execution_count": 87,
   "metadata": {},
   "outputs": [
    {
     "name": "stdout",
     "output_type": "stream",
     "text": [
      "去叫家长吧，孩子\n",
      "我们不带你玩！\n",
      "你妈叫你回家吃饭啦！\n"
     ]
    }
   ],
   "source": [
    "# if语句练习\n",
    "# 如果age小于18岁，则打印信息”去叫家长“\n",
    "\n",
    "age = 17 \n",
    "if age < 18:\n",
    "    print('去叫家长吧，孩子')\n",
    "    print('我们不带你玩！')\n",
    "    print(\"你妈叫你回家吃饭啦！\")"
   ]
  },
  {
   "cell_type": "code",
   "execution_count": 88,
   "metadata": {},
   "outputs": [
    {
     "name": "stdout",
     "output_type": "stream",
     "text": [
      "开始上车喽，老司机们\n"
     ]
    }
   ],
   "source": [
    "# if语句练习\n",
    "# 如果age小于18岁，则打印信息”去叫家长“\n",
    "\n",
    "age = 19\n",
    "if age < 18:\n",
    "    print('去叫家长吧，孩子')\n",
    "    print('我们不带你玩！')\n",
    "    print(\"你妈叫你回家吃饭啦\")\n",
    "    \n",
    "print(\"开始上车喽，老司机们\")"
   ]
  },
  {
   "cell_type": "code",
   "execution_count": 91,
   "metadata": {},
   "outputs": [
    {
     "name": "stdout",
     "output_type": "stream",
     "text": [
      "今天学习for循环\n",
      "开始敲代码\n"
     ]
    }
   ],
   "source": [
    "print(\"今天学习for循环\")\n",
    "gender = \"男\"\n",
    "if gender == \"女\":\n",
    "    print(\"你今天很漂亮\")\n",
    "print(\"开始敲代码\")"
   ]
  },
  {
   "cell_type": "markdown",
   "metadata": {},
   "source": [
    "## 双向分支\n",
    " - if...else...语句\n",
    "         \n",
    "         if 条件表达式\n",
    "             语句1\n",
    "             语句2\n",
    "             ...\n",
    "         else:\n",
    "             语句1\n",
    "             语句2\n",
    "             ...\n",
    " - 双向分支有两个分支，当程序执行到if...else...语句的时候，一定会执行if或else中的一个，但仅执行一个\n",
    " - 缩进问题，if 和 else 必须是同一个级别，其余语句一个级别"
   ]
  },
  {
   "cell_type": "code",
   "execution_count": 110,
   "metadata": {},
   "outputs": [
    {
     "name": "stdout",
     "output_type": "stream",
     "text": [
      "请输入性别：\n",
      "你的性别是：\n",
      "今天放假，不用上课！\n",
      "开始上课了\n"
     ]
    }
   ],
   "source": [
    "gender = input(\"请输入性别：\")\n",
    "print(\"你的性别是：{0}\".format(gender))\n",
    "\n",
    "if gender ==\"男\":\n",
    "    print(\"来，我们今天代码敲十遍\")\n",
    "else:\n",
    "    print(\"今天放假，不用上课！\")\n",
    "print (\"开始上课了\")"
   ]
  },
  {
   "cell_type": "markdown",
   "metadata": {},
   "source": [
    "##"
   ]
  },
  {
   "cell_type": "markdown",
   "metadata": {},
   "source": [
    "## 多路分支\n",
    " - 很多分支的情况，简称多路分支\n",
    "         \n",
    "         if 条件语句：\n",
    "             语句1\n",
    "             ...\n",
    "         elif 条件语句：\n",
    "             语句1\n",
    "             ...\n",
    "         ......\n",
    "         else:\n",
    "             语句1\n",
    "             ...\n",
    " - elif 可以有很多\n",
    " - else可选\n",
    " - 多路分支只会选一个执行"
   ]
  },
  {
   "cell_type": "code",
   "execution_count": 122,
   "metadata": {},
   "outputs": [
    {
     "name": "stdout",
     "output_type": "stream",
     "text": [
      "请输入你的成绩：80\n",
      "优秀\n"
     ]
    }
   ],
   "source": [
    "# 考试成绩并判断\n",
    "# 80以上：优秀\n",
    "# 70-80：良\n",
    "# 60-70：及格\n",
    "# 60以下：不及格\n",
    "\n",
    "# score 存放学生成绩\n",
    "# 注意input的返回值类型\n",
    "score = input(\"请输入你的成绩：\")\n",
    "#需要把str转换成int\n",
    "score = int(score)\n",
    "if score >= 80:\n",
    "    print(\"优秀\")\n",
    "elif score >= 70:\n",
    "    print(\"良\")\n",
    "elif score >= 60:\n",
    "    print(\"及格\")\n",
    "else: \n",
    "    print(\"凉凉\")\n",
    "    "
   ]
  },
  {
   "cell_type": "markdown",
   "metadata": {},
   "source": [
    "## if语句其他：\n",
    " - if 语句可以嵌套使用，不建议\n",
    " - python没有switch-case语句\n"
   ]
  },
  {
   "cell_type": "markdown",
   "metadata": {},
   "source": [
    "## 循环语句\n",
    " - 重复执行某些固定动作或者处理基本固定的事物\n",
    " - 分类\n",
    "   - for 循环\n",
    "   - while 循环\n",
    "## for 循环\n",
    " - for循环\n",
    "         for 变量 in 序列：\n",
    "             语句1\n",
    "             语句2\n",
    "             ..."
   ]
  },
  {
   "cell_type": "code",
   "execution_count": null,
   "metadata": {},
   "outputs": [],
   "source": []
  },
  {
   "cell_type": "code",
   "execution_count": 129,
   "metadata": {},
   "outputs": [
    {
     "name": "stdout",
     "output_type": "stream",
     "text": [
      "张三\n",
      "同学我们不约，不约，同学请自重\n",
      "李四\n",
      "同学我们不约，不约，同学请自重\n",
      "王五\n",
      "同学我们不约，不约，同学请自重\n",
      "静静\n",
      "我的最爱静静出现了\n"
     ]
    }
   ],
   "source": [
    "# 列表就是一列数字或者其他值，一般用中括号表示\n",
    "# 例如 ['zhangsan','lisi','wangwu','zhaoliu']\n",
    "\n",
    "#打印学生列表姓名\n",
    "#如果是静静，那肯定是我的最爱呀，\n",
    "# 如果是别的学生，那就要冷酷地拒绝\n",
    "for name in ['张三','李四','王五','静静']:\n",
    "    print(name)\n",
    "    if name ==\"静静\":\n",
    "        print(\"我的最爱{0}出现了\".format(name))\n",
    "    else:\n",
    "        print(\"同学我们不约，不约，同学请自重\")"
   ]
  },
  {
   "cell_type": "markdown",
   "metadata": {},
   "source": [
    "## range 介绍\n",
    " - 生成一个数字序列\n",
    " - 具体范围可以设定"
   ]
  },
  {
   "cell_type": "code",
   "execution_count": 135,
   "metadata": {},
   "outputs": [
    {
     "name": "stdout",
     "output_type": "stream",
     "text": [
      "1\n",
      "2\n",
      "3\n",
      "4\n",
      "5\n",
      "6\n",
      "7\n",
      "8\n",
      "9\n",
      "10\n"
     ]
    }
   ],
   "source": [
    "# range 练习\n",
    "# 从1-10的数字\n",
    "#注意，一般在python中，如果有表示数字范围的两个数，一般是包含左边数字，不包含右边数字\n",
    "#randint是特例，他左右包含\n",
    "# range函数在python2 和python3中有严重区别\n",
    "for i in range(1,11):\n",
    "    print(i)"
   ]
  },
  {
   "cell_type": "markdown",
   "metadata": {},
   "source": [
    "## for-else语句\n",
    " - 当for循环结束的时候，会执行else语句\n",
    " - else语句是可选语句"
   ]
  },
  {
   "cell_type": "code",
   "execution_count": 143,
   "metadata": {},
   "outputs": [
    {
     "name": "stdout",
     "output_type": "stream",
     "text": [
      "张三\n",
      "同学我们不约，不约，同学请自重\n",
      "李四\n",
      "同学我们不约，不约，同学请自重\n",
      "王五\n",
      "同学我们不约，不约，同学请自重\n",
      "静静\n",
      "我的最爱静静出现了\n",
      "别的同学我都不认识，不会在爱了\n"
     ]
    }
   ],
   "source": [
    "# for-else 语句\n",
    "#如果没有在列表中，或者列表结束了，我们需要打印提示语，表示不上课了\n",
    "\n",
    "#打印学生列表姓名\n",
    "#如果是静静，那肯定是我的最爱呀，\n",
    "# 如果是别的学生，那就要冷酷地拒绝\n",
    "for name in ['张三','李四','王五','静静']:\n",
    "    print(name)\n",
    "    if name ==\"静静\":\n",
    "        print(\"我的最爱{0}出现了\".format(name))\n",
    "    else:\n",
    "        print(\"同学我们不约，不约，同学请自重\")\n",
    "else:\n",
    "    print(\"别的同学我都不认识，不会在爱了\")"
   ]
  },
  {
   "cell_type": "markdown",
   "metadata": {},
   "source": [
    "## for 循环之break, contineu,pass\n",
    " - break：无条件结束整个循环，自称循环猝死\n",
    " - contineu: 无条件结束本次循环，从新进入下一轮循环\n",
    " - pass：表示略过，占位符"
   ]
  },
  {
   "cell_type": "code",
   "execution_count": 150,
   "metadata": {},
   "outputs": [
    {
     "name": "stdout",
     "output_type": "stream",
     "text": [
      "1\n",
      "2\n",
      "3\n",
      "4\n",
      "5\n",
      "6\n",
      "我找到了\n"
     ]
    }
   ],
   "source": [
    "# 在数字1-10中，寻找数字7，一旦找到，打印出来，其余则什么都不是做\n",
    "# for 循环中的变量表示，一般用i,k,m,n,或折indx，idx，item之类\n",
    "# python中，如果循环变量名称不重要，可以用下划线_代替\n",
    "for i in range(1,11):\n",
    "    if i == 7:\n",
    "        print(\"我找到了\")\n",
    "        break\n",
    "    else:\n",
    "        print(i)"
   ]
  },
  {
   "cell_type": "code",
   "execution_count": 152,
   "metadata": {},
   "outputs": [
    {
     "name": "stdout",
     "output_type": "stream",
     "text": [
      "2是偶数\n",
      "4是偶数\n",
      "6是偶数\n",
      "8是偶数\n",
      "10是偶数\n"
     ]
    }
   ],
   "source": [
    "# continue 语句练习\n",
    "# 在数学1-10中，寻找搜友偶数，找到偶数后打印偶数\n",
    "# 本例子完整显示continue的用法和作用\n",
    "for i in range(1,11):\n",
    "    if i % 2 == 1:\n",
    "        continue\n",
    "    \n",
    "    print(\"{0}是偶数\".format(i))"
   ]
  },
  {
   "cell_type": "code",
   "execution_count": 155,
   "metadata": {},
   "outputs": [
    {
     "name": "stdout",
     "output_type": "stream",
     "text": [
      "这里有坑\n",
      "这里有坑\n",
      "这里有坑\n",
      "这里有坑\n",
      "这里有坑\n",
      "这里有坑\n",
      "这里有坑\n",
      "这里有坑\n",
      "这里有坑\n",
      "这里有坑\n"
     ]
    }
   ],
   "source": [
    "# pass例子，一般用于占位\n",
    "\n",
    "for i in range(1,11):\n",
    "    pass\n",
    "    print (\"这里有坑\")"
   ]
  },
  {
   "cell_type": "code",
   "execution_count": null,
   "metadata": {},
   "outputs": [],
   "source": []
  },
  {
   "cell_type": "code",
   "execution_count": null,
   "metadata": {},
   "outputs": [],
   "source": []
  }
 ],
 "metadata": {
  "kernelspec": {
   "display_name": "Python 3",
   "language": "python",
   "name": "python3"
  },
  "language_info": {
   "codemirror_mode": {
    "name": "ipython",
    "version": 3
   },
   "file_extension": ".py",
   "mimetype": "text/x-python",
   "name": "python",
   "nbconvert_exporter": "python",
   "pygments_lexer": "ipython3",
   "version": "3.7.0"
  }
 },
 "nbformat": 4,
 "nbformat_minor": 2
}
{
 "cells": [
  {
   "cell_type": "markdown",
   "metadata": {},
   "source": [
    "## while 循环\n",
    " - 一个循环语句\n",
    " - 表示当某个条件成立的时候，就循环\n",
    " - 不知道具体循环次数，但是能确定循环的成立条件的时候用while循环\n",
    " - while语法：\n",
    "         \n",
    "         while 条件表达式：\n",
    "         语句块\n",
    "         \n",
    "         # 另外一种表达式：\n",
    "         while 条件表达式：\n",
    "             语句块1\n",
    "         else：\n",
    "             语句块2\n",
    "             \n",
    "         \n",
    "         \n",
    "         \n",
    "         "
   ]
  },
  {
   "cell_type": "code",
   "execution_count": 6,
   "metadata": {},
   "outputs": [
    {
     "name": "stdout",
     "output_type": "stream",
     "text": [
      "第1年拿了10670.0块钱\n",
      "第2年拿了11384.89块钱\n",
      "第3年拿了12147.677629999998块钱\n",
      "第4年拿了12961.572031209998块钱\n",
      "第5年拿了13829.997357301068块钱\n",
      "第6年拿了14756.607180240238块钱\n",
      "第7年拿了15745.299861316334块钱\n",
      "第8年拿了16800.23495202453块钱\n",
      "第9年拿了17925.85069381017块钱\n",
      "第10年拿了19126.88269029545块钱\n",
      "第11年拿了20408.383830545245块钱\n"
     ]
    }
   ],
   "source": [
    "# 如果说年利率是6.7%，本利润每年翻滚，则多少年后本钱会翻倍 \n",
    "\n",
    "benqian = 10000\n",
    "year =0\n",
    "while benqian < 20000:\n",
    "    benqian = benqian * (1+0.067)\n",
    "    year += 1\n",
    "    print (\"第{0}年拿了{1}块钱\".format(year,benqian))"
   ]
  },
  {
   "cell_type": "code",
   "execution_count": 5,
   "metadata": {},
   "outputs": [
    {
     "name": "stdout",
     "output_type": "stream",
     "text": [
      "第 1 年拿了 10670.0 块钱\n",
      "第 2 年拿了 11384.89 块钱\n",
      "第 3 年拿了 12147.677629999998 块钱\n",
      "第 4 年拿了 12961.572031209998 块钱\n",
      "第 5 年拿了 13829.997357301068 块钱\n",
      "第 6 年拿了 14756.607180240238 块钱\n",
      "第 7 年拿了 15745.299861316334 块钱\n",
      "第 8 年拿了 16800.23495202453 块钱\n",
      "第 9 年拿了 17925.85069381017 块钱\n",
      "第 10 年拿了 19126.88269029545 块钱\n",
      "第 11 年拿了 20408.383830545245 块钱\n",
      "终于翻倍了，都10多年了\n"
     ]
    }
   ],
   "source": [
    "# 如果说年利率是6.7%，本利润每年翻滚，则多少年后本钱会翻倍 \n",
    "# 如果拿到的钱翻倍，则用print庆祝一下\n",
    "benqian = 10000\n",
    "year =0\n",
    "while benqian < 20000:\n",
    "    benqian = benqian * (1+0.067)\n",
    "    year += 1\n",
    "    print (\"第 {0} 年拿了 {1} 块钱\".format(year,benqian))\n",
    "else:\n",
    "    print(\"终于翻倍了，都10多年了\")"
   ]
  }
