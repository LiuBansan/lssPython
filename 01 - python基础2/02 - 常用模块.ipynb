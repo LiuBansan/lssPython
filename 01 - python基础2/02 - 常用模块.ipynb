{
 "cells": [
  {
   "cell_type": "markdown",
   "metadata": {},
   "source": [
    "# 常用模块\n",
    "- calendar\n",
    "- time\n",
    "- datatime\n",
    "- timeit\n",
    "- os\n",
    "- shutil\n",
    "- zip\n",
    "- math\n",
    "- string\n",
    "- 上述所有模块使用理论上都应该先导入，string是特例\n",
    "- calendar， time， datatime的区别参考中文意思\n",
    "\n"
   ]
  },
  {
   "cell_type": "markdown",
   "metadata": {},
   "source": [
    "##  calendar\n",
    "- 跟日历相关的模块"
   ]
  },
  {
   "cell_type": "code",
   "execution_count": 2,
   "metadata": {},
   "outputs": [],
   "source": [
    "# 使用需要导入\n",
    "import calendar"
   ]
  },
  {
   "cell_type": "code",
   "execution_count": 7,
   "metadata": {},
   "outputs": [
    {
     "name": "stdout",
     "output_type": "stream",
     "text": [
      "<class 'str'>\n"
     ]
    }
   ],
   "source": [
    "#  calendar : 获取一年的日历字符串\n",
    "# 参数\n",
    "# w = 每个日期之间的间隔字符数\n",
    "# l = 每周所占用的行数\n",
    "# c = 每个月之间的间隔字符数\n",
    "cal = calendar.calendar(2019)\n",
    "print(type(cal))\n",
    "#print(cal)"
   ]
  },
  {
   "cell_type": "code",
   "execution_count": 21,
   "metadata": {},
   "outputs": [
    {
     "name": "stdout",
     "output_type": "stream",
     "text": [
      "                                                2018\n",
      "\n",
      "      January                                 February                                 March\n",
      "Mo Tu We Th Fr Sa Su                    Mo Tu We Th Fr Sa Su                    Mo Tu We Th Fr Sa Su\n",
      " 1  2  3  4  5  6  7                              1  2  3  4                              1  2  3  4\n",
      " 8  9 10 11 12 13 14                     5  6  7  8  9 10 11                     5  6  7  8  9 10 11\n",
      "15 16 17 18 19 20 21                    12 13 14 15 16 17 18                    12 13 14 15 16 17 18\n",
      "22 23 24 25 26 27 28                    19 20 21 22 23 24 25                    19 20 21 22 23 24 25\n",
      "29 30 31                                26 27 28                                26 27 28 29 30 31\n",
      "\n",
      "       April                                    May                                     June\n",
      "Mo Tu We Th Fr Sa Su                    Mo Tu We Th Fr Sa Su                    Mo Tu We Th Fr Sa Su\n",
      "                   1                        1  2  3  4  5  6                                 1  2  3\n",
      " 2  3  4  5  6  7  8                     7  8  9 10 11 12 13                     4  5  6  7  8  9 10\n",
      " 9 10 11 12 13 14 15                    14 15 16 17 18 19 20                    11 12 13 14 15 16 17\n",
      "16 17 18 19 20 21 22                    21 22 23 24 25 26 27                    18 19 20 21 22 23 24\n",
      "23 24 25 26 27 28 29                    28 29 30 31                             25 26 27 28 29 30\n",
      "30\n",
      "\n",
      "        July                                   August                                September\n",
      "Mo Tu We Th Fr Sa Su                    Mo Tu We Th Fr Sa Su                    Mo Tu We Th Fr Sa Su\n",
      "                   1                           1  2  3  4  5                                    1  2\n",
      " 2  3  4  5  6  7  8                     6  7  8  9 10 11 12                     3  4  5  6  7  8  9\n",
      " 9 10 11 12 13 14 15                    13 14 15 16 17 18 19                    10 11 12 13 14 15 16\n",
      "16 17 18 19 20 21 22                    20 21 22 23 24 25 26                    17 18 19 20 21 22 23\n",
      "23 24 25 26 27 28 29                    27 28 29 30 31                          24 25 26 27 28 29 30\n",
      "30 31\n",
      "\n",
      "      October                                 November                                December\n",
      "Mo Tu We Th Fr Sa Su                    Mo Tu We Th Fr Sa Su                    Mo Tu We Th Fr Sa Su\n",
      " 1  2  3  4  5  6  7                              1  2  3  4                                    1  2\n",
      " 8  9 10 11 12 13 14                     5  6  7  8  9 10 11                     3  4  5  6  7  8  9\n",
      "15 16 17 18 19 20 21                    12 13 14 15 16 17 18                    10 11 12 13 14 15 16\n",
      "22 23 24 25 26 27 28                    19 20 21 22 23 24 25                    17 18 19 20 21 22 23\n",
      "29 30 31                                26 27 28 29 30                          24 25 26 27 28 29 30\n",
      "                                                                                31\n",
      "\n"
     ]
    }
   ],
   "source": [
    "cal = calendar.calendar(2018, w = 2, l = 0, c = 20)\n",
    "print(cal)"
   ]
  },
  {
   "cell_type": "code",
   "execution_count": 22,
   "metadata": {},
   "outputs": [
    {
     "data": {
      "text/plain": [
       "True"
      ]
     },
     "execution_count": 22,
     "metadata": {},
     "output_type": "execute_result"
    }
   ],
   "source": [
    "#  isleap：获取某一年是否闰年\n",
    "calendar.isleap(2000)"
   ]
  },
  {
   "cell_type": "code",
   "execution_count": 23,
   "metadata": {},
   "outputs": [
    {
     "data": {
      "text/plain": [
       "4"
      ]
     },
     "execution_count": 23,
     "metadata": {},
     "output_type": "execute_result"
    }
   ],
   "source": [
    "#  leapdays：获取指定年份之间的闰年的个数\n",
    "calendar.leapdays(2001,2018)"
   ]
  },
  {
   "cell_type": "code",
   "execution_count": 25,
   "metadata": {},
   "outputs": [
    {
     "name": "stdout",
     "output_type": "stream",
     "text": [
      "Help on function leapdays in module calendar:\n",
      "\n",
      "leapdays(y1, y2)\n",
      "    Return number of leap years in range [y1, y2).\n",
      "    Assume y1 <= y2.\n",
      "\n"
     ]
    }
   ],
   "source": [
    "help(calendar.leapdays)"
   ]
  },
  {
   "cell_type": "code",
   "execution_count": 28,
   "metadata": {},
   "outputs": [
    {
     "name": "stdout",
     "output_type": "stream",
     "text": [
      "   December 2018\n",
      "Mo Tu We Th Fr Sa Su\n",
      "                1  2\n",
      " 3  4  5  6  7  8  9\n",
      "10 11 12 13 14 15 16\n",
      "17 18 19 20 21 22 23\n",
      "24 25 26 27 28 29 30\n",
      "31\n",
      "\n"
     ]
    }
   ],
   "source": [
    "# month()：获取某个月的日历字符串\n",
    "# 格式：calendar.month(年，月)\n",
    "# 回值：月日历的字符串\n",
    "\n",
    "m12 = calendar.month(2018,12)\n",
    "print(m12)"
   ]
  },
  {
   "cell_type": "code",
   "execution_count": 31,
   "metadata": {},
   "outputs": [
    {
     "name": "stdout",
     "output_type": "stream",
     "text": [
      "5\n",
      "31\n"
     ]
    }
   ],
   "source": [
    "# monthrange()：获取一个月的周几开始即和天数\n",
    "# 格式：calendar.monthrange(年，月)\n",
    "# 回值：元组（周几开始，总天数）\n",
    "# 注意：周默认 0-6 表示周一到周天\n",
    "w, t = calendar.monthrange(2018,12)\n",
    "print(w)\n",
    "print(t)"
   ]
  },
  {
   "cell_type": "code",
   "execution_count": 35,
   "metadata": {},
   "outputs": [
    {
     "name": "stdout",
     "output_type": "stream",
     "text": [
      "<class 'list'>\n",
      "[[0, 0, 0, 0, 0, 1, 2], [3, 4, 5, 6, 7, 8, 9], [10, 11, 12, 13, 14, 15, 16], [17, 18, 19, 20, 21, 22, 23], [24, 25, 26, 27, 28, 29, 30], [31, 0, 0, 0, 0, 0, 0]]\n"
     ]
    }
   ],
   "source": [
    "# monthcalendar()：返回一个月的矩阵列表\n",
    "# 格式：calendar.monthcalendar(年，月)\n",
    "# 回值：二级列表\n",
    "# 注意：矩阵中没有天数用0表示\n",
    "m = calendar.monthcalendar(2018, 12)\n",
    "print(type(m))\n",
    "print(m)\n",
    "\n"
   ]
  },
  {
   "cell_type": "code",
   "execution_count": 39,
   "metadata": {},
   "outputs": [
    {
     "name": "stdout",
     "output_type": "stream",
     "text": [
      "Help on method pryear in module calendar:\n",
      "\n",
      "pryear(theyear, w=0, l=0, c=6, m=3) method of calendar.TextCalendar instance\n",
      "    Print a year's calendar.\n",
      "\n"
     ]
    }
   ],
   "source": [
    "# prcal：print calendar 直接打印日历\n",
    "#alendar.prcal(2019)\n",
    "help(calendar.prcal)"
   ]
  },
  {
   "cell_type": "code",
   "execution_count": 41,
   "metadata": {},
   "outputs": [
    {
     "name": "stdout",
     "output_type": "stream",
     "text": [
      "   December 2018\n",
      "Mo Tu We Th Fr Sa Su\n",
      "                1  2\n",
      " 3  4  5  6  7  8  9\n",
      "10 11 12 13 14 15 16\n",
      "17 18 19 20 21 22 23\n",
      "24 25 26 27 28 29 30\n",
      "31\n"
     ]
    }
   ],
   "source": [
    "# prmonth()：接打印整个月的日历\n",
    "# 格式：calendar.prmonth(年，月)\n",
    "# 返回值：无,\n",
    "calendar.prmonth(2018,12)"
   ]
  },
  {
   "cell_type": "code",
   "execution_count": 43,
   "metadata": {},
   "outputs": [
    {
     "data": {
      "text/plain": [
       "3"
      ]
     },
     "execution_count": 43,
     "metadata": {},
     "output_type": "execute_result"
    }
   ],
   "source": [
    "# weekday() 获取周几\n",
    "# 格式：calendar.weekday(年，月，日)\n",
    "# f返回值：周几对应的数字\n",
    "calendar.weekday(2018, 12, 13)"
   ]
  },
  {
   "cell_type": "markdown",
   "metadata": {},
   "source": [
    "## time 模块\n",
    "\n",
    "### 时间戳\n",
    "        - 一个时间表示，根据不同语言，可以是整数或者是浮点数\n",
    "        - 是从1970年1月1日0时0分0秒到现在经历的秒数\n",
    "        - 如果表示的时间时1970年以前或者太遥远的未来，可能出现异常\n",
    "        - 32位操作系统能够支持到2038年\n",
    "        \n",
    "###  UTC时间\n",
    "        - UTC又称为时间协调时间，以英国的格林尼治天文台所在地区的时间作为参考时间，也叫做世界标准时间\n",
    "        - 中国时间是 UTC+8 东八区\n",
    " \n",
    "### 夏令时\n",
    "        - 夏令时就是在夏天的时候将时间调快一小时，本意是督促大家早睡早起节省蜡烛！每天变成25小时，本质没变还是24小时\n",
    "        \n",
    "### 时间元组\n",
    "        - 一个包含时间内容的普通元组\n",
    "        \n",
    "        \n",
    "         索引        内容              属性                  值\n",
    " \n",
    "        0              年              tm_year              2015\n",
    "        1               月              tm_mon             1～12\n",
    "        2              日              tm_mday            1～31\n",
    "        3              时              tm_hour             0～23\n",
    "        4              分              tm_min              0～59\n",
    "        5              秒              tm_sec               0～61  60表示闰秒  61保留值\n",
    "        6              周几          tm_wday             0～6\n",
    "        7              第几天       tm_yday             1～366\n",
    "        8              夏令时       tm_isdst              0，1，-1（表示夏令时）\n",
    "        "
   ]
  },
  {
   "cell_type": "code",
   "execution_count": 44,
   "metadata": {},
   "outputs": [],
   "source": [
    "# 需要单独导入\n",
    "import time"
   ]
  },
  {
   "cell_type": "code",
   "execution_count": 54,
   "metadata": {},
   "outputs": [
    {
     "name": "stdout",
     "output_type": "stream",
     "text": [
      "-28800\n",
      "0\n"
     ]
    }
   ],
   "source": [
    "# 时间模块的属性\n",
    "# timezone：当前时区和UTC时间相差的秒数，在没有夏令时的情况下的时间间隔\n",
    "# altzone：获取当前时区和UTC时间相差的秒数，在有夏令时的情况下\n",
    "# daylight：检测当前是否是夏令时时间状态，0表示是\n",
    "\n",
    "print(time.timezone)\n",
    "\n",
    "print(time.daylight)"
   ]
  },
  {
   "cell_type": "code",
   "execution_count": 62,
   "metadata": {},
   "outputs": [
    {
     "data": {
      "text/plain": [
       "1544713775.5010064"
      ]
     },
     "execution_count": 62,
     "metadata": {},
     "output_type": "execute_result"
    }
   ],
   "source": [
    "# 得到时间戳\n",
    "time.time()"
   ]
  },
  {
   "cell_type": "code",
   "execution_count": 69,
   "metadata": {},
   "outputs": [
    {
     "name": "stdout",
     "output_type": "stream",
     "text": [
      "time.struct_time(tm_year=2018, tm_mon=12, tm_mday=13, tm_hour=23, tm_min=10, tm_sec=39, tm_wday=3, tm_yday=347, tm_isdst=0)\n",
      "<class 'time.struct_time'>\n"
     ]
    }
   ],
   "source": [
    "# \n",
    "t = time.localtime()\n",
    "print(t)\n",
    "print(type(t))"
   ]
  },
  {
   "cell_type": "code",
   "execution_count": 70,
   "metadata": {},
   "outputs": [
    {
     "name": "stdout",
     "output_type": "stream",
     "text": [
      "23\n"
     ]
    }
   ],
   "source": [
    "# localtime：得到当前时间的时间结构\n",
    "# 可以通过点号操作符得到相应的属性元素的内容\n",
    "t = time.localtime()\n",
    "print(t.tm_hour)"
   ]
  },
  {
   "cell_type": "code",
   "execution_count": 76,
   "metadata": {},
   "outputs": [
    {
     "name": "stdout",
     "output_type": "stream",
     "text": [
      "<class 'str'>\n",
      "Thu Dec 13 23:14:56 2018\n"
     ]
    }
   ],
   "source": [
    "# asctime()：返回元组的正常字符串化之后的时间格式\n",
    "# 格式：time.asctime(时间元组)\n",
    "# 返回值：字符串 Thu Dec 13 23:14:22 2018\n",
    "t = time.localtime()\n",
    "\n",
    "tt = time.asctime(t)\n",
    "print(type(tt))\n",
    "print(tt)"
   ]
  },
  {
   "cell_type": "code",
   "execution_count": 77,
   "metadata": {},
   "outputs": [
    {
     "name": "stdout",
     "output_type": "stream",
     "text": [
      "<class 'str'>\n",
      "Thu Dec 13 23:16:06 2018\n"
     ]
    }
   ],
   "source": [
    "# ctimeL ：获取字符串化的当前时间\n",
    "t = time.ctime()\n",
    "print(type(t))\n",
    "print(t)"
   ]
  },
  {
   "cell_type": "code",
   "execution_count": 80,
   "metadata": {},
   "outputs": [
    {
     "name": "stdout",
     "output_type": "stream",
     "text": [
      "<class 'float'>\n",
      "1544714305.0\n"
     ]
    }
   ],
   "source": [
    "# mktime()：使用时间元组获取对应的时间戳\n",
    "# 格式：time.mktime(时间元组)\n",
    "# 返回值：浮点数时间戳\n",
    "\n",
    "lt = time.localtime()\n",
    "ts = time.mktime(lt)\n",
    "print(type(ts))\n",
    "print(ts)"
   ]
  },
  {
   "cell_type": "code",
   "execution_count": 82,
   "metadata": {},
   "outputs": [],
   "source": [
    "# clock：获取cpu时间，3.0-3.3版本直接使用，3.6调用有问题 "
   ]
  },
  {
   "cell_type": "code",
   "execution_count": 85,
   "metadata": {},
   "outputs": [
    {
     "name": "stdout",
     "output_type": "stream",
     "text": [
      "0\n",
      "1\n",
      "2\n",
      "3\n",
      "4\n",
      "5\n",
      "6\n",
      "7\n",
      "8\n",
      "9\n"
     ]
    }
   ],
   "source": [
    "# sleep：使程序进入睡眠，n秒后继续\n",
    "\n",
    "for i in range(10):\n",
    "    print(i)\n",
    "    time.sleep(1)"
   ]
  },
  {
   "cell_type": "markdown",
   "metadata": {},
   "source": [
    "### strftime：将时间元组转化成为自定义字符串格式\n",
    "\n",
    "\n",
    "格式  含义  备注\n",
    "%a  本地（locale）简化星期名称    \n",
    "%A  本地完整星期名称    \n",
    "%b  本地简化月份名称    \n",
    "%B  本地完整月份名称    \n",
    "%c  本地相应的日期和时间表示    \n",
    "%d  一个月中的第几天（01 - 31）   \n",
    "%H  一天中的第几个小时（24 小时制，00 - 23）   \n",
    "%I  一天中的第几个小时（12 小时制，01 - 12）   \n",
    "%j  一年中的第几天（001 - 366）  \n",
    "%m  月份（01 - 12） \n",
    "%M  分钟数（00 - 59）    \n",
    "%p  本地 am 或者 pm 的相应符    注1\n",
    "%S  秒（01 - 61）  注2\n",
    "%U  一年中的星期数（00 - 53 星期天是一个星期的开始）第一个星期天之前的所有天数都放在第 0 周   注3\n",
    "%w  一个星期中的第几天（0 - 6，0 是星期天） 注3\n",
    "%W  和 %U 基本相同，不同的是 %W 以星期一为一个星期的开始  \n",
    "%x  本地相应日期  \n",
    "%X  本地相应时间  \n",
    "%y  去掉世纪的年份（00 - 99）    \n",
    "%Y  完整的年份   \n",
    "%z  用 +HHMM 或 -HHMM 表示距离格林威治的时区偏移（H 代表十进制的小时数，M 代表十进制的分钟数）      \n",
    "%%  %号本身"
   ]
  },
  {
   "cell_type": "code",
   "execution_count": 46,
   "metadata": {},
   "outputs": [
    {
     "name": "stdout",
     "output_type": "stream",
     "text": [
      "2018年12月16日 11时11分59秒\n"
     ]
    }
   ],
   "source": [
    "#  把时间表似乎成，2018.12.16 10.58\n",
    "import time\n",
    "t = time.localtime()\n",
    "# ft = time.strftime(\"%Y年%m月%d日 %H:%M\", t) \n",
    "#  UnicodeEncodeError: 'locale' codec can't encode character '\\u5e74' in position 2: encoding error\n",
    "\n",
    "#解决方法：\n",
    "ft = time.strftime('%Y{y}%m{m}%d{d} %H{h}%M{f}%S{s}').format(y='年',m='月',d='日',h='时',f='分',s='秒')\n",
    "print(ft)"
   ]
  },
  {
   "cell_type": "markdown",
   "metadata": {},
   "source": [
    "##  datetime 模块\n",
    "- datetime 提供日期和时间的运算和表示"
   ]
  },
  {
   "cell_type": "code",
   "execution_count": 48,
   "metadata": {},
   "outputs": [],
   "source": [
    "import datetime"
   ]
  },
  {
   "cell_type": "code",
   "execution_count": 56,
   "metadata": {},
   "outputs": [
    {
     "name": "stdout",
     "output_type": "stream",
     "text": [
      "2018-12-16\n",
      "2018\n",
      "12\n",
      "16\n"
     ]
    }
   ],
   "source": [
    "# datetime 常见属性\n",
    "# datetime.date：一个理想和的日期，提供year，month，day属性\n",
    "\n",
    "dt = datetime.date(2018, 12, 16)  # 逗号区分\n",
    "print(dt)\n",
    "print(dt.year)\n",
    "print(dt.month)\n",
    "print(dt.day)"
   ]
  },
  {
   "cell_type": "markdown",
   "metadata": {},
   "source": [
    "#### datetime.time：提供一个理想和的时间，居于other, minute, sec, sec，microsec等内容\n",
    "#### datetime.datetime：提供日期跟时间的组合\n",
    "#### datetime.timedelta：提供一个时间表，时间长度"
   ]
  },
  {
   "cell_type": "code",
   "execution_count": 65,
   "metadata": {},
   "outputs": [
    {
     "name": "stdout",
     "output_type": "stream",
     "text": [
      "2018-12-16 11:24:43.126338\n",
      "2018-12-16 11:24:43.127337\n",
      "2018-12-16 11:24:43.127337\n"
     ]
    }
   ],
   "source": [
    "# datetime.datetime\n",
    "from datetime import datetime\n",
    "# 常用类方法\n",
    "# today:\n",
    "# now\n",
    "# utcnow:\n",
    "# fromtimestamp：从时间戳返回本地时间\n",
    "\n",
    "dt = datetime(2018, 12, 16) \n",
    "print(dt.today())\n",
    "print(dt.now())\n",
    "\n",
    "print(dt.fromtimestamp(time.time()))"
   ]
  },
  {
   "cell_type": "code",
   "execution_count": 69,
   "metadata": {},
   "outputs": [
    {
     "name": "stdout",
     "output_type": "stream",
     "text": [
      "2018-12-16 12:47:18.189186\n",
      "2018-12-16 12:47:18\n",
      "2018-12-16 13:47:18\n"
     ]
    }
   ],
   "source": [
    "# datetime.timedelta\n",
    "# 表示一个时间戳\n",
    "\n",
    "from datetime import datetime, timedelta\n",
    "\n",
    "t1 = datetime.now()\n",
    "print(t1)\n",
    "print(t1.strftime(\"%Y-%m-%d %H:%M:%S\"))\n",
    "\n",
    "# td 表示一小时的时间长度\n",
    "td = timedelta(hours = 1)  \n",
    "# 当前时间加上时间间隔，把得到的一个小时后的时间格式化输出\n",
    "print((t1 + td ).strftime(\"%Y-%m-%d %H:%M:%S\"))"
   ]
  },
  {
   "cell_type": "code",
   "execution_count": 70,
   "metadata": {},
   "outputs": [
    {
     "name": "stdout",
     "output_type": "stream",
     "text": [
      "3.600431203842163\n"
     ]
    }
   ],
   "source": [
    "# timeit - 时间测量工具\n",
    "def p():\n",
    "    time.sleep(3.6)\n",
    "\n",
    "t1 = time.time()\n",
    "p()\n",
    "print(time.time() - t1)"
   ]
  },
  {
   "cell_type": "code",
   "execution_count": 78,
   "metadata": {},
   "outputs": [
    {
     "name": "stdout",
     "output_type": "stream",
     "text": [
      "5.984312960999887\n",
      "11.92056123599923\n"
     ]
    }
   ],
   "source": [
    "import timeit\n",
    "# 生成列表两种方法的比较\n",
    "# 如果单纯比较生成一个列表的使劲按，可能很难实现\n",
    "\n",
    "c = '''\n",
    "sum = []\n",
    "for i in range(1000):\n",
    "    sum.append(i)\n",
    "'''\n",
    "\n",
    "\n",
    "#  利用timeit调用代码，执行100000次，查看运行时间\n",
    "t1 = timeit.timeit(stmt=\"[i for i in range(1000)]\", number = 100000)\n",
    "# 测量代码c执行100000次运行结果\n",
    "t2 = timeit.timeit(stmt=c, number = 100000)\n",
    "print(t1)\n",
    "print(t2)"
   ]
  },
  {
   "cell_type": "code",
   "execution_count": 80,
   "metadata": {},
   "outputs": [
    {
     "name": "stdout",
     "output_type": "stream",
     "text": [
      "Help on function timeit in module timeit:\n",
      "\n",
      "timeit(stmt='pass', setup='pass', timer=<built-in function perf_counter>, number=1000000, globals=None)\n",
      "    Convenience function to create Timer object and call timeit method.\n",
      "\n"
     ]
    }
   ],
   "source": [
    "\n",
    "help(timeit.timeit)\n",
    "# stmt :测试的代码"
   ]
  },
  {
   "cell_type": "code",
   "execution_count": 85,
   "metadata": {},
   "outputs": [
    {
     "name": "stdout",
     "output_type": "stream",
     "text": [
      "Repeat for 0\n",
      "Repeat for 1\n",
      "Repeat for 2\n",
      "Repeat for 0\n",
      "Repeat for 1\n",
      "Repeat for 2\n",
      "Repeat for 0\n",
      "Repeat for 1\n",
      "Repeat for 2\n",
      "Repeat for 0\n",
      "Repeat for 1\n",
      "Repeat for 2\n",
      "Repeat for 0\n",
      "Repeat for 1\n",
      "Repeat for 2\n",
      "Repeat for 0\n",
      "Repeat for 1\n",
      "Repeat for 2\n",
      "Repeat for 0\n",
      "Repeat for 1\n",
      "Repeat for 2\n",
      "Repeat for 0\n",
      "Repeat for 1\n",
      "Repeat for 2\n",
      "Repeat for 0\n",
      "Repeat for 1\n",
      "Repeat for 2\n",
      "Repeat for 0\n",
      "Repeat for 1\n",
      "Repeat for 2\n",
      "0.0010846769982890692\n"
     ]
    }
   ],
   "source": [
    "# timeit 可以执行一个函数，测量一个函数的执行时间\n",
    "def doIt():\n",
    "    num = 3\n",
    "    for i in range(num):\n",
    "        print(\"Repeat for {0}\".format(i))\n",
    "        \n",
    "# 执行函数，重复10次\n",
    "t = timeit.timeit(stmt = doIt, number = 10)\n",
    "print(t)"
   ]
  },
  {
   "cell_type": "code",
   "execution_count": 87,
   "metadata": {},
   "outputs": [
    {
     "name": "stdout",
     "output_type": "stream",
     "text": [
      "Repeat for 0\n",
      "Repeat for 1\n",
      "Repeat for 2\n",
      "Repeat for 0\n",
      "Repeat for 1\n",
      "Repeat for 2\n",
      "Repeat for 0\n",
      "Repeat for 1\n",
      "Repeat for 2\n",
      "Repeat for 0\n",
      "Repeat for 1\n",
      "Repeat for 2\n",
      "Repeat for 0\n",
      "Repeat for 1\n",
      "Repeat for 2\n",
      "Repeat for 0\n",
      "Repeat for 1\n",
      "Repeat for 2\n",
      "Repeat for 0\n",
      "Repeat for 1\n",
      "Repeat for 2\n",
      "Repeat for 0\n",
      "Repeat for 1\n",
      "Repeat for 2\n",
      "Repeat for 0\n",
      "Repeat for 1\n",
      "Repeat for 2\n",
      "Repeat for 0\n",
      "Repeat for 1\n",
      "Repeat for 2\n",
      "0.001932096000018646\n"
     ]
    }
   ],
   "source": [
    "s = '''\n",
    "def doIt(num):\n",
    "    for i in range(num):\n",
    "        print(\"Repeat for {0}\".format(i))\n",
    "'''\n",
    "\n",
    "# 执行doIt(num)\n",
    "# setup负责把环境变量准备好\n",
    "# 实际相当于给timeit创造一个小环境\n",
    "# 在创作小环境中，代码执行的顺序大致是\n",
    "'''\n",
    "def doIt(num):\n",
    "    .......\n",
    "\n",
    "num = 3\n",
    "doIt(num)\n",
    "'''\n",
    "t = timeit.timeit(\"doIt(num)\", setup=s+\"num=3\",number=10)\n",
    "print(t)"
   ]
  },
  {
   "cell_type": "markdown",
   "metadata": {},
   "source": [
    "## datetime.datetime  模块\n",
    "- 提供比较好用的时间而已\n",
    "- 类定义\n",
    "                \n",
    "                class datetime.datetime(year, month, day[, hour\n",
    "                          [, minute\n",
    "                          [, second\n",
    "                          [, microsecond\n",
    "                          [, tzinfo]]]]])\n",
    "                # The year, month and day arguments are required.\n",
    "                MINYEAR <= year <= MAXYEAR\n",
    "                1 <= month <= 12\n",
    "                1 <= day <= n\n",
    "                0 <= hour < 24\n",
    "                0 <= minute < 60\n",
    "                0 <= second < 60\n",
    "                0 <= microsecond < 10**\n",
    "\n",
    "#### 类方法\n",
    "- datetime.today(): 返回当前本地datetime.随着 tzinfo None. datetime.fromtimestamp(time.time()). \n",
    "\n",
    "- datetime.now([tz]): 返回当前本地日期和时间, 如果可选参数tz为None或没有详细说明,这个方法会像today(). \n",
    "\n",
    "- datetime.utcnow(): 返回当前的UTC日期和时间, 如果tzinfo None ,那么与now()类似. \n",
    "\n",
    "- datetime.fromtimestamp(timestamp[, tz]): 根据时间戳返回本地的日期和时间.tz指定时区. \n",
    "\n",
    "- datetime.utcfromtimestamp(timestamp): 根据时间戳返回 UTC datetime. \n",
    "\n",
    "- datetime.fromordinal(ordinal): 根据Gregorian ordinal 返回datetime.\n",
    "\n",
    "- datetime.combine(date, time): 根据date和time返回一个新的datetime. \n",
    "\n",
    "- datetime.strptime(date_string, format): 根据date_string和format返回一个datetime.\n",
    "\n",
    "#### 实例方法\n",
    "\n",
    "- datetime.date(): 返回相同年月日的date对象.\n",
    "- datetime.time(): 返回相同时分秒微秒的time对象. \n",
    "- datetime.replace(kw): kw in [year, month, day, hour, minute, second, microsecond, tzinfo], 与date类似. 类属性\n",
    "- datetime.min: datetime(MINYEAR, 1, 1). datetime.max: datetime(MAXYEAR, 12, 31, 23, 59, 59, 999999).\n",
    "\n",
    "#### 实例属性(read-only)\n",
    "\n",
    "- datetime.year: 1 至 9999 datetime.month: 1 至 12 datetime.day: 1 至 n \n",
    "- datetime.hour: In range(24). 0 至 23 datetime.minute: In range(60). \n",
    "- datetime.second: In range(60). datetime.microsecond: In range(1000000). `\n"
   ]
  },
  {
   "cell_type": "code",
   "execution_count": 88,
   "metadata": {},
   "outputs": [
    {
     "name": "stdout",
     "output_type": "stream",
     "text": [
      "2018-12-16 13:22:03.986514\n"
     ]
    }
   ],
   "source": [
    "from datetime import datetime as dt\n",
    "print(dt.now())"
   ]
  },
  {
   "cell_type": "markdown",
   "metadata": {},
   "source": [
    "## os - 操作系统相关\n",
    "- 跟操作系统相关，主要是文件操作\n",
    "- 于系统相关的操作，主要包含三个模块里\n",
    "        - os，操作系统目录相关\n",
    "        - os.path，系统路径相关操作\n",
    "        - shutil，高级文件操作，目录树的操作，文件赋值，删除，移动\n",
    "- 路径：\n",
    "        - 绝对路径：总是从根目录开始\n",
    "        - 相对路径：基本以当前环境为开始的一个相对的地方"
   ]
  },
  {
   "cell_type": "markdown",
   "metadata": {},
   "source": [
    "## os 模块\n"
   ]
  },
  {
   "cell_type": "code",
   "execution_count": null,
   "metadata": {},
   "outputs": [],
   "source": [
    "import  os"
   ]
  },
  {
   "cell_type": "code",
   "execution_count": 96,
   "metadata": {},
   "outputs": [
    {
     "name": "stdout",
     "output_type": "stream",
     "text": [
      "C:\\Users\\admin\\jupyter_note\n"
     ]
    }
   ],
   "source": [
    "# getcwd()：获取当前的工作目录\n",
    "# 格式：os.getcwd()\n",
    "#  返回值：当前工作目录的字符串\n",
    "# 当前工作目录就是程序在进行文件相关操作，默认查找文件的目录\n",
    "\n",
    "mydir = os.getcwd()\n",
    "print(mydir)"
   ]
  },
  {
   "cell_type": "code",
   "execution_count": 98,
   "metadata": {},
   "outputs": [
    {
     "name": "stdout",
     "output_type": "stream",
     "text": [
      "C:\\Users\\admin\n"
     ]
    }
   ],
   "source": [
    "# chdir()：改变当前的工作目录\n",
    "# 格式：os.chdir(路径)\n",
    "# 返回值：无\n",
    "\n",
    "os.chdir(\"/Users/admin\")\n",
    "mydir = os.getcwd()\n",
    "print(mydir)"
   ]
  },
  {
   "cell_type": "code",
   "execution_count": 101,
   "metadata": {},
   "outputs": [
    {
     "name": "stdout",
     "output_type": "stream",
     "text": [
      "['.anaconda', '.android', '.bash_history', '.conda', '.condarc', '.config', '.cordova', '.gitconfig', '.idlerc', '.ipynb_checkpoints', '.ipython', '.jupyter', '.oracle_jre_usage', '.PyCharmCE2018.2', '.ssh', '.vscode', '.WebStorm11', '.WebStorm2018.3', '3D Objects', 'ansel', 'AppData', 'Application Data', 'Contacts', 'Cookies', 'Desktop', 'Documents', 'Downloads', 'Favorites', 'IntelGraphicsProfiles', 'java_error_in_webstorm_6576.log', 'jupyter_note', 'Links', 'Local Settings', 'MicrosoftEdgeBackups', 'Music', 'My Documents', 'NetHood', 'NTUSER.DAT', 'ntuser.dat.LOG1', 'ntuser.dat.LOG2', 'NTUSER.DAT{8274d8ce-64c1-11e8-ba8f-2c56dc20bde4}.TM.blf', 'NTUSER.DAT{8274d8ce-64c1-11e8-ba8f-2c56dc20bde4}.TMContainer00000000000000000001.regtrans-ms', 'NTUSER.DAT{8274d8ce-64c1-11e8-ba8f-2c56dc20bde4}.TMContainer00000000000000000002.regtrans-ms', 'ntuser.ini', 'OneDrive', 'Pictures', 'PrintHood', 'Program Files', 'Recent', 'Saved Games', 'Searches', 'SendTo', 'skb.kc', 'Templates', 'untitled.txt', 'Videos', 'WebpageIcons.db', 'WS-183.4284.130_admin_28.11.2018_15.51.33.zip', 'WS-183.4284.130_admin_28.11.2018_16.08.18.zip', 'WS-183.4284.130_admin_28.11.2018_16.08.21.zip', '「开始」菜单', '个性化菜单女.txt']\n"
     ]
    }
   ],
   "source": [
    "# listdir()：获取一个目录中所有子目录和文件的名称列表\n",
    "# 格式：os.listdir(路径)\n",
    "# 返回值：所有子目录和文件名称的列表\n",
    "\n",
    "ld = os.listdir()\n",
    "print(ld)"
   ]
  },
  {
   "cell_type": "code",
   "execution_count": 64,
   "metadata": {},
   "outputs": [
    {
     "name": "stdout",
     "output_type": "stream",
     "text": [
      "None\n",
      "C:\\Users\\admin\\jupyter_note\n"
     ]
    }
   ],
   "source": [
    "# makedirs()：递归创建文件夹\n",
    "# 格式：os.makedirs(递归路径)\n",
    "# 返回值：无\n",
    "# 递归路径：多个文件夹层层包含的路径就是递归路劲 例如 a/b/c...\n",
    "\n",
    "rst = os.makedirs(\"shaha.hh\")\n",
    "print(rst)\n",
    "mrstydir = os.getcwd()\n",
    "print(mrstydir)"
   ]
  },
  {
   "cell_type": "code",
   "execution_count": null,
   "metadata": {},
   "outputs": [],
   "source": [
    "# system()：运行系统shell命令\n",
    "# 格式：os.system(系统命令)\n",
    "# 返回值：打开一个shell或者终端界面\n",
    "# 一般推荐使用subprocess代替\n",
    "\n",
    "# ls：列出当前文件和文件夹的系统命令\n",
    "rst = os.system(\"ls\")\n",
    "print(rst)\n",
    "\n",
    "# 在当前目录下创建一个shasa.haha文集\n",
    "rst = os.system(\"touch sha.hh\")\n",
    "print(rst)"
   ]
  },
  {
   "cell_type": "code",
   "execution_count": 3,
   "metadata": {},
   "outputs": [
    {
     "name": "stdout",
     "output_type": "stream",
     "text": [
      "F:\\Anaconda3;F:\\Anaconda3\\Library\\mingw-w64\\bin;F:\\Anaconda3\\Library\\usr\\bin;F:\\Anaconda3\\Library\\bin;F:\\Anaconda3\\Scripts;C:\\Program Files (x86)\\Intel\\iCLS Client\\;C:\\Program Files\\Intel\\iCLS Client\\;C:\\Windows\\system32;C:\\Windows;C:\\Windows\\System32\\Wbem;C:\\Windows\\System32\\WindowsPowerShell\\v1.0\\;C:\\Program Files (x86)\\Intel\\Intel(R) Management Engine Components\\DAL;C:\\Program Files\\Intel\\Intel(R) Management Engine Components\\DAL;C:\\Program Files (x86)\\Intel\\Intel(R) Management Engine Components\\IPT;C:\\Program Files\\Intel\\Intel(R) Management Engine Components\\IPT;C:\\Program Files (x86)\\NVIDIA Corporation\\PhysX\\Common;C:\\WINDOWS\\system32;C:\\WINDOWS;C:\\WINDOWS\\System32\\Wbem;C:\\WINDOWS\\System32\\WindowsPowerShell\\v1.0\\;C:\\Program Files (x86)\\Microsoft SQL Server\\100\\Tools\\Binn\\;C:\\Program Files\\Microsoft SQL Server\\100\\Tools\\Binn\\;C:\\Program Files\\Microsoft SQL Server\\100\\DTS\\Binn\\;C:\\Program Files (x86)\\Microsoft SQL Server\\100\\Tools\\Binn\\VSShell\\Common7\\IDE\\;C:\\Program Files (x86)\\Microsoft SQL Server\\100\\DTS\\Binn\\;C:\\Program Files (x86)\\Microsoft Visual Studio 9.0\\Common7\\IDE\\PrivateAssemblies\\;C:\\WINDOWS\\System32\\OpenSSH\\;C:\\Program Files\\Microsoft VS Code\\bin;F:\\phython\\Scripts\\;F:\\phython\\;C:\\Users\\admin\\AppData\\Local\\Microsoft\\WindowsApps;\n"
     ]
    }
   ],
   "source": [
    "#  getenv()：获取指定的系统环境变量\n",
    "# 相应的还有putenv\n",
    "# 格式：os.getenv(’环境变量名‘)\n",
    "# 返回值：指定环境变量名对应的值\n",
    "import os\n",
    "rst = os.getenv(\"PATH\")\n",
    "print(rst)"
   ]
  },
  {
   "cell_type": "code",
   "execution_count": 4,
   "metadata": {},
   "outputs": [],
   "source": [
    "# exit()：退出当前程序\n",
    "# 格式：exit()\n",
    "# 返回值：无"
   ]
  },
  {
   "cell_type": "markdown",
   "metadata": {},
   "source": [
    "### 值部分\n",
    "- os.curdir : curretn dir, 当前目录\n",
    "- os.pardir : parent dir, 父类目录\n",
    "- os.sep : 当前系统的路径分隔符\n",
    "        - window : \"\\\"\n",
    "        - linux : \"/\"\n",
    "- os.linesep : 当前系统的换行符\n",
    "    - window：“\\r\\n”\n",
    "    - unix, linux, macos:\"\\n\"\n",
    "- os.name : 当前系统名称\n",
    "    - windows : nt\n",
    "    - mac, unix, linux : posix"
   ]
  },
  {
   "cell_type": "code",
   "execution_count": 9,
   "metadata": {},
   "outputs": [
    {
     "name": "stdout",
     "output_type": "stream",
     "text": [
      "..\n",
      ".\n",
      "\\\n",
      "\r\n",
      "\n"
     ]
    }
   ],
   "source": [
    "print(os.pardir)\n",
    "print(os.curdir)\n",
    "print(os.sep)\n",
    "print(os.linesep)"
   ]
  },
  {
   "cell_type": "code",
   "execution_count": 11,
   "metadata": {},
   "outputs": [
    {
     "name": "stdout",
     "output_type": "stream",
     "text": [
      "/home/tlxy/shasa\n"
     ]
    }
   ],
   "source": [
    "# 在路径相关的操作中，不要手动拼写地址，因为手动拼写的地址\n",
    "path = \"/home/tlxy\" + \"/\" + \"shasa\"\n",
    "print(path)"
   ]
  },
  {
   "cell_type": "code",
   "execution_count": 12,
   "metadata": {},
   "outputs": [
    {
     "name": "stdout",
     "output_type": "stream",
     "text": [
      "nt\n"
     ]
    }
   ],
   "source": [
    "# linux操作系统的名称是posix\n",
    "print(os.name)"
   ]
  },
  {
   "cell_type": "markdown",
   "metadata": {},
   "source": [
    "### os,path 模块，跟路径相关的模块"
   ]
  },
  {
   "cell_type": "code",
   "execution_count": 15,
   "metadata": {},
   "outputs": [],
   "source": [
    "import os.path as op"
   ]
  },
  {
   "cell_type": "code",
   "execution_count": 16,
   "metadata": {},
   "outputs": [
    {
     "name": "stdout",
     "output_type": "stream",
     "text": [
      "C:\\Users\\admin\\jupyter_note\n"
     ]
    }
   ],
   "source": [
    "# abspath：将路径转化为绝对路径\n",
    "# abselute 绝对\n",
    "# 格式：os.path.abspath('路径')\n",
    "# 返回值：路径的绝对路径形式\n",
    "\n",
    "# linux中\n",
    "# . 点好，地表当前目录\n",
    "# .. 双点，代表父目录\n",
    "absp = op.abspath(\".\")\n",
    "print(absp)"
   ]
  },
  {
   "cell_type": "code",
   "execution_count": 23,
   "metadata": {},
   "outputs": [
    {
     "name": "stdout",
     "output_type": "stream",
     "text": [
      "jupyter_note\n",
      "admin\n"
     ]
    }
   ],
   "source": [
    "# basename()：获取路径中的文件部分\n",
    "# 格式：os.path.basename(路径)\n",
    "# 返回值：文件名字符串\n",
    "\n",
    "bn = op.basename(\"/Users/admin/jupyter_note\")\n",
    "print(bn)\n",
    "bn = op.basename(\"/Users/admin\")\n",
    "print(bn)"
   ]
  },
  {
   "cell_type": "code",
   "execution_count": 34,
   "metadata": {},
   "outputs": [
    {
     "name": "stdout",
     "output_type": "stream",
     "text": [
      "/Users/admin\\shasa.haha\n"
     ]
    }
   ],
   "source": [
    "# join() ：将多个路径拼合成一个路径\n",
    "# 格式：os.path.join(路径1， 路径2......)\n",
    "# 返回值：组合之后的新路径字符串\n",
    "\n",
    "# 只能用“/”，用\"\\\"出错\n",
    "bd = \"/Users/admin\"\n",
    "fn = \"shasa.haha\"\n",
    "\n",
    "p = op.join(bd, fn)\n",
    "print(p)"
   ]
  },
  {
   "cell_type": "code",
   "execution_count": 38,
   "metadata": {},
   "outputs": [
    {
     "name": "stdout",
     "output_type": "stream",
     "text": [
      "('/Users', 'admin')\n",
      "admin /Users\n"
     ]
    }
   ],
   "source": [
    "# split()：将路径切割为文件夹部分和当前文件部分\n",
    "# 格式：os.path.split(路径)\n",
    "# 返回值：路径和文件名组成的元组\n",
    "\n",
    "t = op.split(\"/Users/admin\")\n",
    "print(t)\n",
    "\n",
    "d, p = op.split(\"/Users/admin\")\n",
    "print(p,d)"
   ]
  },
  {
   "cell_type": "code",
   "execution_count": 41,
   "metadata": {},
   "outputs": [
    {
     "data": {
      "text/plain": [
       "False"
      ]
     },
     "execution_count": 41,
     "metadata": {},
     "output_type": "execute_result"
    }
   ],
   "source": [
    "#  isdir()：检测是否是目录\n",
    "# 格式：os.path.isdir(路径)\n",
    "# 返回值：布尔值\n",
    "\n",
    "t = op.isdir(\"/Users/admin/shasa.hhh\")\n",
    "print(t)"
   ]
  },
  {
   "cell_type": "code",
   "execution_count": 42,
   "metadata": {},
   "outputs": [
    {
     "data": {
      "text/plain": [
       "True"
      ]
     },
     "execution_count": 42,
     "metadata": {},
     "output_type": "execute_result"
    }
   ],
   "source": [
    "# exists()：检测文件或者目录是否存在\n",
    "# 格式：os.path.exists(路径)\n",
    "# 返回值：布尔值\n",
    "\n",
    "e = op.exists(\"/Users/admin\")\n",
    "e"
   ]
  },
  {
   "cell_type": "markdown",
   "metadata": {},
   "source": [
    "## shutil 模块"
   ]
  },
  {
   "cell_type": "code",
   "execution_count": null,
   "metadata": {},
   "outputs": [],
   "source": [
    "import shutil"
   ]
  },
  {
   "cell_type": "code",
   "execution_count": 55,
   "metadata": {},
   "outputs": [
    {
     "ename": "PermissionError",
     "evalue": "[Errno 13] Permission denied: '/Users/admin/sha'",
     "output_type": "error",
     "traceback": [
      "\u001b[1;31m----------------------------------------------------------------------\u001b[0m",
      "\u001b[1;31mPermissionError\u001b[0m                      Traceback (most recent call last)",
      "\u001b[1;32m<ipython-input-55-9b3cf04ee5ba>\u001b[0m in \u001b[0;36m<module>\u001b[1;34m()\u001b[0m\n\u001b[0;32m      4\u001b[0m \u001b[1;31m# 拷贝的同时，可以给文件重命名\u001b[0m\u001b[1;33m\u001b[0m\u001b[1;33m\u001b[0m\u001b[0m\n\u001b[0;32m      5\u001b[0m \u001b[1;33m\u001b[0m\u001b[0m\n\u001b[1;32m----> 6\u001b[1;33m \u001b[0mrst\u001b[0m \u001b[1;33m=\u001b[0m \u001b[0mshutil\u001b[0m\u001b[1;33m.\u001b[0m\u001b[0mcopy\u001b[0m\u001b[1;33m(\u001b[0m\u001b[1;34m\"/Users/admin/sha\"\u001b[0m\u001b[1;33m,\u001b[0m  \u001b[1;34m\"/Users/admin/shaha\"\u001b[0m\u001b[1;33m)\u001b[0m\u001b[1;33m\u001b[0m\u001b[0m\n\u001b[0m\u001b[0;32m      7\u001b[0m \u001b[0mprint\u001b[0m\u001b[1;33m(\u001b[0m\u001b[0mrst\u001b[0m\u001b[1;33m)\u001b[0m\u001b[1;33m\u001b[0m\u001b[0m\n\u001b[0;32m      8\u001b[0m \u001b[1;33m\u001b[0m\u001b[0m\n",
      "\u001b[1;32mF:\\Anaconda3\\lib\\shutil.py\u001b[0m in \u001b[0;36mcopy\u001b[1;34m(src, dst, follow_symlinks)\u001b[0m\n\u001b[0;32m    239\u001b[0m     \u001b[1;32mif\u001b[0m \u001b[0mos\u001b[0m\u001b[1;33m.\u001b[0m\u001b[0mpath\u001b[0m\u001b[1;33m.\u001b[0m\u001b[0misdir\u001b[0m\u001b[1;33m(\u001b[0m\u001b[0mdst\u001b[0m\u001b[1;33m)\u001b[0m\u001b[1;33m:\u001b[0m\u001b[1;33m\u001b[0m\u001b[0m\n\u001b[0;32m    240\u001b[0m         \u001b[0mdst\u001b[0m \u001b[1;33m=\u001b[0m \u001b[0mos\u001b[0m\u001b[1;33m.\u001b[0m\u001b[0mpath\u001b[0m\u001b[1;33m.\u001b[0m\u001b[0mjoin\u001b[0m\u001b[1;33m(\u001b[0m\u001b[0mdst\u001b[0m\u001b[1;33m,\u001b[0m \u001b[0mos\u001b[0m\u001b[1;33m.\u001b[0m\u001b[0mpath\u001b[0m\u001b[1;33m.\u001b[0m\u001b[0mbasename\u001b[0m\u001b[1;33m(\u001b[0m\u001b[0msrc\u001b[0m\u001b[1;33m)\u001b[0m\u001b[1;33m)\u001b[0m\u001b[1;33m\u001b[0m\u001b[0m\n\u001b[1;32m--> 241\u001b[1;33m     \u001b[0mcopyfile\u001b[0m\u001b[1;33m(\u001b[0m\u001b[0msrc\u001b[0m\u001b[1;33m,\u001b[0m \u001b[0mdst\u001b[0m\u001b[1;33m,\u001b[0m \u001b[0mfollow_symlinks\u001b[0m\u001b[1;33m=\u001b[0m\u001b[0mfollow_symlinks\u001b[0m\u001b[1;33m)\u001b[0m\u001b[1;33m\u001b[0m\u001b[0m\n\u001b[0m\u001b[0;32m    242\u001b[0m     \u001b[0mcopymode\u001b[0m\u001b[1;33m(\u001b[0m\u001b[0msrc\u001b[0m\u001b[1;33m,\u001b[0m \u001b[0mdst\u001b[0m\u001b[1;33m,\u001b[0m \u001b[0mfollow_symlinks\u001b[0m\u001b[1;33m=\u001b[0m\u001b[0mfollow_symlinks\u001b[0m\u001b[1;33m)\u001b[0m\u001b[1;33m\u001b[0m\u001b[0m\n\u001b[0;32m    243\u001b[0m     \u001b[1;32mreturn\u001b[0m \u001b[0mdst\u001b[0m\u001b[1;33m\u001b[0m\u001b[0m\n",
      "\u001b[1;32mF:\\Anaconda3\\lib\\shutil.py\u001b[0m in \u001b[0;36mcopyfile\u001b[1;34m(src, dst, follow_symlinks)\u001b[0m\n\u001b[0;32m    118\u001b[0m         \u001b[0mos\u001b[0m\u001b[1;33m.\u001b[0m\u001b[0msymlink\u001b[0m\u001b[1;33m(\u001b[0m\u001b[0mos\u001b[0m\u001b[1;33m.\u001b[0m\u001b[0mreadlink\u001b[0m\u001b[1;33m(\u001b[0m\u001b[0msrc\u001b[0m\u001b[1;33m)\u001b[0m\u001b[1;33m,\u001b[0m \u001b[0mdst\u001b[0m\u001b[1;33m)\u001b[0m\u001b[1;33m\u001b[0m\u001b[0m\n\u001b[0;32m    119\u001b[0m     \u001b[1;32melse\u001b[0m\u001b[1;33m:\u001b[0m\u001b[1;33m\u001b[0m\u001b[0m\n\u001b[1;32m--> 120\u001b[1;33m         \u001b[1;32mwith\u001b[0m \u001b[0mopen\u001b[0m\u001b[1;33m(\u001b[0m\u001b[0msrc\u001b[0m\u001b[1;33m,\u001b[0m \u001b[1;34m'rb'\u001b[0m\u001b[1;33m)\u001b[0m \u001b[1;32mas\u001b[0m \u001b[0mfsrc\u001b[0m\u001b[1;33m:\u001b[0m\u001b[1;33m\u001b[0m\u001b[0m\n\u001b[0m\u001b[0;32m    121\u001b[0m             \u001b[1;32mwith\u001b[0m \u001b[0mopen\u001b[0m\u001b[1;33m(\u001b[0m\u001b[0mdst\u001b[0m\u001b[1;33m,\u001b[0m \u001b[1;34m'wb'\u001b[0m\u001b[1;33m)\u001b[0m \u001b[1;32mas\u001b[0m \u001b[0mfdst\u001b[0m\u001b[1;33m:\u001b[0m\u001b[1;33m\u001b[0m\u001b[0m\n\u001b[0;32m    122\u001b[0m                 \u001b[0mcopyfileobj\u001b[0m\u001b[1;33m(\u001b[0m\u001b[0mfsrc\u001b[0m\u001b[1;33m,\u001b[0m \u001b[0mfdst\u001b[0m\u001b[1;33m)\u001b[0m\u001b[1;33m\u001b[0m\u001b[0m\n",
      "\u001b[1;31mPermissionError\u001b[0m: [Errno 13] Permission denied: '/Users/admin/sha'"
     ]
    }
   ],
   "source": [
    "# copy()：复制文件\n",
    "# 格式：shutil.copy(来源路径，目标路径)\n",
    "# 返回值：返回目标路径\n",
    "# 拷贝的同时，可以给文件重命名\n",
    "\n",
    "rst = shutil.copy(\"/Users/admin/sha\",  \"/Users/admin/shaha\")\n",
    "print(rst)\n",
    "\n",
    "# ？？？\n",
    "# PermissionError: [Errno 13] Permission denied:  已经打开文件，关闭文件再打开"
   ]
  },
  {
   "cell_type": "code",
   "execution_count": 56,
   "metadata": {},
   "outputs": [],
   "source": [
    "# copy2()：赋值文件，保留元数据（文件信息）\n",
    "# 格式：shutil.cop2(来源路径，目标路径)\n",
    "# 返回值：发挥目标路径\n",
    "# 注意：copy和copy2的唯一区别在于copy2复制文件时精良保留元数据\n",
    "\n",
    "\n"
   ]
  },
  {
   "cell_type": "code",
   "execution_count": 6,
   "metadata": {},
   "outputs": [
    {
     "name": "stdout",
     "output_type": "stream",
     "text": [
      "hh.hh\n"
     ]
    }
   ],
   "source": [
    "# copyfile()：将一个文件中的内容复制到另外一个文件中\n",
    "#  格式：shutil。copyfile(“源路径”，\"目标路径\")\n",
    "# 返回值：无\n",
    "\n",
    "rst = shutil.copyfile(\"ha.hh\", \"hh.hh\")\n",
    "print(rst)"
   ]
  },
  {
   "cell_type": "code",
   "execution_count": 16,
   "metadata": {},
   "outputs": [
    {
     "name": "stdout",
     "output_type": "stream",
     "text": [
      "/Users/admin/jupyter_note/aa\\hh.hh\n"
     ]
    }
   ],
   "source": [
    "# move()：移动文件/文件夹\n",
    "# 格式：shutil.move(源路径，目标路径)\n",
    "# 返回值：目标路径\n",
    "\n",
    "rst = shutil.move(\"/Users/admin/jupyter_note/hh.hh\", \"/Users/admin/jupyter_note/aa\")\n",
    "print(rst)"
   ]
  },
  {
   "cell_type": "markdown",
   "metadata": {},
   "source": [
    "###  归档和压缩\n",
    "- 归档：把多个文件或者文件夹合并到一个文件中\n",
    "- 压缩： 用算法把多个文件或者文件夹无损或者有损合并到一个文件当中"
   ]
  },
  {
   "cell_type": "code",
   "execution_count": 17,
   "metadata": {},
   "outputs": [
    {
     "name": "stdout",
     "output_type": "stream",
     "text": [
      "C:\\Users\\admin\\jupyter_note\\sa.zip\n"
     ]
    }
   ],
   "source": [
    "# make_archive()：归档操作\n",
    "# 格式：shutil.make_archive('归档之后的目录和文件名', '后缀', '需要归档的文件')\n",
    "# 返回值：归档后的地址\n",
    "\n",
    "# 想得到一个叫做sa的归档文件\n",
    "rst = shutil.make_archive(\"/Users/admin/jupyter_note/sa\", \"zip\", \"/Users/admin/jupyter_note/aa\")\n",
    "print(rst)"
   ]
  },
  {
   "cell_type": "code",
   "execution_count": 20,
   "metadata": {},
   "outputs": [
    {
     "name": "stdout",
     "output_type": "stream",
     "text": [
      "Help on function make_archive in module shutil:\n",
      "\n",
      "make_archive(base_name, format, root_dir=None, base_dir=None, verbose=0, dry_run=0, owner=None, group=None, logger=None)\n",
      "    Create an archive file (eg. zip or tar).\n",
      "    \n",
      "    'base_name' is the name of the file to create, minus any format-specific\n",
      "    extension; 'format' is the archive format: one of \"zip\", \"tar\", \"gztar\",\n",
      "    \"bztar\", or \"xztar\".  Or any other registered format.\n",
      "    \n",
      "    'root_dir' is a directory that will be the root directory of the\n",
      "    archive; ie. we typically chdir into 'root_dir' before creating the\n",
      "    archive.  'base_dir' is the directory where we start archiving from;\n",
      "    ie. 'base_dir' will be the common prefix of all files and\n",
      "    directories in the archive.  'root_dir' and 'base_dir' both default\n",
      "    to the current directory.  Returns the name of the archive file.\n",
      "    \n",
      "    'owner' and 'group' are used when creating a tar archive. By default,\n",
      "    uses the current owner and group.\n",
      "\n"
     ]
    }
   ],
   "source": [
    "help(shutil.make_archive)"
   ]
  },
  {
   "cell_type": "code",
   "execution_count": null,
   "metadata": {},
   "outputs": [],
   "source": [
    "# unpack_archive()：解包操作\n",
    "# 格式：shutil.unpack_archive(\"归档地址\", \"解包后的地址\")\n",
    "# 返回值：解包之后的地址"
   ]
  },
  {
   "cell_type": "markdown",
   "metadata": {},
   "source": [
    "### zip - 压缩包\n",
    "- 模块名称 zipfile\n",
    "- ipfile.ZipFile(file[, mode[, compression[, allowZip64]]])\n",
    "- 创建一个ZipFile对象，表示一个zip文件。\n",
    "- 参数file表示文件的路径或类文件对象(file-like object)；\n",
    "- 参数mode指示打开zip文件的模式，默认值为’r’，表示读已经存在的zip文件，也可以为’w’或’a’，\n",
    "- ’w’表示新建一个zip文档或覆盖一个已经存在的zip文档，’a’表示将数据附加到一个现存的zip文档中。\n",
    "- 参数compression表示在写zip文档时使用的压缩方法，它的值可以是zipfile. ZIP_STORED 或zipfile. ZIP_DEFLATED。\n",
    "- 如果要操作的zip文件大小超过2G，应该将allowZip64设置为True。"
   ]
  },
  {
   "cell_type": "code",
   "execution_count": 36,
   "metadata": {},
   "outputs": [],
   "source": [
    "import zipfile"
   ]
  },
  {
   "cell_type": "code",
   "execution_count": 43,
   "metadata": {},
   "outputs": [],
   "source": [
    "zf = zipfile.ZipFile(\"c:\\\\Users\\\\admin\\\\jupyter_note\\\\sa.zip\")"
   ]
  },
  {
   "cell_type": "code",
   "execution_count": 44,
   "metadata": {},
   "outputs": [
    {
     "name": "stdout",
     "output_type": "stream",
     "text": [
      "<ZipInfo filename='hh.hh' compress_type=deflate filemode='-rw-rw-rw-' file_size=1 compress_size=3>\n"
     ]
    }
   ],
   "source": [
    "# ZipFile.getinfo(name):\n",
    "# 获得zip文档内指定文件的消息。返回一个zipfile.ZipInfo对象，它包含文档的详细信息\n",
    "rst = zf.getinfo(\"hh.hh\")\n",
    "print(rst)"
   ]
  },
  {
   "cell_type": "code",
   "execution_count": 45,
   "metadata": {},
   "outputs": [
    {
     "name": "stdout",
     "output_type": "stream",
     "text": [
      "['hh.hh', 'sha']\n"
     ]
    }
   ],
   "source": [
    "# ZipFile.namelist()\n",
    "# 获取zip文档内所有文件的名称列表\n",
    "\n",
    "nl = zf.namelist()\n",
    "print(nl)"
   ]
  },
  {
   "cell_type": "code",
   "execution_count": 51,
   "metadata": {},
   "outputs": [
    {
     "name": "stdout",
     "output_type": "stream",
     "text": [
      "None\n"
     ]
    }
   ],
   "source": [
    "#  ZipFile.extractall([path[,member[,pwd]]])\n",
    "#  解压zip文档中的所有文件到当前目录。参数members的默认值为zip文档内的所有文件名称列表，也可以自己设置，选择要解压的文件名称。\n",
    "\n",
    "rst = zf.extractall(\"/Users/admin/jupyter_note/sa\")\n",
    "print(rst)"
   ]
  },
  {
   "cell_type": "markdown",
   "metadata": {},
   "source": [
    "### 补充：zip\n",
    "- 把两个可迭代内容生成一个可迭代的tuple元素类型组成的内容\n"
   ]
  },
  {
   "cell_type": "code",
   "execution_count": 9,
   "metadata": {},
   "outputs": [
    {
     "name": "stdout",
     "output_type": "stream",
     "text": [
      "[0, 1, 2, 3, 4]\n",
      "[0, 2, 4, 6, 8]\n",
      "<class 'zip'>\n",
      "<zip object at 0x000002E0B3EF1788>\n",
      "(0, 0)\n",
      "(1, 2)\n",
      "(2, 4)\n",
      "(3, 6)\n",
      "(4, 8)\n"
     ]
    }
   ],
   "source": [
    "# zip案例\n",
    "l1 = [i for i in range(5)]\n",
    "l2 = [i* 2 for i in range(5)] \n",
    "print(l1)\n",
    "print(l2)\n",
    "\n",
    "z = zip(l1, l2)\n",
    "\n",
    "print(type(z))\n",
    "print(z)\n",
    "\n",
    "for i in z:\n",
    "    print(i)"
   ]
  },
  {
   "cell_type": "code",
   "execution_count": 12,
   "metadata": {},
   "outputs": [
    {
     "name": "stdout",
     "output_type": "stream",
     "text": [
      "('xiaohong', 95)\n",
      "('mingyue', 23)\n",
      "('dana', 56)\n",
      "[]\n"
     ]
    }
   ],
   "source": [
    "l1 = [\"xiaohong\", \"mingyue\",\"dana\"]\n",
    "l2 = [95,23,56]\n",
    "\n",
    "z = zip(l1, l2)\n",
    "\n",
    "for i in z:\n",
    "    print(i)\n",
    "\n",
    "#???\n",
    "l3 = [ i for i in z]\n",
    "print(l3)"
   ]
  },
  {
   "cell_type": "markdown",
   "metadata": {},
   "source": [
    "### enumerate\n",
    "- 跟zip功能比较像\n",
    "- 对可迭代对象里的每一个元素，配上一个索引，然后索引和内容构成tuple类型"
   ]
  },
  {
   "cell_type": "code",
   "execution_count": 15,
   "metadata": {},
   "outputs": [
    {
     "name": "stdout",
     "output_type": "stream",
     "text": [
      "[(0, 11), (1, 22), (2, 33), (3, 44), (4, 55)]\n"
     ]
    }
   ],
   "source": [
    "# 案例1\n",
    "l1 = [11,22,33,44,55]\n",
    "em = enumerate(l1)\n",
    "\n",
    "l2 = [i for i in em]\n",
    "print(l2)"
   ]
  },
  {
   "cell_type": "code",
   "execution_count": 16,
   "metadata": {},
   "outputs": [
    {
     "name": "stdout",
     "output_type": "stream",
     "text": [
      "[(100, 11), (101, 22), (102, 33), (103, 44), (104, 55)]\n"
     ]
    }
   ],
   "source": [
    "em = enumerate(l1, start = 100)\n",
    "l2 = [i for i in em]\n",
    "print(l2)"
   ]
  },
  {
   "cell_type": "markdown",
   "metadata": {},
   "source": [
    "## random\n",
    "- 随机数\n",
    "- 所有的随机模块都是伪随机\n"
   ]
  },
  {
   "cell_type": "code",
   "execution_count": 62,
   "metadata": {},
   "outputs": [],
   "source": [
    "import random"
   ]
  },
  {
   "cell_type": "code",
   "execution_count": 63,
   "metadata": {},
   "outputs": [
    {
     "name": "stdout",
     "output_type": "stream",
     "text": [
      "0.6283701874158661\n"
     ]
    }
   ],
   "source": [
    "# random()：获取0~1之间的随机小数\n",
    "# 格式：random.random()\n",
    "# 返回值：随机0~1之间小数\n",
    "\n",
    "print(random.random())"
   ]
  },
  {
   "cell_type": "code",
   "execution_count": 75,
   "metadata": {},
   "outputs": [
    {
     "name": "stdout",
     "output_type": "stream",
     "text": [
      "12\n"
     ]
    }
   ],
   "source": [
    "#   用random.random()函数生成0~100之间的整数？\n",
    "\n",
    "print(int(random.random()*100))\n",
    "\n",
    "'''\n",
    "生成一个0.0和1.0之间的一个数，然后四舍五入取得一个整数。\n",
    "这样所生成的数字就是0或1。*10 是将你所生成的小数乘以10，然后四舍五入取得一个整数:\n",
    "\n",
    "要创建一个1到10之间的随机数，可以这样写:random.random()*10;\n",
    "应为是Math.ceil向上取值，所以不会产生0。要创建一个5到20的随机数可以这样写\n",
    "random.round(random.random()*15)+5;\n",
    "\n",
    "如果要创建一个从x到y的随机数，就可以这样写random.round(random.random()*(y-x))+x;\n",
    "x和y可以是任何的数值，即使是负数也一样。\n",
    "'''"
   ]
  },
  {
   "cell_type": "code",
   "execution_count": 81,
   "metadata": {},
   "outputs": [
    {
     "name": "stdout",
     "output_type": "stream",
     "text": [
      "['0 haha', '1 haha', '2 haha', '3 haha', '4 haha', '5 haha', '6 haha', '7 haha', '8 haha', '9 haha']\n",
      "0 haha\n"
     ]
    }
   ],
   "source": [
    "# choice()：速记返回序列中的某个值\n",
    "# 格式：random.choice(序列)\n",
    "# 返回值：序列中的某个值\n",
    "\n",
    "l = [str(i)+\" haha\" for i in range(10)]\n",
    "print(l)\n",
    "rst = random.choice(l)\n",
    "print(rst)"
   ]
  },
  {
   "cell_type": "code",
   "execution_count": 93,
   "metadata": {},
   "outputs": [
    {
     "name": "stdout",
     "output_type": "stream",
     "text": [
      "[0, 1, 2, 3, 4, 5, 6, 7, 8, 9]\n",
      "[0, 4, 9, 5, 6, 2, 3, 8, 7, 1]\n"
     ]
    }
   ],
   "source": [
    "# shuffle()：随机打乱列表\n",
    "# 格式：random.shuffle(列表)\n",
    "# 返回值：打乱顺序之后的列表\n",
    "\n",
    "l1 = [i for i in range(10)]\n",
    "print(l1)\n",
    "\n",
    "\n",
    "'''\n",
    "l2 = random.shuffle(l1)\n",
    "print(l2)\n",
    ">> None\n",
    "shuffle(x, random=None) method of random.Random instance.\n",
    "Shuffle list x in place, and return None.\n",
    "'''\n",
    "\n",
    "random.shuffle(l1)\n",
    "print(l1)\n",
    "\n",
    "\n",
    "\n"
   ]
  },
  {
   "cell_type": "code",
   "execution_count": 99,
   "metadata": {},
   "outputs": [
    {
     "name": "stdout",
     "output_type": "stream",
     "text": [
      "92\n"
     ]
    }
   ],
   "source": [
    "# randint(a, b)：返回一个a到b之间的随机整数，包含a和b\n",
    "print(random.randint(0,100))"
   ]
  },
  {
   "cell_type": "markdown",
   "metadata": {},
   "source": [
    "### 补充：collections模块\n",
    "- namedtuple\n",
    "- deque"
   ]
  },
  {
   "cell_type": "code",
   "execution_count": 32,
   "metadata": {},
   "outputs": [],
   "source": [
    "import collections"
   ]
  },
  {
   "cell_type": "markdown",
   "metadata": {},
   "source": [
    "#### namedtuple\n",
    "- tuple类型\n",
    "- 是一个可命名的tuple"
   ]
  },
  {
   "cell_type": "code",
   "execution_count": 21,
   "metadata": {},
   "outputs": [
    {
     "name": "stdout",
     "output_type": "stream",
     "text": [
      "Help on function namedtuple in module collections:\n",
      "\n",
      "namedtuple(typename, field_names, *, rename=False, defaults=None, module=None)\n",
      "    Returns a new subclass of tuple with named fields.\n",
      "    \n",
      "    >>> Point = namedtuple('Point', ['x', 'y'])\n",
      "    >>> Point.__doc__                   # docstring for the new class\n",
      "    'Point(x, y)'\n",
      "    >>> p = Point(11, y=22)             # instantiate with positional args or keywords\n",
      "    >>> p[0] + p[1]                     # indexable like a plain tuple\n",
      "    33\n",
      "    >>> x, y = p                        # unpack like a regular tuple\n",
      "    >>> x, y\n",
      "    (11, 22)\n",
      "    >>> p.x + p.y                       # fields also accessible by name\n",
      "    33\n",
      "    >>> d = p._asdict()                 # convert to a dictionary\n",
      "    >>> d['x']\n",
      "    11\n",
      "    >>> Point(**d)                      # convert from a dictionary\n",
      "    Point(x=11, y=22)\n",
      "    >>> p._replace(x=100)               # _replace() is like str.replace() but targets named fields\n",
      "    Point(x=100, y=22)\n",
      "\n"
     ]
    }
   ],
   "source": [
    "help(collections.namedtuple)"
   ]
  },
  {
   "cell_type": "code",
   "execution_count": 27,
   "metadata": {},
   "outputs": [
    {
     "name": "stdout",
     "output_type": "stream",
     "text": [
      "11\n",
      "11\n"
     ]
    }
   ],
   "source": [
    "import collections\n",
    "Point = collections.namedtuple(\"Point\", ['x', 'y'])\n",
    "p = Point(11,22)\n",
    "print(p.x)\n",
    "print(p[0])"
   ]
  },
  {
   "cell_type": "code",
   "execution_count": 30,
   "metadata": {},
   "outputs": [
    {
     "name": "stdout",
     "output_type": "stream",
     "text": [
      "<class '__main__.Circle'>\n",
      "Circle(x=100, y=150, r=50)\n"
     ]
    },
    {
     "data": {
      "text/plain": [
       "True"
      ]
     },
     "execution_count": 30,
     "metadata": {},
     "output_type": "execute_result"
    }
   ],
   "source": [
    "Circle = collections.namedtuple(\"Circle\",['x', 'y', 'r'])\n",
    "c = Circle(100, 150, 50)\n",
    "print(type(c))\n",
    "print(c)\n",
    "\n",
    "# 检测以下namedtuple到底属于谁的子类\n",
    "isinstance(c, tuple)"
   ]
  },
  {
   "cell_type": "markdown",
   "metadata": {},
   "source": [
    "#### deque\n",
    "- 比较方便地解决了频繁删除插入来来的问题"
   ]
  },
  {
   "cell_type": "code",
   "execution_count": 10,
   "metadata": {},
   "outputs": [
    {
     "name": "stdout",
     "output_type": "stream",
     "text": [
      "deque(['a', 'b', 'c'])\n"
     ]
    }
   ],
   "source": [
    "from collections import deque\n",
    "\n",
    "q = deque([\"a\", \"b\", \"c\"])\n",
    "print(q)"
   ]
  },
  {
   "cell_type": "code",
   "execution_count": 12,
   "metadata": {},
   "outputs": [
    {
     "name": "stdout",
     "output_type": "stream",
     "text": [
      "deque(['a', 'b', 'c', 'd', 'd'])\n"
     ]
    }
   ],
   "source": [
    "q.append(\"d\")\n",
    "print(q)"
   ]
  },
  {
   "cell_type": "code",
   "execution_count": 13,
   "metadata": {},
   "outputs": [
    {
     "name": "stdout",
     "output_type": "stream",
     "text": [
      "deque(['x', 'a', 'b', 'c', 'd', 'd'])\n"
     ]
    }
   ],
   "source": [
    "q.appendleft(\"x\")\n",
    "print(q)"
   ]
  },
  {
   "cell_type": "markdown",
   "metadata": {},
   "source": [
    "#### defaultdict\n",
    "- 当直接读取dict不存在的属性是，直接返回默认值"
   ]
  },
  {
   "cell_type": "code",
   "execution_count": 19,
   "metadata": {},
   "outputs": [
    {
     "name": "stdout",
     "output_type": "stream",
     "text": [
      "1\n"
     ]
    },
    {
     "ename": "KeyError",
     "evalue": "'four'",
     "output_type": "error",
     "traceback": [
      "\u001b[1;31m---------------------------------------------------------------------------\u001b[0m",
      "\u001b[1;31mKeyError\u001b[0m                                  Traceback (most recent call last)",
      "\u001b[1;32m<ipython-input-19-08ee2584c739>\u001b[0m in \u001b[0;36m<module>\u001b[1;34m()\u001b[0m\n\u001b[0;32m      2\u001b[0m \u001b[0md1\u001b[0m \u001b[1;33m=\u001b[0m \u001b[1;33m{\u001b[0m\u001b[1;34m\"one\"\u001b[0m\u001b[1;33m:\u001b[0m\u001b[1;36m1\u001b[0m\u001b[1;33m,\u001b[0m \u001b[1;34m\"two\"\u001b[0m\u001b[1;33m:\u001b[0m\u001b[1;36m2\u001b[0m\u001b[1;33m,\u001b[0m \u001b[1;34m\"three\"\u001b[0m\u001b[1;33m:\u001b[0m\u001b[1;36m3\u001b[0m\u001b[1;33m}\u001b[0m\u001b[1;33m\u001b[0m\u001b[0m\n\u001b[0;32m      3\u001b[0m \u001b[0mprint\u001b[0m\u001b[1;33m(\u001b[0m\u001b[0md1\u001b[0m\u001b[1;33m[\u001b[0m\u001b[1;34m\"one\"\u001b[0m\u001b[1;33m]\u001b[0m\u001b[1;33m)\u001b[0m\u001b[1;33m\u001b[0m\u001b[0m\n\u001b[1;32m----> 4\u001b[1;33m \u001b[0mprint\u001b[0m\u001b[1;33m(\u001b[0m\u001b[0md1\u001b[0m\u001b[1;33m[\u001b[0m\u001b[1;34m\"four\"\u001b[0m\u001b[1;33m]\u001b[0m\u001b[1;33m)\u001b[0m\u001b[1;33m\u001b[0m\u001b[0m\n\u001b[0m",
      "\u001b[1;31mKeyError\u001b[0m: 'four'"
     ]
    }
   ],
   "source": [
    "# 注意字典是大括号\n",
    "d1 = {\"one\":1, \"two\":2, \"three\":3}\n",
    "print(d1[\"one\"])\n",
    "print(d1[\"four\"])"
   ]
  },
  {
   "cell_type": "code",
   "execution_count": 24,
   "metadata": {},
   "outputs": [
    {
     "name": "stdout",
     "output_type": "stream",
     "text": [
      "1\n",
      "dana\n"
     ]
    }
   ],
   "source": [
    "from collections import defaultdict\n",
    "# lambda表达式，直接返回字符串\n",
    "func = lambda:\"dana\"\n",
    "d2 = defaultdict(func)\n",
    "\n",
    "d2[\"one\"] = 1\n",
    "d2[\"two\"] = 2\n",
    "\n",
    "print(d2[\"one\"])\n",
    "print(d2[\"four\"])"
   ]
  },
  {
   "cell_type": "markdown",
   "metadata": {},
   "source": [
    "#### Counter \n",
    "- 统计字符串个数"
   ]
  },
  {
   "cell_type": "code",
   "execution_count": 38,
   "metadata": {},
   "outputs": [],
   "source": [
    "from collections import Counter"
   ]
  },
  {
   "cell_type": "code",
   "execution_count": 47,
   "metadata": {},
   "outputs": [
    {
     "name": "stdout",
     "output_type": "stream",
     "text": [
      "Counter({'f': 6, 's': 5, 'i': 4, 'a': 3, 'g': 3, 'h': 3, 'd': 2, 'k': 2, 'l': 2, 'j': 2, 'o': 1, 'c': 1})\n"
     ]
    }
   ],
   "source": [
    "# 为什么下面结果不把abcdefgabced.....作为键值，而是以其中每一个字母作为键值\n",
    "# 因为需要括号里内容为可迭代\n",
    "c = Counter(\"asdfghsadkljghssffgjklaiosficifhfi\")\n",
    "print(c)"
   ]
  },
  {
   "cell_type": "code",
   "execution_count": 50,
   "metadata": {},
   "outputs": [
    {
     "name": "stdout",
     "output_type": "stream",
     "text": [
      "Counter({'dana': 3, 'love': 2, 'wangxiaojing': 2})\n"
     ]
    }
   ],
   "source": [
    "s = [\"dana\", \"love\",\"dana\", \"wangxiaojing\", \"love\", \"dana\",\"wangxiaojing\"]\n",
    "c = Counter(s)\n",
    "print(c)"
   ]
  },
  {
   "cell_type": "code",
   "execution_count": null,
   "metadata": {},
   "outputs": [],
   "source": []
  },
  {
   "cell_type": "code",
   "execution_count": null,
   "metadata": {},
   "outputs": [],
   "source": []
  },
  {
   "cell_type": "code",
   "execution_count": null,
   "metadata": {},
   "outputs": [],
   "source": []
  },
  {
   "cell_type": "code",
   "execution_count": null,
   "metadata": {},
   "outputs": [],
   "source": []
  },
  {
   "cell_type": "code",
   "execution_count": null,
   "metadata": {},
   "outputs": [],
   "source": []
  },
  {
   "cell_type": "code",
   "execution_count": null,
   "metadata": {},
   "outputs": [],
   "source": []
  }
 ],
 "metadata": {
  "kernelspec": {
   "display_name": "Python 3",
   "language": "python",
   "name": "python3"
  },
  "language_info": {
   "codemirror_mode": {
    "name": "ipython",
    "version": 3
   },
   "file_extension": ".py",
   "mimetype": "text/x-python",
   "name": "python",
   "nbconvert_exporter": "python",
   "pygments_lexer": "ipython3",
   "version": "3.7.0"
  }
 },
 "nbformat": 4,
 "nbformat_minor": 2
}
