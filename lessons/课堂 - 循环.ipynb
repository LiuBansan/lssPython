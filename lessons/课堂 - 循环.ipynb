{
 "cells": [
  {
   "cell_type": "code",
   "execution_count": 1,
   "metadata": {},
   "outputs": [
    {
     "name": "stdout",
     "output_type": "stream",
     "text": [
      "0\n",
      "10\n",
      "20\n",
      "30\n",
      "40\n",
      "50\n",
      "60\n",
      "70\n",
      "80\n",
      "90\n",
      "end\n"
     ]
    }
   ],
   "source": [
    "#range函数\n",
    "\n",
    "for i in range(0,100,10):\n",
    "    print(i)\n",
    "\n",
    "print(\"end\")"
   ]
  },
  {
   "cell_type": "code",
   "execution_count": 2,
   "metadata": {},
   "outputs": [
    {
     "name": "stdout",
     "output_type": "stream",
     "text": [
      "外层循环 0\n",
      "内层： 0\n",
      "内层： 1\n",
      "内层： 2\n",
      "外层循环结束\n",
      "外层循环 1\n",
      "内层： 0\n",
      "内层： 1\n",
      "内层： 2\n",
      "外层循环结束\n",
      "外层循环 2\n",
      "内层： 0\n",
      "内层： 1\n",
      "内层： 2\n",
      "外层循环结束\n",
      "end 完美^-^\n"
     ]
    }
   ],
   "source": [
    "#循环套嵌\n",
    "#while中while\n",
    "\n",
    "for i in range(0,3):\n",
    "    print(\"外层循环\",i)\n",
    "    for j in range(0,3):\n",
    "        print(\"内层：\",j)\n",
    "    print(\"外层循环结束\")\n",
    "\n",
    "print(\"end 完美^-^\")"
   ]
  },
  {
   "cell_type": "code",
   "execution_count": 3,
   "metadata": {},
   "outputs": [
    {
     "name": "stdout",
     "output_type": "stream",
     "text": [
      "循环: 0\n",
      "循环: 1\n",
      "循环: 2\n",
      "循环: 3\n",
      "循环: 4\n",
      "循环: 5\n",
      "循环: 6\n",
      "循环: 7\n",
      "循环: 8\n",
      "循环: 9\n",
      "循环: 10\n",
      "循环: 11\n",
      "循环: 12\n",
      "循环: 13\n",
      "循环: 14\n",
      "循环: 15\n",
      "循环: 16\n",
      "循环: 17\n",
      "循环: 18\n",
      "循环: 19\n",
      "循环: 20\n",
      "循环: 21\n",
      "循环: 22\n",
      "循环: 23\n",
      "循环: 24\n",
      "循环: 25\n",
      "循环: 26\n",
      "循环: 27\n",
      "循环: 28\n",
      "循环: 29\n",
      "循环: 30\n",
      "循环: 31\n",
      "循环: 32\n",
      "循环: 33\n",
      "循环: 34\n",
      "循环: 35\n",
      "循环: 36\n",
      "循环: 37\n",
      "循环: 38\n",
      "循环: 39\n",
      "循环: 40\n",
      "循环: 41\n",
      "循环: 42\n",
      "循环: 43\n",
      "循环: 44\n",
      "循环: 45\n",
      "循环: 46\n",
      "循环: 47\n",
      "循环: 48\n",
      "循环: 49\n",
      "循环: 50\n",
      "循环: 51\n",
      "end 完美^-^\n"
     ]
    }
   ],
   "source": [
    "#break跳出循环语句  直接中止\n",
    "\n",
    "for i in range(0,100):\n",
    "    print(\"循环:\",i)\n",
    "\n",
    "    if i >50:\n",
    "        break\n",
    "\n",
    "print(\"end 完美^-^\")"
   ]
  },
  {
   "cell_type": "code",
   "execution_count": 19,
   "metadata": {},
   "outputs": [
    {
     "name": "stdout",
     "output_type": "stream",
     "text": [
      "操作一：\n",
      "操作二:：\n",
      "操作结束\n",
      "操作一：\n",
      "操作二:：\n",
      "操作结束\n",
      "操作一：\n",
      "操作二:：\n",
      "操作结束\n",
      "操作一：\n",
      "操作二:：\n",
      "操作结束\n",
      "操作一：\n",
      "操作一：\n",
      "操作一：\n",
      "操作一：\n",
      "操作一：\n",
      "end\n"
     ]
    }
   ],
   "source": [
    "#continue跳出循环语句，中止本次循环，进行下一个循环 \n",
    "\n",
    "i=1\n",
    "while i <10:\n",
    "    print(\"操作一：\")\n",
    "    i=i+1\n",
    "    if i >5:\n",
    "        continue\n",
    "    \n",
    "    print(\"操作二:：\")\n",
    "    print(\"操作结束\")\n",
    "\n",
    "    \n",
    "print(\"end\")\n"
   ]
  },
  {
   "cell_type": "code",
   "execution_count": 5,
   "metadata": {},
   "outputs": [
    {
     "name": "stdout",
     "output_type": "stream",
     "text": [
      "[2, 4, 6, 'a', 'b', 'c', '啊', '我', '的']\n",
      "[1, 2, 3, 4, 5, 6, 7, 8, 9, 10]\n",
      "2\n",
      "4\n",
      "6\n",
      "a\n",
      "b\n",
      "c\n",
      "啊\n",
      "我\n",
      "的\n"
     ]
    }
   ],
   "source": [
    "#序列：列表，元组，集合，字典，字符串\n",
    "#序列常用操作：索引，切片，相加相乘，成员检查（in，）\n",
    "\n",
    "#列表[1,e,8,\"啊\"]  删除列表:del 列表名\n",
    "\n",
    "mylist=[2,4,6,\"a\",\"b\",\"c\",\"啊\",\"我\",\"的\"]\n",
    "mylist1=list(range(1,11))\n",
    "\n",
    "print(mylist)\n",
    "print(mylist1)\n",
    "\n",
    "#遍历列表 1.使用for循环\n",
    "\n",
    "mylist=[2,4,6,\"a\",\"b\",\"c\",\"啊\",\"我\",\"的\"]\n",
    "for item in mylist:\n",
    "    print(item)\n",
    "    "
   ]
  },
  {
   "cell_type": "code",
   "execution_count": 8,
   "metadata": {},
   "outputs": [
    {
     "ename": "TypeError",
     "evalue": "cannot unpack non-iterable int object",
     "output_type": "error",
     "traceback": [
      "\u001b[1;31m---------------------------------------------------------------------------\u001b[0m",
      "\u001b[1;31mTypeError\u001b[0m                                 Traceback (most recent call last)",
      "\u001b[1;32m<ipython-input-8-07481c845010>\u001b[0m in \u001b[0;36m<module>\u001b[1;34m()\u001b[0m\n\u001b[0;32m      2\u001b[0m \u001b[1;33m\u001b[0m\u001b[0m\n\u001b[0;32m      3\u001b[0m \u001b[0mmylist\u001b[0m\u001b[1;33m=\u001b[0m\u001b[1;33m[\u001b[0m\u001b[1;36m2\u001b[0m\u001b[1;33m,\u001b[0m\u001b[1;36m4\u001b[0m\u001b[1;33m,\u001b[0m\u001b[1;36m6\u001b[0m\u001b[1;33m,\u001b[0m\u001b[1;34m\"a\"\u001b[0m\u001b[1;33m,\u001b[0m\u001b[1;34m\"b\"\u001b[0m\u001b[1;33m,\u001b[0m\u001b[1;34m\"c\"\u001b[0m\u001b[1;33m,\u001b[0m\u001b[1;34m\"啊\"\u001b[0m\u001b[1;33m,\u001b[0m\u001b[1;34m\"我\"\u001b[0m\u001b[1;33m,\u001b[0m\u001b[1;34m\"的\"\u001b[0m\u001b[1;33m]\u001b[0m\u001b[1;33m\u001b[0m\u001b[0m\n\u001b[1;32m----> 4\u001b[1;33m \u001b[1;32mfor\u001b[0m \u001b[0mindex\u001b[0m\u001b[1;33m,\u001b[0m\u001b[0mitem\u001b[0m \u001b[1;32min\u001b[0m \u001b[0mmylist\u001b[0m\u001b[1;33m:\u001b[0m\u001b[1;33m\u001b[0m\u001b[0m\n\u001b[0m\u001b[0;32m      5\u001b[0m     \u001b[0mprint\u001b[0m\u001b[1;33m(\u001b[0m\u001b[0mindex\u001b[0m\u001b[1;33m,\u001b[0m\u001b[0mitem\u001b[0m\u001b[1;33m)\u001b[0m\u001b[1;33m\u001b[0m\u001b[0m\n",
      "\u001b[1;31mTypeError\u001b[0m: cannot unpack non-iterable int object"
     ]
    }
   ],
   "source": [
    "#使用for循环和enumerte()函数\n",
    "\n",
    "mylist=[2,4,6,\"a\",\"b\",\"c\",\"啊\",\"我\",\"的\"]\n",
    "for index,item in mylist:\n",
    "    print(index,item)"
   ]
  },
  {
   "cell_type": "code",
   "execution_count": 9,
   "metadata": {},
   "outputs": [
    {
     "name": "stdout",
     "output_type": "stream",
     "text": [
      "[2, 4, 6, 'a', 'b', 'c', '啊', '我', '的']\n",
      "[2, 4, 'hello', 6, 'a', 'b', 'c', '啊', '我', '的', 100, 'python']\n"
     ]
    }
   ],
   "source": [
    "#更新列表\n",
    "\n",
    "mylist=[2,4,6,\"a\",\"b\",\"c\",\"啊\",\"我\",\"的\"]\n",
    "print(mylist)\n",
    "\n",
    "mylist.append(100)\n",
    "mylist.append('python')\n",
    "mylist.insert(2,'hello')\n",
    "\n",
    "print(mylist)"
   ]
  },
  {
   "cell_type": "code",
   "execution_count": 10,
   "metadata": {},
   "outputs": [
    {
     "name": "stdout",
     "output_type": "stream",
     "text": [
      "[2, 4, 6, 10, 12]\n"
     ]
    }
   ],
   "source": [
    "#删除元素--> 列表名.remove(元素)\n",
    "\n",
    "mylist=[2,4,6,8,10,12,14]\n",
    "del mylist[3]\n",
    "mylist.remove(14)\n",
    "\n",
    "\n",
    "print(mylist)\n"
   ]
  },
  {
   "cell_type": "code",
   "execution_count": 11,
   "metadata": {},
   "outputs": [
    {
     "name": "stdout",
     "output_type": "stream",
     "text": [
      "[2, 4, 6, 'a', 'b', 'c', '啊', '我', '的']\n",
      "[2, 4, 6, 'a', 'b', 'c', '啊', '我']\n",
      "0\n",
      "0\n",
      "56\n",
      "[2, 4, 6, 8, 10, 12, 14]\n"
     ]
    }
   ],
   "source": [
    "#pop 运行结果“的”没有了\n",
    "\n",
    "mylist=[2,4,6,\"a\",\"b\",\"c\",\"啊\",\"我\",\"的\"]\n",
    "mylist3=[2,4,6,8,10,12,14]\n",
    "print(mylist)\n",
    "mylist.pop()\n",
    "print(mylist)\n",
    "\n",
    "\n",
    "mylist=[2,4,6,\"a\",\"b\",\"c\",\"啊\",\"我\",\"的\"]\n",
    "mylist3=[2,4,6,8,10,12,14]\n",
    "\n",
    "#出现次数\n",
    "\n",
    "print(mylist3.count(1))\n",
    "\n",
    "#所在位置0,1,2，3\n",
    "\n",
    "print(mylist3.index(2))\n",
    "\n",
    "\n",
    "#和\n",
    "\n",
    "print(sum(mylist3))\n",
    "\n",
    "\n",
    "#排序\n",
    "\n",
    "print(mylist3)\n",
    "\n",
    "\n"
   ]
  },
  {
   "cell_type": "code",
   "execution_count": 12,
   "metadata": {},
   "outputs": [
    {
     "name": "stdout",
     "output_type": "stream",
     "text": [
      "[7, 8, 9] [1]\n"
     ]
    }
   ],
   "source": [
    "#二维列表\n",
    "\n",
    "mylist4=[[1,2,3],[4,5,6],[7,8,9]]\n",
    "\n",
    "print (mylist4[2],[1])\n",
    "\n"
   ]
  },
  {
   "cell_type": "code",
   "execution_count": 14,
   "metadata": {},
   "outputs": [
    {
     "name": "stdout",
     "output_type": "stream",
     "text": [
      "请输入数值1：3\n",
      "请输入数值2：2\n",
      "变量1： 2\n",
      "变量2： 3\n"
     ]
    }
   ],
   "source": [
    "#交换数值\n",
    "\n",
    "a1=int(input(\"请输入数值1：\"))\n",
    "a2=int(input(\"请输入数值2：\"))\n",
    "\n",
    "\n",
    "a3=a1\n",
    "a1=a2\n",
    "a2=a3\n",
    "\n",
    "print(\"变量1：\",a1)\n",
    "print(\"变量2：\",a2)\n",
    "\n"
   ]
  },
  {
   "cell_type": "code",
   "execution_count": 16,
   "metadata": {},
   "outputs": [
    {
     "name": "stdout",
     "output_type": "stream",
     "text": [
      "请输入数值1：65\n",
      "请输入数值2：23\n",
      "请输入数值3：88\n",
      "你输入的数值为： 65 23 88\n",
      "从小到大为： 23 65 88\n"
     ]
    }
   ],
   "source": [
    "#三数比较大小\n",
    "a1=int(input(\"请输入数值1：\"))\n",
    "a2=int(input(\"请输入数值2：\"))\n",
    "a3=int(input(\"请输入数值3：\"))\n",
    "\n",
    "print('你输入的数值为：',a1,a2,a3)\n",
    "if a1>a2:\n",
    "    a4=a1\n",
    "    a1=a2\n",
    "    a2=a4\n",
    "if a1>a3:\n",
    "    a4=a1\n",
    "    a1=a3\n",
    "    a2=a4\n",
    "\n",
    "if a2>a3:\n",
    "    a4=a1\n",
    "    a2=a3\n",
    "    a2=a4\n",
    "print('从小到大为：',a1,a2,a3)"
   ]
  },
  {
   "cell_type": "code",
   "execution_count": 17,
   "metadata": {},
   "outputs": [
    {
     "name": "stdout",
     "output_type": "stream",
     "text": [
      "请输入结束的数：13\n",
      "从1加到13结果是：91\n"
     ]
    }
   ],
   "source": [
    "\n",
    "# ctrl+c 强制结束，while语句\n",
    "# su+=i表示的是su=su+i\n",
    "\n",
    "\n",
    "n  = int(input(\"请输入结束的数：\"))\n",
    "i = 1\n",
    "su = 0\n",
    "for i in range(n+1):\n",
    "    su+=i\n",
    "print(\"从1加到%d结果是：%d\" % (n,su))\n",
    "\n"
   ]
  },
  {
   "cell_type": "code",
   "execution_count": null,
   "metadata": {},
   "outputs": [],
   "source": [
    "age = int(input('请输入年龄：'))\n",
    "\n",
    "print ('你的年龄是：',age)\n",
    "\n",
    "if age > 65:\n",
    "    print('大爷你好')\n",
    "elif age > 35 :\n",
    "    print('大叔你好')\n",
    "elif age > 25 :\n",
    "    print('大哥你好')\n",
    "elif age > 15 :\n",
    "    print('小哥你好')\n",
    "else:\n",
    "    print('小屁孩，你在干嘛！')\n",
    "    print('你妈叫你回家吃饭啦。')\n",
    "#缩进很重要\n",
    "print ('今天天气不错')\n",
    "    "
   ]
  },
  {
   "cell_type": "code",
   "execution_count": null,
   "metadata": {},
   "outputs": [],
   "source": []
  }
 ],
 "metadata": {
  "kernelspec": {
   "display_name": "Python 3",
   "language": "python",
   "name": "python3"
  },
  "language_info": {
   "codemirror_mode": {
    "name": "ipython",
    "version": 3
   },
   "file_extension": ".py",
   "mimetype": "text/x-python",
   "name": "python",
   "nbconvert_exporter": "python",
   "pygments_lexer": "ipython3",
   "version": "3.7.0"
  }
 },
 "nbformat": 4,
 "nbformat_minor": 2
}
