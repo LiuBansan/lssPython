{
 "cells": [
  {
   "cell_type": "markdown",
   "metadata": {},
   "source": [
    "# 内置数据结构 （变量类型）\n",
    "- list\n",
    "- set\n",
    "- dict\n",
    "- tuple\n",
    "\n",
    "## list（列表）\n",
    "- 一组有顺序的数据的组合\n",
    "- 创建列表\n",
    "    - 空列表"
   ]
  },
  {
   "cell_type": "code",
   "execution_count": 24,
   "metadata": {},
   "outputs": [
    {
     "name": "stdout",
     "output_type": "stream",
     "text": [
      "<class 'list'>\n",
      "[]\n",
      "<class 'list'>\n",
      "[100]\n",
      "<class 'list'>\n",
      "[2, 3, 4, 5, 7, 8, 1]\n"
     ]
    }
   ],
   "source": [
    "# 1.创建空列表\n",
    "l1 = []\n",
    "#type是内置函数负责打印出变量的类型\n",
    "print(type(l1))\n",
    "print(l1)"
   ]
  },
  {
   "cell_type": "code",
   "execution_count": 27,
   "metadata": {},
   "outputs": [
    {
     "name": "stdout",
     "output_type": "stream",
     "text": [
      "<class 'list'>\n",
      "[100]\n"
     ]
    }
   ],
   "source": [
    "# 2. 创建带值的列表\n",
    "l2 = [100]\n",
    "print(type(l2))\n",
    "print(l2)\n"
   ]
  },
  {
   "cell_type": "code",
   "execution_count": 26,
   "metadata": {},
   "outputs": [
    {
     "name": "stdout",
     "output_type": "stream",
     "text": [
      "<class 'list'>\n",
      "[2, 3, 4, 5, 7, 8, 1]\n"
     ]
    }
   ],
   "source": [
    "# 3.\n",
    "l3 = [2,3,4,5,7,8,1]\n",
    "print(type(l3))\n",
    "print(l3)"
   ]
  },
  {
   "cell_type": "code",
   "execution_count": 25,
   "metadata": {},
   "outputs": [
    {
     "name": "stdout",
     "output_type": "stream",
     "text": [
      "<class 'list'>\n",
      "[]\n"
     ]
    }
   ],
   "source": [
    "# 4.使用list()\n",
    "l4 = list()\n",
    "print(type(l4))\n",
    "print(l4)"
   ]
  },
  {
   "cell_type": "markdown",
   "metadata": {},
   "source": [
    "## 列表常用操作\n",
    "- 访问\n",
    "    - 使用下标操作（索引）\n",
    "    - 列表的位置是从0开始\n",
    "- 分片操作\n",
    "    - 对于列表进行任意一段的数取\n",
    "    - l[A:B] 从A到B-1位置，下标值的数据取出来"
   ]
  },
  {
   "cell_type": "code",
   "execution_count": 2,
   "metadata": {},
   "outputs": [
    {
     "name": "stdout",
     "output_type": "stream",
     "text": [
      "3\n"
     ]
    }
   ],
   "source": [
    "# 下标访问列表\n",
    "l = [6, 2, 3, 4, 7, 8, 6]\n",
    "print(l[2])"
   ]
  },
  {
   "cell_type": "code",
   "execution_count": 14,
   "metadata": {},
   "outputs": [
    {
     "name": "stdout",
     "output_type": "stream",
     "text": [
      "[3, 4]\n",
      "[6, 2, 3, 4]\n",
      "[6, 2, 3, 4, 7, 8, 6]\n",
      "[3, 4, 7, 8, 6]\n"
     ]
    }
   ],
   "source": [
    "# 分片操作\n",
    "# 注意数取的范围，包含左边的下标值，不包含右边的下标值\n",
    "print(l[2:4])\n",
    "# 下标值可以为空，如果不写，左边下标值默认为0，右边下标值为最大加一。\n",
    "\n",
    "print(l[:4])\n",
    "print(l[:])\n",
    "print(l[2:])\n"
   ]
  },
  {
   "cell_type": "code",
   "execution_count": 18,
   "metadata": {},
   "outputs": [
    {
     "name": "stdout",
     "output_type": "stream",
     "text": [
      "[6, 2, 3, 4, 7, 8, 6]\n",
      "[3, 4, 7]\n",
      "[2, 4]\n",
      "[2, 3, 4, 7, 8]\n"
     ]
    }
   ],
   "source": [
    "print(l)\n",
    "# 分片可以控制增长幅度，默认增长幅度为1\n",
    "print(l[2:5:1])\n",
    "\n",
    "# 打印从下标1开始的数字，每次隔一个\n",
    "print(l[1:5:2])\n",
    "\n",
    "# 下标可以超出范围，超出范围不再考虑多余下表内容\n",
    "print(l[1:6])"
   ]
  },
  {
   "cell_type": "code",
   "execution_count": 20,
   "metadata": {},
   "outputs": [
    {
     "name": "stdout",
     "output_type": "stream",
     "text": [
      "[6, 2, 3, 4, 7, 8, 6]\n",
      "[]\n",
      "[4, 7]\n"
     ]
    }
   ],
   "source": [
    "#下标值,增长值都可以为负数,例如\n",
    "# 为负数，表明顺序是从右往左\n",
    "# 规定：数组最后一个数字的下标是-1\n",
    "\n",
    "\n",
    "print(l)\n",
    "# 下面显示为空，因为默认分片是默认从右往左数\n",
    "# 正常的情况下，左边的值一定小于右边的值\n",
    "print(l[-2:-4])\n",
    "print(l[-4:-2])"
   ]
  },
  {
   "cell_type": "code",
   "execution_count": 28,
   "metadata": {},
   "outputs": [
    {
     "name": "stdout",
     "output_type": "stream",
     "text": [
      "[6, 2, 3, 4, 7, 8, 6]\n",
      "[8, 7]\n"
     ]
    }
   ],
   "source": [
    "print(l)\n",
    "# 如果分片一定左边值比右边值，则步长需要使用负数\n",
    "print(l[-2:-4:-1])"
   ]
  },
  {
   "cell_type": "markdown",
   "metadata": {},
   "source": [
    "## 分片操作是生成一个新list\n",
    " - 内置函数id,负责显示一个变量或者老数据的唯一确定编号"
   ]
  },
  {
   "cell_type": "code",
   "execution_count": 32,
   "metadata": {},
   "outputs": [
    {
     "name": "stdout",
     "output_type": "stream",
     "text": [
      "140723283032928\n",
      "140723283036128\n",
      "140723283032928\n"
     ]
    }
   ],
   "source": [
    "# id函数\n",
    "a = 100\n",
    "b = 200\n",
    "print(id(a))\n",
    "print(id(b))\n",
    "\n",
    "c = a\n",
    "print(id(c))"
   ]
  },
  {
   "cell_type": "code",
   "execution_count": 34,
   "metadata": {},
   "outputs": [
    {
     "name": "stdout",
     "output_type": "stream",
     "text": [
      "101\n",
      "100\n"
     ]
    }
   ],
   "source": [
    "# 如果a跟c只是一份数据，则更改a的值同样也会更改c的值\n",
    "# 但是，????\n",
    "a = 101\n",
    "print(a)\n",
    "print(c)"
   ]
  },
  {
   "cell_type": "code",
   "execution_count": 37,
   "metadata": {},
   "outputs": [
    {
     "name": "stdout",
     "output_type": "stream",
     "text": [
      "2311403784776\n",
      "2311394790600\n",
      "2311394790600\n"
     ]
    }
   ],
   "source": [
    "# 通过i,d,可以直接判断出分片是重新生成一份数据还是使用同一份数据\n",
    "l = [65,2,34,96,4,46,44,12,38]\n",
    "l2 = l[:]\n",
    "l3 = l2\n",
    "# 如果两个id值一样，则表示分片所产生的列表是使用同一份地址同一份数据\n",
    "# 否则，表明分片是重新生成了一份数据，即一个新列表，然后把数据拷贝到新列表中\n",
    "print(id(l))\n",
    "print(id(l2))\n",
    "print(id(l3))"
   ]
  },
  {
   "cell_type": "code",
   "execution_count": 39,
   "metadata": {},
   "outputs": [
    {
     "name": "stdout",
     "output_type": "stream",
     "text": [
      "[65, 100, 34, 96, 4, 46, 44, 12, 38]\n",
      "[65, 2, 34, 96, 4, 46, 44, 12, 38]\n",
      "[65, 100, 34, 96, 4, 46, 44, 12, 38]\n",
      "[65, 100, 34, 96, 4, 46, 44, 12, 38]\n"
     ]
    }
   ],
   "source": [
    "# 通过id知道，l2和l3是同一份数据，验证一下\n",
    "l[1] = 100\n",
    "print(l)\n",
    "print(l2)\n",
    "\n",
    "l2[1] = 100\n",
    "print(l2)\n",
    "print(l3)"
   ]
  },
  {
   "cell_type": "markdown",
   "metadata": {},
   "source": [
    "\n"
   ]
  },
  {
   "cell_type": "markdown",
   "metadata": {},
   "source": [
    "# 内置数据结构"
   ]
  },
  {
   "cell_type": "markdown",
   "metadata": {},
   "source": [
    " ## 汉诺塔问题\n",
    "  - 规则：\n",
    "      - 1.每次移动一个盘子\n",
    "      - 2.任何时候大盘子在下面，小盘子在上面\n",
    "  - 方法：\n",
    "      - 1.n=1：直接把A上的盘子移动到C上 ，A->C\n",
    "      - 2.n=2:\n",
    "          - 1.把小盘子从A放到B上，A->B\n",
    "          - 2.把大盘子从A放到C上，A->C\n",
    "          - 3.把小盘子从B放到C上，B->C\n",
    "      - 3.n=3:\n",
    "          - 1.把A上的两个盘子，通过C移动到B上，调用递归函数实现\n",
    "          - 2.把A剩下的一个最大盘子移动到C上，A->c\n",
    "          - 3.把B上两个盘子，借助于A，移动到C上面，调用递归\n",
    "      - 4.n = n:\n",
    "          - 1.把A上的n-1个盘子，通过C移动到B上，调用递归函数实现\n",
    "          - 2.把上的最大盘子，也是唯一一个，移动到C上，A->c\n",
    "          - 3.把B上n-1个盘子，借助于A，移动到C上面，调用递归\n",
    "      \n",
    "  "
   ]
  },
  {
   "cell_type": "code",
   "execution_count": 44,
   "metadata": {},
   "outputs": [
    {
     "name": "stdout",
     "output_type": "stream",
     "text": [
      "A --> C\n"
     ]
    }
   ],
   "source": [
    "def hano(n, a, b, c):\n",
    "    '''\n",
    "    汉诺塔的递归实现\n",
    "    n：代表几个盘子\n",
    "    a：代表第一个塔，开始的塔\n",
    "    b：代表第二个塔，中间过渡的塔\n",
    "    c：代表第三个塔，目标塔\n",
    "    '''\n",
    "    if n == 1:\n",
    "        print(a, \"-->\", c)\n",
    "        return None\n",
    "    \n",
    "    #  下面这一段可以去掉\n",
    "    if n == 2:\n",
    "        print(a, \"-->\", b)\n",
    "        print(a, \"-->\", c)\n",
    "        print(b, \"-->\", c)\n",
    "        return None\n",
    "    \n",
    "    \n",
    "    # 把n-1个盘子，从a塔借助于c塔,挪到b塔上\n",
    "    hano(n-1, a, c, b)\n",
    "    print(a, \"-->\", c)\n",
    "    # 把n-1个盘子，从b塔，借助于a塔，挪到c塔上\n",
    "    hano(n-1,b, a, c)\n",
    "\n",
    "a = \"A\"\n",
    "b = \"B\"\n",
    "c = \"C\"\n",
    "  \n",
    "n = 1\n",
    "hano(n,a,b,c)"
   ]
  },
  {
   "cell_type": "code",
   "execution_count": null,
   "metadata": {},
   "outputs": [],
   "source": []
  },
  {
   "cell_type": "code",
   "execution_count": 45,
   "metadata": {},
   "outputs": [
    {
     "name": "stdout",
     "output_type": "stream",
     "text": [
      "A --> B\n",
      "A --> C\n",
      "B --> C\n"
     ]
    }
   ],
   "source": [
    "n = 2\n",
    "hano(n,a,b,c)"
   ]
  },
  {
   "cell_type": "code",
   "execution_count": 47,
   "metadata": {},
   "outputs": [
    {
     "name": "stdout",
     "output_type": "stream",
     "text": [
      "A --> C\n",
      "A --> B\n",
      "C --> B\n",
      "A --> C\n",
      "B --> A\n",
      "B --> C\n",
      "A --> C\n"
     ]
    }
   ],
   "source": [
    "n = 3\n",
    "hano(n,a,b,c)"
   ]
  },
  {
   "cell_type": "code",
   "execution_count": 49,
   "metadata": {},
   "outputs": [
    {
     "name": "stdout",
     "output_type": "stream",
     "text": [
      "A --> C\n",
      "A --> B\n",
      "C --> B\n",
      "A --> C\n",
      "B --> A\n",
      "B --> C\n",
      "A --> C\n",
      "A --> B\n",
      "C --> B\n",
      "C --> A\n",
      "B --> A\n",
      "C --> B\n",
      "A --> C\n",
      "A --> B\n",
      "C --> B\n",
      "A --> C\n",
      "B --> A\n",
      "B --> C\n",
      "A --> C\n",
      "B --> A\n",
      "C --> B\n",
      "C --> A\n",
      "B --> A\n",
      "B --> C\n",
      "A --> C\n",
      "A --> B\n",
      "C --> B\n",
      "A --> C\n",
      "B --> A\n",
      "B --> C\n",
      "A --> C\n"
     ]
    }
   ],
   "source": [
    "n = 5\n",
    "hano(n,a,b,c)"
   ]
  },
  {
   "cell_type": "markdown",
   "metadata": {},
   "source": [
    "## list(列表)\n",
    " - del:删除命令"
   ]
  },
  {
   "cell_type": "code",
   "execution_count": 50,
   "metadata": {},
   "outputs": [
    {
     "name": "stdout",
     "output_type": "stream",
     "text": [
      "2311405209672\n",
      "[1, 6, 41, 13, 136]\n"
     ]
    }
   ],
   "source": [
    "a = [1,6,9,41,13,136]\n",
    "del a[2]\n",
    "print(id(a))\n",
    "print(a)"
   ]
  },
  {
   "cell_type": "code",
   "execution_count": 53,
   "metadata": {},
   "outputs": [
    {
     "name": "stdout",
     "output_type": "stream",
     "text": [
      "2311405018184\n",
      "2311405018184\n",
      "[1, 2, 4, 5, 6]\n"
     ]
    }
   ],
   "source": [
    "# del删除\n",
    "# 如果使用del之后，id的值和删除前的值不一样，则说明删除生成了一个新的list\n",
    "a = [1,2,3,4,5,6]\n",
    "print(id(a))\n",
    "del a[2]\n",
    "print(id(a))\n",
    "print(a)"
   ]
  },
  {
   "cell_type": "code",
   "execution_count": 54,
   "metadata": {},
   "outputs": [
    {
     "ename": "NameError",
     "evalue": "name 'a' is not defined",
     "output_type": "error",
     "traceback": [
      "\u001b[1;31m---------------------------------------------------------------------------\u001b[0m",
      "\u001b[1;31mNameError\u001b[0m                                 Traceback (most recent call last)",
      "\u001b[1;32m<ipython-input-54-30146fc0a8ea>\u001b[0m in \u001b[0;36m<module>\u001b[1;34m()\u001b[0m\n\u001b[0;32m      1\u001b[0m \u001b[1;31m# del一个变量后不能在继续使用此变量\u001b[0m\u001b[1;33m\u001b[0m\u001b[1;33m\u001b[0m\u001b[0m\n\u001b[0;32m      2\u001b[0m \u001b[1;32mdel\u001b[0m \u001b[0ma\u001b[0m\u001b[1;33m\u001b[0m\u001b[0m\n\u001b[1;32m----> 3\u001b[1;33m \u001b[0mprint\u001b[0m\u001b[1;33m(\u001b[0m\u001b[0ma\u001b[0m\u001b[1;33m)\u001b[0m\u001b[1;33m\u001b[0m\u001b[0m\n\u001b[0m",
      "\u001b[1;31mNameError\u001b[0m: name 'a' is not defined"
     ]
    }
   ],
   "source": [
    "# del一个变量后不能在继续使用此变量\n",
    "del a\n",
    "print(a)"
   ]
  },
  {
   "cell_type": "markdown",
   "metadata": {},
   "source": [
    "### 列表相加\n",
    "- 使用加号继续链接两个列表"
   ]
  },
  {
   "cell_type": "code",
   "execution_count": 57,
   "metadata": {},
   "outputs": [
    {
     "name": "stdout",
     "output_type": "stream",
     "text": [
      "[1, 2, 3, 4, 5, 6, 5, 6, 7, 9, 8, 10, 'bb', 'sd', 'csc']\n"
     ]
    }
   ],
   "source": [
    "a = [1,2,3,4,5,6]\n",
    "b = [5,6,7,9,8,10]\n",
    "d = [\"bb\",\"sd\",\"csc\"]\n",
    "c= a + b + d\n",
    "print(c)"
   ]
  },
  {
   "cell_type": "code",
   "execution_count": 58,
   "metadata": {},
   "outputs": [
    {
     "name": "stdout",
     "output_type": "stream",
     "text": [
      "[1, 2, 3, 4, 1, 2, 3, 4, 1, 2, 3, 4, 1, 2, 3, 4, 1, 2, 3, 4]\n"
     ]
    }
   ],
   "source": [
    "# 使用乘号操作列表\n",
    "# 列表直接跟一个整数相乘\n",
    "# 相当于把n个list接在一起\n",
    "a = [1,2,3,4]\n",
    "b = a * 5\n",
    "print(b)"
   ]
  },
  {
   "cell_type": "code",
   "execution_count": 59,
   "metadata": {},
   "outputs": [
    {
     "name": "stdout",
     "output_type": "stream",
     "text": [
      "False\n",
      "True\n"
     ]
    }
   ],
   "source": [
    "# 成员资格运算\n",
    "# 就是判断一个元素是否在list里\n",
    "a = [1,2,3,4]\n",
    "b = 6\n",
    "\n",
    "# c 的值是一个布尔值\n",
    "c = b in a\n",
    "print(c)\n",
    "\n",
    "b = 4\n",
    "print(b in a)"
   ]
  },
  {
   "cell_type": "code",
   "execution_count": 60,
   "metadata": {},
   "outputs": [
    {
     "name": "stdout",
     "output_type": "stream",
     "text": [
      "True\n"
     ]
    }
   ],
   "source": [
    "# not in \n",
    "a = [1,2,3,4]\n",
    "b = 0\n",
    "\n",
    "print(b not in a)"
   ]
  },
  {
   "cell_type": "markdown",
   "metadata": {},
   "source": [
    "### 列表的遍历\n",
    "- for\n",
    "- while"
   ]
  },
  {
   "cell_type": "code",
   "execution_count": 70,
   "metadata": {},
   "outputs": [
    {
     "name": "stdout",
     "output_type": "stream",
     "text": [
      "1\n",
      "2\n",
      "3\n",
      "4\n"
     ]
    }
   ],
   "source": [
    "# for in list\n",
    "a = [1,2,3,4,]\n",
    "\n",
    "# 挨个打印a里边的元素\n",
    "for i in a:\n",
    "    print(i)"
   ]
  },
  {
   "cell_type": "code",
   "execution_count": 72,
   "metadata": {},
   "outputs": [
    {
     "name": "stdout",
     "output_type": "stream",
     "text": [
      "1\n",
      "2\n",
      "3\n",
      "4\n"
     ]
    }
   ],
   "source": [
    "# java,C++ 程序员写的python代码是这样的 ???\n",
    "\n",
    "indx = 0\n",
    "for i in range(0,len(a)):\n",
    "    print(a[i])\n",
    "    i += 1"
   ]
  },
  {
   "cell_type": "code",
   "execution_count": 63,
   "metadata": {},
   "outputs": [
    {
     "name": "stdout",
     "output_type": "stream",
     "text": [
      "I love wangxiaobo\n"
     ]
    }
   ],
   "source": [
    "b = [\"I love wangxiaobo\"]\n",
    "\n",
    "for i in b:\n",
    "    print(i)\n",
    "    "
   ]
  },
  {
   "cell_type": "code",
   "execution_count": 65,
   "metadata": {},
   "outputs": [
    {
     "name": "stdout",
     "output_type": "stream",
     "text": [
      "1\n",
      "2\n",
      "3\n",
      "4\n",
      "5\n",
      "6\n",
      "7\n",
      "8\n",
      "9\n",
      "<class 'range'>\n"
     ]
    }
   ],
   "source": [
    "# range\n",
    "# in 后面的变量要求是可以迭代的内容\n",
    "for i in range(1,10):\n",
    "    print(i)\n",
    "print(type(range(1,10)))"
   ]
  },
  {
   "cell_type": "code",
   "execution_count": 68,
   "metadata": {},
   "outputs": [
    {
     "name": "stdout",
     "output_type": "stream",
     "text": [
      "1\n",
      "2\n",
      "3\n",
      "4\n",
      "5\n",
      "6\n"
     ]
    }
   ],
   "source": [
    "# while循环访问list\n",
    "# 一般不用while遍历list\n",
    "\n",
    "a = [1,2,3,4,5,6]\n",
    "length = len(a)\n",
    "# indx表示的是list的下标\n",
    "indx = 0\n",
    "while indx < length:\n",
    "    print(a[indx])\n",
    "    indx += 1"
   ]
  },
  {
   "cell_type": "code",
   "execution_count": 73,
   "metadata": {},
   "outputs": [
    {
     "ename": "ValueError",
     "evalue": "too many values to unpack (expected 2)",
     "output_type": "error",
     "traceback": [
      "\u001b[1;31m---------------------------------------------------------------------------\u001b[0m",
      "\u001b[1;31mValueError\u001b[0m                                Traceback (most recent call last)",
      "\u001b[1;32m<ipython-input-73-231ad36de5c6>\u001b[0m in \u001b[0;36m<module>\u001b[1;34m()\u001b[0m\n\u001b[0;32m      4\u001b[0m \u001b[0ma\u001b[0m \u001b[1;33m=\u001b[0m \u001b[1;33m[\u001b[0m\u001b[1;33m[\u001b[0m\u001b[1;34m\"one\"\u001b[0m\u001b[1;33m,\u001b[0m\u001b[1;36m1\u001b[0m\u001b[1;33m,\u001b[0m \u001b[1;34m\"eins\"\u001b[0m\u001b[1;33m]\u001b[0m\u001b[1;33m,\u001b[0m\u001b[1;33m[\u001b[0m\u001b[1;34m\"two\"\u001b[0m\u001b[1;33m,\u001b[0m\u001b[1;36m2\u001b[0m\u001b[1;33m]\u001b[0m\u001b[1;33m,\u001b[0m\u001b[1;33m[\u001b[0m\u001b[1;34m\"three\"\u001b[0m\u001b[1;33m,\u001b[0m\u001b[1;36m3\u001b[0m\u001b[1;33m,\u001b[0m\u001b[1;36m4\u001b[0m\u001b[1;33m,\u001b[0m\u001b[1;36m5\u001b[0m\u001b[1;33m,\u001b[0m\u001b[1;36m6\u001b[0m\u001b[1;33m,\u001b[0m\u001b[1;36m8\u001b[0m\u001b[1;33m]\u001b[0m\u001b[1;33m]\u001b[0m\u001b[1;33m\u001b[0m\u001b[0m\n\u001b[0;32m      5\u001b[0m \u001b[1;33m\u001b[0m\u001b[0m\n\u001b[1;32m----> 6\u001b[1;33m \u001b[1;32mfor\u001b[0m \u001b[0mk\u001b[0m\u001b[1;33m,\u001b[0m\u001b[0mv\u001b[0m \u001b[1;32min\u001b[0m \u001b[0ma\u001b[0m\u001b[1;33m:\u001b[0m\u001b[1;33m\u001b[0m\u001b[0m\n\u001b[0m\u001b[0;32m      7\u001b[0m     \u001b[0mprint\u001b[0m\u001b[1;33m(\u001b[0m\u001b[0mk\u001b[0m\u001b[1;33m,\u001b[0m \u001b[1;34m\"--\"\u001b[0m\u001b[1;33m,\u001b[0m \u001b[0mv\u001b[0m\u001b[1;33m)\u001b[0m\u001b[1;33m\u001b[0m\u001b[0m\n",
      "\u001b[1;31mValueError\u001b[0m: too many values to unpack (expected 2)"
     ]
    }
   ],
   "source": [
    "# 双层列表循环\n",
    "\n",
    "# a 为嵌套列表，或者叫双层列表\n",
    "a = [[\"one\",1, \"eins\"],[\"two\",2],[\"three\",3,4,5,6,8]]\n",
    "\n",
    "for k,v in a:\n",
    "    print(k, \"--\", v)"
   ]
  },
  {
   "cell_type": "code",
   "execution_count": 75,
   "metadata": {},
   "outputs": [
    {
     "name": "stdout",
     "output_type": "stream",
     "text": [
      "one -- 1 -- eins\n",
      "two -- 2 -- zwei\n",
      "three -- 3 -- drei\n"
     ]
    }
   ],
   "source": [
    "# 双层列表循环\n",
    "\n",
    "# a 为嵌套列表，或者叫双层列表\n",
    "a = [[\"one\",1, \"eins\"],[\"two\",2, \"zwei\"],[\"three\",3,\"drei\"]]\n",
    "# 这个例子说明，k,v,w的个数因该跟解包处理的变量个数一致\n",
    "for k,v, w in a:\n",
    "    print(k, \"--\", v, \"--\", w)"
   ]
  },
  {
   "cell_type": "markdown",
   "metadata": {},
   "source": [
    "## 列表内涵：list content\n",
    "- 通过简单方式创作列表"
   ]
  },
  {
   "cell_type": "code",
   "execution_count": 79,
   "metadata": {},
   "outputs": [
    {
     "name": "stdout",
     "output_type": "stream",
     "text": [
      "['a', 'b', 'c']\n"
     ]
    }
   ],
   "source": [
    "# for创建\n",
    "a = ['a','b','c']\n",
    "# 用list a 创建一个list b\n",
    "# 下面代码的含义是，对于所有a中的元素，逐个放入新列表中\n",
    "b = [i for i in a]\n",
    "print(b)"
   ]
  },
  {
   "cell_type": "code",
   "execution_count": 81,
   "metadata": {},
   "outputs": [
    {
     "name": "stdout",
     "output_type": "stream",
     "text": [
      "[10, 20, 30, 40, 50]\n"
     ]
    }
   ],
   "source": [
    "# 对a中所有元素乘以10，生成一个新列表\n",
    "a = [1,2,3,4,5]\n",
    "# 用list a 创建一个list b\n",
    "# 下面代码的含义是，对于所有a中的元素，逐个放入新列表中\n",
    "b = [i*10 for i in a]\n",
    "print(b)"
   ]
  },
  {
   "cell_type": "code",
   "execution_count": 82,
   "metadata": {},
   "outputs": [
    {
     "name": "stdout",
     "output_type": "stream",
     "text": [
      "[2, 4, 6, 8, 10, 12, 14, 16, 18, 20, 22, 24, 26, 28, 30, 32, 34]\n"
     ]
    }
   ],
   "source": [
    "# 还可以过滤原来list中的内容或放入新列表\n",
    "# 比如，原有列表a，需要把所有a中的偶数生成新的列表b\n",
    "\n",
    "a = [x for x in range(1,35)]#生成一个1到34的列表\n",
    "b = [m for m in a if m %2 == 0]\n",
    "print(b)"
   ]
  },
  {
   "cell_type": "code",
   "execution_count": 86,
   "metadata": {},
   "outputs": [
    {
     "name": "stdout",
     "output_type": "stream",
     "text": [
      "[1, 2, 3]\n",
      "[100, 200, 300]\n",
      "[101, 201, 301, 102, 202, 302, 103, 203, 303]\n"
     ]
    }
   ],
   "source": [
    "# 列表生成式可以嵌套\n",
    "# 由两个列表a,b\n",
    "a = [i for i in range(1,4)]\n",
    "print(a)\n",
    "\n",
    "b = [i for i in range(100,400) if i % 100 == 0]\n",
    "print(b)\n",
    "\n",
    "# 列表生成是可以嵌套的，此时等于两个for循环嵌套\n",
    "c = [ m+n for m in a for n in b]\n",
    "print(c)\n",
    "\n",
    "#上面代码跟下面的代码等价\n",
    "for n in a:\n",
    "    for n in b:\n",
    "        print(m+n, end=\"\")\n",
    "print()"
   ]
  },
  {
   "cell_type": "code",
   "execution_count": 88,
   "metadata": {},
   "outputs": [
    {
     "name": "stdout",
     "output_type": "stream",
     "text": [
      "[101, 201, 102, 202, 103, 203]\n"
     ]
    }
   ],
   "source": [
    "# 嵌套的列表生成式也可以用条件表达式\n",
    "c = [ m+n for m in a for n in b if m+n < 250]\n",
    "print(c)"
   ]
  },
  {
   "cell_type": "markdown",
   "metadata": {},
   "source": [
    "## 列表的函数\n"
   ]
  },
  {
   "cell_type": "code",
   "execution_count": 93,
   "metadata": {},
   "outputs": [
    {
     "name": "stdout",
     "output_type": "stream",
     "text": [
      "99\n",
      "99\n",
      "python\n"
     ]
    }
   ],
   "source": [
    "# len：求列表的长度\n",
    "a = [x for x in range(1,100)]\n",
    "print(len(a))\n",
    "\n",
    "# max：求列表的最大值\n",
    "print(max(a))\n",
    "\n",
    "b = [\"man\",\"python\",\"happy\"]\n",
    "print(max(b))"
   ]
  },
  {
   "cell_type": "code",
   "execution_count": 94,
   "metadata": {},
   "outputs": [
    {
     "name": "stdout",
     "output_type": "stream",
     "text": [
      "[1, 2, 3]\n"
     ]
    }
   ],
   "source": [
    "# list：将其他格式的数据转化成list\n",
    "a = [1,2,3]\n",
    "print(list(a))"
   ]
  },
  {
   "cell_type": "code",
   "execution_count": 97,
   "metadata": {},
   "outputs": [
    {
     "name": "stdout",
     "output_type": "stream",
     "text": [
      "['I', ' ', 'l', 'o', 'v', 'e', ' ', 'x', 'i', 'a', 'o', 'h', 'o', 'n', 'g']\n"
     ]
    }
   ],
   "source": [
    "s = \"I love xiaohong\"\n",
    "print(list(s))"
   ]
  },
  {
   "cell_type": "code",
   "execution_count": null,
   "metadata": {},
   "outputs": [],
   "source": []
  },
  {
   "cell_type": "code",
   "execution_count": 1,
   "metadata": {},
   "outputs": [
    {
     "name": "stdout",
     "output_type": "stream",
     "text": [
      "[2, 3, 4, 5, 6, 7, 8, 9, 10, 11]\n"
     ]
    }
   ],
   "source": [
    "# 把range产生内容转换成list\n",
    "print(list(range(2,12)))"
   ]
  },
  {
   "cell_type": "code",
   "execution_count": null,
   "metadata": {},
   "outputs": [],
   "source": []
  },
  {
   "cell_type": "code",
   "execution_count": 7,
   "metadata": {},
   "outputs": [
    {
     "name": "stdout",
     "output_type": "stream",
     "text": [
      "3 [1, 2, 3, 4, 5, 6]\n",
      "1 [1, 2, 200, 4, 5, 6]\n",
      "4 [1, 2, 200, 4, 5, 6]\n",
      "5 9\n",
      "2 109\n",
      "6 9\n"
     ]
    }
   ],
   "source": []
  },
  {
   "cell_type": "markdown",
   "metadata": {},
   "source": [
    "## 关于列表的函数"
   ]
  },
  {
   "cell_type": "code",
   "execution_count": 10,
   "metadata": {},
   "outputs": [
    {
     "name": "stdout",
     "output_type": "stream",
     "text": [
      "['a', 'I love xiaohong', 'apple', 'hello', 100, (5+4j)]\n"
     ]
    }
   ],
   "source": [
    "l = ['a', 'I love xiaohong', 'apple','hello',100, 5+4j ]\n",
    "print(l)"
   ]
  },
  {
   "cell_type": "code",
   "execution_count": 40,
   "metadata": {},
   "outputs": [
    {
     "name": "stdout",
     "output_type": "stream",
     "text": [
      "[1, 2, 3, 4, 5]\n",
      "[1, 2, 3, 4, 5, 100]\n"
     ]
    }
   ],
   "source": [
    "# append 插入一个内容，在末尾追加\n",
    "a = [i for i in range(1,6)]\n",
    "print(a)\n",
    "a.append(100)\n",
    "print(a)"
   ]
  },
  {
   "cell_type": "code",
   "execution_count": 41,
   "metadata": {},
   "outputs": [
    {
     "name": "stdout",
     "output_type": "stream",
     "text": [
      "[1, 2, 3, 4, 5, 100]\n",
      "[1, 2, 3, 22, 4, 5, 100]\n"
     ]
    }
   ],
   "source": [
    "# insert:指定位置插入\n",
    "# insert(index,data),插入位置index前面\n",
    "print(a)\n",
    "a.insert(3,22)\n",
    "print(a)"
   ]
  },
  {
   "cell_type": "code",
   "execution_count": 42,
   "metadata": {
    "scrolled": true
   },
   "outputs": [
    {
     "name": "stdout",
     "output_type": "stream",
     "text": [
      "100\n",
      "[1, 2, 3, 22, 4, 5]\n"
     ]
    }
   ],
   "source": [
    "# 删除\n",
    "# del 删除\n",
    "# pop ，从对位拿出一个元素，即把最后一个元素取出来\n",
    "last_ele = a.pop()\n",
    "print(last_ele)\n",
    "print(a)"
   ]
  },
  {
   "cell_type": "markdown",
   "metadata": {},
   "source": [
    "#### remove:在列表中删除指定位置的值的元素\n",
    "- 如果被删除的值没有在list中，则报错\n",
    "- 删除list指定值的操作应该使用try...excepty语句，或者先进行判断"
   ]
  },
  {
   "cell_type": "code",
   "execution_count": 43,
   "metadata": {},
   "outputs": [
    {
     "name": "stdout",
     "output_type": "stream",
     "text": [
      "[1, 2, 3, 22, 4, 5]\n",
      "2150700593736\n",
      "[1, 2, 3, 4, 5]\n",
      "2150700593736\n"
     ]
    }
   ],
   "source": [
    "print(a)\n",
    "print(id(a))\n",
    "a.remove(22)\n",
    "print(a)\n",
    "print(id(a))\n",
    "# 输出两个id值一样，说明，remove操作是在原list直接操作"
   ]
  },
  {
   "cell_type": "code",
   "execution_count": 44,
   "metadata": {},
   "outputs": [
    {
     "name": "stdout",
     "output_type": "stream",
     "text": [
      "[1, 2, 3, 4, 5]\n",
      "2150700593736\n",
      "[]\n",
      "2150700593736\n"
     ]
    }
   ],
   "source": [
    "#### clear:晴空\n",
    "print(a)\n",
    "print(id(a))\n",
    "a.clear()\n",
    "print(a)\n",
    "print(id(a))"
   ]
  },
  {
   "cell_type": "markdown",
   "metadata": {},
   "source": [
    "### 如果不需要列表地址保持不变，则清空列表可以使用赋值的方式\n",
    "- a = []\n",
    "- a = list()"
   ]
  },
  {
   "cell_type": "markdown",
   "metadata": {},
   "source": [
    "#### reverse：翻转"
   ]
  },
  {
   "cell_type": "code",
   "execution_count": 45,
   "metadata": {},
   "outputs": [
    {
     "name": "stdout",
     "output_type": "stream",
     "text": [
      "[1, 2, 3, 4, 5, 6]\n",
      "2150702128904\n",
      "[6, 5, 4, 3, 2, 1]\n",
      "2150702128904\n"
     ]
    }
   ],
   "source": [
    "a = [1,2,3,4,5,6]\n",
    "print(a)\n",
    "print(id(a))\n",
    "\n",
    "a.reverse()\n",
    "\n",
    "print(a)\n",
    "print(id(a))\n"
   ]
  },
  {
   "cell_type": "markdown",
   "metadata": {},
   "source": [
    "#### extend：扩展列表，两个列表，把一个直接拼接到后一个上"
   ]
  },
  {
   "cell_type": "code",
   "execution_count": 51,
   "metadata": {},
   "outputs": [
    {
     "name": "stdout",
     "output_type": "stream",
     "text": [
      "[1, 2, 3, 4, 5]\n",
      "2150702097672\n",
      "[1, 2, 3, 4, 5, 5, 6, 7, 8, 9]\n",
      "2150702097672\n"
     ]
    }
   ],
   "source": [
    "a = [1,2,3,4,5]\n",
    "b = [5,6,7,8,9]\n",
    "print(a)\n",
    "print(id(a))\n",
    "\n",
    "a.extend(b)\n",
    "\n",
    "print(a)\n",
    "print(id(a))"
   ]
  },
  {
   "cell_type": "markdown",
   "metadata": {},
   "source": [
    "#### count:查找列表中指定值或元素的个数"
   ]
  },
  {
   "cell_type": "code",
   "execution_count": 52,
   "metadata": {},
   "outputs": [
    {
     "name": "stdout",
     "output_type": "stream",
     "text": [
      "[1, 2, 3, 4, 5, 5, 6, 7, 8, 9]\n",
      "[1, 2, 3, 4, 8, 5, 5, 6, 7, 8, 9, 8]\n",
      "3\n"
     ]
    }
   ],
   "source": [
    "print(a)\n",
    "a.append(8)\n",
    "a.insert(4,8)\n",
    "print(a)\n",
    "a_len = a.count(8)\n",
    "print(a_len)"
   ]
  },
  {
   "cell_type": "markdown",
   "metadata": {},
   "source": [
    "#### copy：拷贝，浅拷贝"
   ]
  },
  {
   "cell_type": "code",
   "execution_count": 57,
   "metadata": {},
   "outputs": [
    {
     "name": "stdout",
     "output_type": "stream",
     "text": [
      "[1, 2, 3, 4, 5, 666]\n",
      "2150702126600\n",
      "[1, 2, 3, 777, 5, 666]\n",
      "2150702126600\n",
      "[1, 2, 3, 777, 5, 666]\n",
      "2150702126600\n",
      "[1, 2, 3, 777, 5, 666]\n",
      "2150701940168\n",
      "********************\n",
      "[1, 2, 3, 777, 5, 666]\n",
      "[1, 2, 3, 888, 5, 666]\n"
     ]
    }
   ],
   "source": [
    "# 列表类型变量赋值示例\n",
    "a = [1,2,3,4,5,666]\n",
    "print(a)\n",
    "# list类型，简单赋值操作，是传地址\n",
    "b = a\n",
    "b[3] = 777\n",
    "print(id(a))\n",
    "print(b)\n",
    "print(id(b))\n",
    "\n",
    "# 为了解决以上问题，list赋值需要采用copy函数\n",
    "b = a.copy()\n",
    "print(a)\n",
    "print(id(a))\n",
    "print(b)\n",
    "print(id(b))\n",
    "\n",
    "print(\"*\"*20)\n",
    "b[3] = 888\n",
    "print(a)\n",
    "print(b)"
   ]
  },
  {
   "cell_type": "markdown",
   "metadata": {},
   "source": [
    "#### 深拷贝跟浅拷贝的区别\n",
    "- 出现下列问题的原因是，copy 函数是一个浅拷贝函数，即只拷贝一层内容\n",
    "- 深拷贝需要使用特定工具"
   ]
  },
  {
   "cell_type": "code",
   "execution_count": 59,
   "metadata": {},
   "outputs": [
    {
     "name": "stdout",
     "output_type": "stream",
     "text": [
      "2150702125576\n",
      "2150702125896\n",
      "2150701940360\n",
      "2150701940360\n",
      "[1, 2, 3, [100, 200, 666]]\n",
      "[1, 2, 3, [100, 200, 666]]\n"
     ]
    }
   ],
   "source": [
    "a = [1,2,3,[100,200,300]]\n",
    "b = a.copy()\n",
    "print(id(a))\n",
    "print(id(b))\n",
    "print(id(a[3]))\n",
    "print(id(b[3]))\n",
    "# list[][] --> 列表[位置][位置]\n",
    "a[3][2] = 666\n",
    "print(a)\n",
    "print(b)"
   ]
  },
  {
   "cell_type": "code",
   "execution_count": null,
   "metadata": {},
   "outputs": [],
   "source": []
  },
  {
   "cell_type": "code",
   "execution_count": null,
   "metadata": {},
   "outputs": [],
   "source": []
  },
  {
   "cell_type": "code",
   "execution_count": null,
   "metadata": {},
   "outputs": [],
   "source": []
  }
 ],
 "metadata": {
  "kernelspec": {
   "display_name": "Python 3",
   "language": "python",
   "name": "python3"
  },
  "language_info": {
   "codemirror_mode": {
    "name": "ipython",
    "version": 3
   },
   "file_extension": ".py",
   "mimetype": "text/x-python",
   "name": "python",
   "nbconvert_exporter": "python",
   "pygments_lexer": "ipython3",
   "version": "3.7.0"
  }
 },
 "nbformat": 4,
 "nbformat_minor": 2
}
