{
 "cells": [
  {
   "cell_type": "code",
   "execution_count": null,
   "metadata": {},
   "outputs": [],
   "source": [
    "try:\n",
    "    Normal execution block\n",
    "except A:\n",
    "    Exception A handle\n",
    "except B:\n",
    "    Exception B handle\n",
    "except:\n",
    "    Other exception handle\n",
    "#可无，若有，则必有 except x 或 except 块存在，仅在 try 后无异常时执行\n",
    "else:                                    \n",
    "    if no exception, get here\n",
    "#此语句务必放在最后，并且也是必须执行的语句\n",
    "finally:\n",
    "    print(“finally”)\n"
   ]
  },
  {
   "cell_type": "code",
   "execution_count": null,
   "metadata": {},
   "outputs": [],
   "source": []
  },
  {
   "cell_type": "markdown",
   "metadata": {},
   "source": [
    "### try-except-finally结构"
   ]
  },
  {
   "cell_type": "code",
   "execution_count": 1,
   "metadata": {},
   "outputs": [
    {
     "ename": "SyntaxError",
     "evalue": "invalid syntax (<ipython-input-1-211b0cb97ca6>, line 6)",
     "output_type": "error",
     "traceback": [
      "\u001b[1;36m  File \u001b[1;32m\"<ipython-input-1-211b0cb97ca6>\"\u001b[1;36m, line \u001b[1;32m6\u001b[0m\n\u001b[1;33m    finally:\u001b[0m\n\u001b[1;37m          ^\u001b[0m\n\u001b[1;31mSyntaxError\u001b[0m\u001b[1;31m:\u001b[0m invalid syntax\n"
     ]
    }
   ],
   "source": [
    "try:\n",
    "    print(1/0)\n",
    "except Exception as e:\n",
    "    print(\"代码出现除0异常，这里进行处理！\")\n",
    "print(\"我还在运行！\")\n",
    "finally:\n",
    "    print(\"必须执行\")\n",
    "print(\"----------------------------------\")\n",
    "try:\n",
    "    print(\"这里没有异常！\")\n",
    "except Exception as e:\n",
    "    print(\"这句话不会输出\")\n",
    "finally:\n",
    "    print(\"这里是必须执行的\")\n"
   ]
  },
  {
   "cell_type": "code",
   "execution_count": null,
   "metadata": {},
   "outputs": [],
   "source": []
  },
  {
   "cell_type": "code",
   "execution_count": null,
   "metadata": {},
   "outputs": [],
   "source": []
  }
 ],
 "metadata": {
  "kernelspec": {
   "display_name": "Python 3",
   "language": "python",
   "name": "python3"
  },
  "language_info": {
   "codemirror_mode": {
    "name": "ipython",
    "version": 3
   },
   "file_extension": ".py",
   "mimetype": "text/x-python",
   "name": "python",
   "nbconvert_exporter": "python",
   "pygments_lexer": "ipython3",
   "version": "3.7.0"
  }
 },
 "nbformat": 4,
 "nbformat_minor": 2
}
