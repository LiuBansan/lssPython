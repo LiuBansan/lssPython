{
 "cells": [
  {
   "cell_type": "markdown",
   "metadata": {},
   "source": [
    "\n",
    "## 数组\n",
    "### 1. 多维数组\n",
    "- 一个ndarray是一个通用发多维同类数据容器，它可以是一维的，可以使二维的，可以是三维的，也可以滴更高维的。\n",
    "- 构成数组的元素是同质的，数组送的每一个只都具有相同的数据\n",
    "\n",
    "### 2. 数组创建\n",
    "- 如果想函数传入一个类表或者元组，讲构造简单的一个数组\n",
    "#### 一维数组\n",
    "        \n",
    "        # 导入模块，并重命名为np\n",
    "        import numpy ads np\n",
    "        \n",
    "        arr1 = np.array([1,2,3,4,5,6,7])\n",
    "        print(\"一维数组arr1：\",arr)\n",
    "        \n",
    "        arr2 = np.array([1,2,3,4,5,6,7,87,'a'])\n",
    "        print(\"一维数组arr2:{0}\".format(arr2))\n",
    "        \n",
    "        \n",
    "#### 二维数组\n",
    "\n",
    "        arr2 = np.array([\n",
    "                    [1,2,3,4,5],\n",
    "                    [11,12,13,14,15],\n",
    "                    [21,22,23,24,25],\n",
    "                    [31,32,33,34,35]])\n",
    "        print()\n",
    "\n",
    "\n",
    "### 3. 数组生产函数\n",
    " 1. array：将输入转换成为ndarray，但如果输入已经是ndarray则不再复制\n",
    " 2. arange：Python内件函数range的数组版，返回一个数组\n",
    " 3. ones：根据指定的形状和数据类型生成全都是1的数组\n",
    " 4. ones_like：根据所给的数据生成一个一模一样的全都是1的数组\n",
    " 5. zero：根据指定的形状和数据类型生成全都是0的数组\n",
    " 6. zero_like：根据所给的数据生成一个一模一样的全都是0的数组\n",
    " 7. empty：根据指定的形状和数据类型生成一个没有初始值的空数组\n",
    " 8. empty_like：根据所给的数据生成一个一模一样但是没有初始值的空数组\n",
    " 9. full：根据指定的形状和数据类型生成指定数值的数组\n",
    " 10. full_like：根据所给的数据生成一个一模一样但是指定数值的数组\n",
    " 11. eye.identity：生成一个特征矩形，对角线全是1，其他都是0\n",
    " \n",
    " \n",
    "### 4. 数组访问\n",
    "#### 位置索引\n",
    " - 可以通过正向索引、负向索引、切片索引和无限索引获取元素，在一维数组中，类表的所有索引方法都可以用在数组上\n",
    "#### 神奇索引\n",
    "- 一维数组中，可以将任意位置的索引组装为列表，用作对元素的或暗区，称之为神奇索引，它一其他的切片不同，它总是将数据复制到一个新的数组中。\n",
    "- **在二维数组中，位置索引必须写成\"[rows,cols]\"的形式，某一列或某一行的所有元素，用“ ：”代替**\n",
    "### 数组不规则访问\n",
    "- 如果要取二维数组的某几行，某几列，应该适应ix_()函数\n",
    "\n",
    "        # 第一行、第三行、最后一行，第二列、第三列、最后一列\n",
    "        print(arr2[np.ix_([0,2,-1],[1,2,-1])])\n",
    "### 5. 四则运算\n",
    "- 在numpy模块中，它允许对数组进行批量操作而无需任何for循环，这一操作也叫作向量化\n",
    "- 任何两个尺寸相同的数组之间，都可以进行批量操作，不同尺寸的数组之间的曹锁，则需要用到广播特性\n",
    "- 实现……\n",
    "\n",
    "### 6. 常用数学函数\n",
    "- np.e： 常熟e    \n",
    "-    \n",
    "        \n",
    "   "
   ]
  },
  {
   "cell_type": "markdown",
   "metadata": {},
   "source": [
    "#### 一维列表"
   ]
  },
  {
   "cell_type": "code",
   "execution_count": 5,
   "metadata": {},
   "outputs": [
    {
     "name": "stdout",
     "output_type": "stream",
     "text": [
      "[1 2 3 4 5 6]\n",
      "<class 'list'>\n",
      "<class 'numpy.ndarray'>\n"
     ]
    }
   ],
   "source": [
    "import numpy as np\n",
    "\n",
    "data = [1, 2, 3, 4, 5, 6]\n",
    "myarray1 = np.array(data)\n",
    "print(myarray1)\n",
    "\n",
    "print(type(data))\n",
    "print(type(myarray1))"
   ]
  },
  {
   "cell_type": "markdown",
   "metadata": {},
   "source": [
    "#### 二维列表"
   ]
  },
  {
   "cell_type": "code",
   "execution_count": 4,
   "metadata": {
    "scrolled": false
   },
   "outputs": [
    {
     "name": "stdout",
     "output_type": "stream",
     "text": [
      "[[11 12 13 14 15]\n",
      " [21 22 23 24 25]\n",
      " [31 32 33 34 35]\n",
      " [41 42 43 44 45]]\n",
      "<class 'list'>\n",
      "<class 'numpy.ndarray'>\n"
     ]
    }
   ],
   "source": [
    "data2 = ([[11,12,13,14,15],\n",
    "          [21,22,23,24,25],\n",
    "          [31,32,33,34,35],\n",
    "          [41,42,43,44,45]])\n",
    "myarray2 = np.array(data2)\n",
    "print(myarray2)\n",
    "print(type(data2))\n",
    "print(type(myarray2))"
   ]
  },
  {
   "cell_type": "code",
   "execution_count": null,
   "metadata": {},
   "outputs": [],
   "source": []
  },
  {
   "cell_type": "markdown",
   "metadata": {},
   "source": [
    "#### 三维列表"
   ]
  },
  {
   "cell_type": "code",
   "execution_count": 7,
   "metadata": {},
   "outputs": [
    {
     "name": "stdout",
     "output_type": "stream",
     "text": [
      "[[[ 1  2  3]\n",
      "  [ 4  5  6]\n",
      "  [ 7  8  9]]\n",
      "\n",
      " [[11 12 13]\n",
      "  [14 15 16]\n",
      "  [17 18 19]]\n",
      "\n",
      " [[21 22 23]\n",
      "  [24 25 26]\n",
      "  [27 28 29]]]\n",
      "<class 'list'>\n",
      "<class 'numpy.ndarray'>\n"
     ]
    }
   ],
   "source": [
    "data3 = [[[1, 2, 3],[4, 5, 6],[7, 8, 9]],\n",
    "         [[11, 12, 13],[14, 15, 16],[17, 18, 19]],\n",
    "         [[21, 22, 23],[24, 25, 26],[27, 28, 29]]]\n",
    "myarray3 = np.array(data3)\n",
    "print(myarray3)\n",
    "print(type(data3))\n",
    "print(type(myarray3))"
   ]
  },
  {
   "cell_type": "code",
   "execution_count": 10,
   "metadata": {
    "scrolled": true
   },
   "outputs": [
    {
     "name": "stdout",
     "output_type": "stream",
     "text": [
      "[[[ 2  4  6]\n",
      "  [ 8 10 12]\n",
      "  [14 16 18]]\n",
      "\n",
      " [[22 24 26]\n",
      "  [28 30 32]\n",
      "  [34 36 38]]\n",
      "\n",
      " [[42 44 46]\n",
      "  [48 50 52]\n",
      "  [54 56 58]]]\n"
     ]
    }
   ],
   "source": [
    "# 乘法运算\n",
    "print(myarray3 * 2)"
   ]
  },
  {
   "cell_type": "code",
   "execution_count": 14,
   "metadata": {},
   "outputs": [
    {
     "name": "stdout",
     "output_type": "stream",
     "text": [
      "[[[0 0 0]\n",
      "  [0 0 0]\n",
      "  [0 0 0]]\n",
      "\n",
      " [[0 0 0]\n",
      "  [0 0 0]\n",
      "  [0 0 0]]\n",
      "\n",
      " [[0 0 0]\n",
      "  [0 0 0]\n",
      "  [0 0 0]]]\n"
     ]
    }
   ],
   "source": [
    "print(np.where(myarray3>60, 90, 0))"
   ]
  },
  {
   "cell_type": "code",
   "execution_count": 1,
   "metadata": {},
   "outputs": [
    {
     "ename": "TypeError",
     "evalue": "data type not understood",
     "output_type": "error",
     "traceback": [
      "\u001b[1;31m---------------------------------------------------------------------------\u001b[0m",
      "\u001b[1;31mTypeError\u001b[0m                                 Traceback (most recent call last)",
      "\u001b[1;32m<ipython-input-1-25509f6f037e>\u001b[0m in \u001b[0;36m<module>\u001b[1;34m()\u001b[0m\n\u001b[0;32m      1\u001b[0m \u001b[1;32mimport\u001b[0m \u001b[0mnumpy\u001b[0m \u001b[1;32mas\u001b[0m \u001b[0mnp\u001b[0m\u001b[1;33m\u001b[0m\u001b[0m\n\u001b[1;32m----> 2\u001b[1;33m \u001b[0mmyarray4\u001b[0m \u001b[1;33m=\u001b[0m \u001b[0mnp\u001b[0m\u001b[1;33m.\u001b[0m\u001b[0mones\u001b[0m\u001b[1;33m(\u001b[0m\u001b[1;36m3\u001b[0m\u001b[1;33m,\u001b[0m \u001b[1;36m3\u001b[0m\u001b[1;33m)\u001b[0m\u001b[1;33m\u001b[0m\u001b[0m\n\u001b[0m",
      "\u001b[1;32mC:\\ProgramData\\Anaconda3\\lib\\site-packages\\numpy\\core\\numeric.py\u001b[0m in \u001b[0;36mones\u001b[1;34m(shape, dtype, order)\u001b[0m\n\u001b[0;32m    201\u001b[0m \u001b[1;33m\u001b[0m\u001b[0m\n\u001b[0;32m    202\u001b[0m     \"\"\"\n\u001b[1;32m--> 203\u001b[1;33m     \u001b[0ma\u001b[0m \u001b[1;33m=\u001b[0m \u001b[0mempty\u001b[0m\u001b[1;33m(\u001b[0m\u001b[0mshape\u001b[0m\u001b[1;33m,\u001b[0m \u001b[0mdtype\u001b[0m\u001b[1;33m,\u001b[0m \u001b[0morder\u001b[0m\u001b[1;33m)\u001b[0m\u001b[1;33m\u001b[0m\u001b[0m\n\u001b[0m\u001b[0;32m    204\u001b[0m     \u001b[0mmultiarray\u001b[0m\u001b[1;33m.\u001b[0m\u001b[0mcopyto\u001b[0m\u001b[1;33m(\u001b[0m\u001b[0ma\u001b[0m\u001b[1;33m,\u001b[0m \u001b[1;36m1\u001b[0m\u001b[1;33m,\u001b[0m \u001b[0mcasting\u001b[0m\u001b[1;33m=\u001b[0m\u001b[1;34m'unsafe'\u001b[0m\u001b[1;33m)\u001b[0m\u001b[1;33m\u001b[0m\u001b[0m\n\u001b[0;32m    205\u001b[0m     \u001b[1;32mreturn\u001b[0m \u001b[0ma\u001b[0m\u001b[1;33m\u001b[0m\u001b[0m\n",
      "\u001b[1;31mTypeError\u001b[0m: data type not understood"
     ]
    }
   ],
   "source": [
    "import numpy as np\n",
    "myarray4 = np.ones(3, 3)"
   ]
  },
  {
   "cell_type": "code",
   "execution_count": null,
   "metadata": {},
   "outputs": [],
   "source": []
  },
  {
   "cell_type": "code",
   "execution_count": null,
   "metadata": {},
   "outputs": [],
   "source": []
  }
 ],
 "metadata": {
  "kernelspec": {
   "display_name": "Python 3",
   "language": "python",
   "name": "python3"
  },
  "language_info": {
   "codemirror_mode": {
    "name": "ipython",
    "version": 3
   },
   "file_extension": ".py",
   "mimetype": "text/x-python",
   "name": "python",
   "nbconvert_exporter": "python",
   "pygments_lexer": "ipython3",
   "version": "3.7.0"
  }
 },
 "nbformat": 4,
 "nbformat_minor": 2
}
